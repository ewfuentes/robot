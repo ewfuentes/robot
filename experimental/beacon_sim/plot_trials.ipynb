{
 "cells": [
  {
   "cell_type": "code",
   "execution_count": null,
   "id": "73ca58e9",
   "metadata": {},
   "outputs": [],
   "source": [
    "%matplotlib notebook\n",
    "\n",
    "from experimental.beacon_sim import plot_trials\n",
    "import matplotlib.pyplot as plt\n",
    "import matplotlib as mpl\n",
    "import numpy as np\n",
    "import functools"
   ]
  },
  {
   "cell_type": "code",
   "execution_count": null,
   "id": "f3d6bc6a",
   "metadata": {},
   "outputs": [],
   "source": [
    "files = {\n",
    "    'baseline': '/tmp/beacon_sim_log/baseline.pb',\n",
    "    'baseline_100xBearingNoise_5xRangeNoise': '/tmp/beacon_sim_log/baseline_100xBearingNoise_5xRangeNoise.pb',\n",
    "    'baseline_100xBearingNoise_5xRangeNoise_100xHeadingProcessPerRtM': '/tmp/beacon_sim_log/baseline_100xBearingNoise_5xRangeNoise_100xHeadingProcessPerRtM.pb',\n",
    "    'new': '/tmp/results.pb'\n",
    "}\n",
    "\n",
    "results_by_label = {}\n",
    "covs_with_idx_by_label = {}\n",
    "for label, fname in files.items():\n",
    "    results_by_label[label] = plot_trials.load_results(fname)\n",
    "    covs = plot_trials.compute_covariance_size(results_by_label[label])\n",
    "    covs_with_idx = [(i, x) for i, x in enumerate(covs)]\n",
    "    covs_with_idx_by_label[label] = sorted(covs_with_idx, key=lambda x: x[1])"
   ]
  },
  {
   "cell_type": "code",
   "execution_count": null,
   "id": "975ea3cd",
   "metadata": {},
   "outputs": [],
   "source": [
    "plt.figure(figsize=(10, 6))\n",
    "for label, covs in covs_with_idx_by_label.items():\n",
    "    frac = np.linspace(0, 1, len(covs))\n",
    "    plt.plot([x for _, x in covs], range(len(covs)), label=label)\n",
    "plt.xlabel('|$\\Sigma$|')\n",
    "plt.ylabel('Fraction')\n",
    "plt.legend()"
   ]
  },
  {
   "cell_type": "code",
   "execution_count": null,
   "id": "22972793",
   "metadata": {},
   "outputs": [],
   "source": [
    "def missing_from_configuration(configuration, world_map):\n",
    "    idxs = []\n",
    "    for i in range(len(world_map.fixed_beacons.beacons)):\n",
    "        if configuration & (1 << i):\n",
    "            idxs.append(world_map.fixed_beacons.beacons[i].id)\n",
    "    return sorted(idxs)\n",
    "\n",
    "def plot_environment(road_map, world_map, plan, local_from_start, goal, configuration=None):\n",
    "    if configuration is None:\n",
    "        configuration = 0\n",
    "    missing_beacons = missing_from_configuration(configuration, world_map)\n",
    "        \n",
    "    # plot the road map\n",
    "    # Plot the edges\n",
    "    line_segments = []\n",
    "    for r in range(road_map.adj.num_rows):\n",
    "        for c in range(r+1, road_map.adj.num_cols):\n",
    "            idx = r * road_map.adj.num_cols + c\n",
    "            if (road_map.adj.data[idx] == 1):\n",
    "                line_segments.append([tuple(road_map.points[r].data), tuple(road_map.points[c].data)])\n",
    "    edges = mpl.collections.LineCollection(line_segments, colors=(0.8, 0.8, 0.6, 1.0))\n",
    "    ax = plt.gca()\n",
    "    ax.add_collection(edges)\n",
    "    \n",
    "    # Plot the plan\n",
    "    plan_points = []\n",
    "    for node_idx in plan:\n",
    "        if node_idx == -1:\n",
    "            plan_points.append(tuple(local_from_start.translation.data))\n",
    "        elif node_idx == -2:\n",
    "            plan_points.append((goal.x, goal.y))\n",
    "        else:\n",
    "            plan_points.append(tuple(road_map.points[node_idx].data))\n",
    "    plan_x = [pt[0] for pt in plan_points]\n",
    "    plan_y = [pt[1] for pt in plan_points]\n",
    "    plt.plot(plan_x, plan_y, 'b')\n",
    "    \n",
    "    # Plot the start\n",
    "    plt.plot(*local_from_start.translation.data, 'md', markersize=10)\n",
    "    \n",
    "    # Plot the goal\n",
    "    plt.plot(goal.x, goal.y, 'g*', markersize=15)\n",
    "    \n",
    "    # Plot the nodes\n",
    "    rm_x = [pt.data[0] for pt in road_map.points]\n",
    "    rm_y = [pt.data[1] for pt in road_map.points]\n",
    "    plt.plot(rm_x, rm_y, 'rs')\n",
    "    \n",
    "    TEXT_X_OFFSET = 0.2\n",
    "    TEXT_Y_OFFSET = 0.2\n",
    "#     for i, pt in enumerate(road_map.points):\n",
    "#         plt.text(pt.data[0] + TEXT_X_OFFSET, pt.data[1] + TEXT_Y_OFFSET, i)\n",
    "        \n",
    "    # Plot the beacons\n",
    "    beacon_xs = [beacon.pos_x_m for beacon in world_map.fixed_beacons.beacons if beacon.id not in missing_beacons]\n",
    "    beacon_ys = [beacon.pos_y_m for beacon in world_map.fixed_beacons.beacons if beacon.id not in missing_beacons]\n",
    "    beacon_ids = [beacon.id for beacon in world_map.fixed_beacons.beacons if beacon.id not in missing_beacons]\n",
    "    \n",
    "    for x, y, beacon_id in zip(beacon_xs, beacon_ys, beacon_ids):\n",
    "        plt.text(x + TEXT_X_OFFSET, y + TEXT_Y_OFFSET, beacon_id)\n",
    "    \n",
    "    plt.plot(beacon_xs, beacon_ys, 'b^')\n",
    "    plt.axis('equal')\n",
    "    "
   ]
  },
  {
   "cell_type": "code",
   "execution_count": null,
   "id": "ed934105",
   "metadata": {},
   "outputs": [],
   "source": [
    "plt.figure(figsize=(10,6))\n",
    "label = 'new'\n",
    "results = results_by_label[label]\n",
    "covs_with_idx = covs_with_idx_by_label[label]\n",
    "cov_idx = 12\n",
    "plot_environment(results.road_map, results.world_map_config, results.plan, results.local_from_start, results.goal, configuration=covs_with_idx[cov_idx][0])"
   ]
  },
  {
   "cell_type": "code",
   "execution_count": null,
   "id": "5a3d65de",
   "metadata": {},
   "outputs": [],
   "source": []
  }
 ],
 "metadata": {
  "kernelspec": {
   "display_name": "Python 3 (ipykernel)",
   "language": "python",
   "name": "python3"
  },
  "language_info": {
   "codemirror_mode": {
    "name": "ipython",
    "version": 3
   },
   "file_extension": ".py",
   "mimetype": "text/x-python",
   "name": "python",
   "nbconvert_exporter": "python",
   "pygments_lexer": "ipython3",
   "version": "3.10.6"
  }
 },
 "nbformat": 4,
 "nbformat_minor": 5
}
