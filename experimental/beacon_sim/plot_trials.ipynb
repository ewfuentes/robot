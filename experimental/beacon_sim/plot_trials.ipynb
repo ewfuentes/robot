{
 "cells": [
  {
   "cell_type": "code",
   "execution_count": null,
   "id": "73ca58e9",
   "metadata": {},
   "outputs": [],
   "source": [
    "%matplotlib notebook\n",
    "\n",
    "from experimental.beacon_sim import plot_trials\n",
    "import matplotlib.pyplot as plt\n",
    "import matplotlib as mpl\n",
    "import numpy as np\n",
    "import functools"
   ]
  },
  {
   "cell_type": "code",
   "execution_count": null,
   "id": "f3d6bc6a",
   "metadata": {},
   "outputs": [],
   "source": [
    "results = plot_trials.load_results('/tmp/beacon_sim_log/results.pb')\n",
    "covs = plot_trials.compute_covariance_size(results)"
   ]
  },
  {
   "cell_type": "code",
   "execution_count": null,
   "id": "22972793",
   "metadata": {},
   "outputs": [],
   "source": [
    "def plot_environment(road_map, world_map, plan):\n",
    "    \n",
    "    # Plot the edges\n",
    "    line_segments = []\n",
    "    for r in range(road_map.adj.num_rows):\n",
    "        for c in range(r+1, road_map.adj.num_cols):\n",
    "            idx = r * road_map.adj.num_cols + c\n",
    "            if (road_map.adj.data[idx] == 1):\n",
    "                line_segments.append([tuple(road_map.points[r].data), tuple(road_map.points[c].data)])\n",
    "    edges = mpl.collections.LineCollection(line_segments, colors=(0.8, 0.8, 0.6, 1.0))\n",
    "    ax = plt.gca()\n",
    "    ax.add_collection(edges)\n",
    "    \n",
    "    # plot the road map\n",
    "    rm_x = [pt.data[0] for pt in road_map.points]\n",
    "    rm_y = [pt.data[1] for pt in road_map.points]\n",
    "    plt.plot(rm_x, rm_y, 'rs')\n",
    "    \n",
    "    TEXT_X_OFFSET = 0.2\n",
    "    TEXT_Y_OFFSET = 0.2\n",
    "    for i, pt in enumerate(road_map.points):\n",
    "        plt.text(pt.data[0] + TEXT_X_OFFSET, pt.data[1] + TEXT_Y_OFFSET, i)\n",
    "        \n",
    "    # Plot the beacons\n",
    "    beacon_xs = [beacon.pos_x_m for beacon in world_map.fixed_beacons.beacons]\n",
    "    beacon_ys = [beacon.pos_y_m for beacon in world_map.fixed_beacons.beacons]\n",
    "    beacon_ids = [beacon.id for beacon in world_map.fixed_beacons.beacons]\n",
    "    \n",
    "    for x, y, beacon_id in zip(beacon_xs, beacon_ys, beacon_ids):\n",
    "        plt.text(x + TEXT_X_OFFSET, y + TEXT_Y_OFFSET, beacon_id)\n",
    "    \n",
    "    plt.plot(beacon_xs, beacon_ys, 'b^')\n",
    "    \n",
    "    "
   ]
  },
  {
   "cell_type": "code",
   "execution_count": null,
   "id": "1f3cfcd9",
   "metadata": {},
   "outputs": [],
   "source": [
    "len(results.road_map.points)"
   ]
  },
  {
   "cell_type": "code",
   "execution_count": null,
   "id": "ed934105",
   "metadata": {},
   "outputs": [],
   "source": [
    "plt.figure()\n",
    "plot_environment(results.road_map, results.world_map_config, None)"
   ]
  },
  {
   "cell_type": "code",
   "execution_count": null,
   "id": "c93fe1f0",
   "metadata": {},
   "outputs": [],
   "source": [
    "mat = plot_trials.matrix_from_proto(results.road_map.adj)"
   ]
  },
  {
   "cell_type": "code",
   "execution_count": null,
   "id": "7f48da5b",
   "metadata": {},
   "outputs": [],
   "source": [
    "np.where(mat[16, :])"
   ]
  },
  {
   "cell_type": "code",
   "execution_count": null,
   "id": "a6e83a6a",
   "metadata": {},
   "outputs": [],
   "source": [
    "covs = [(i, x) for i, x in enumerate(covs)]\n",
    "covs = sorted(covs, key=lambda x: x[1])"
   ]
  },
  {
   "cell_type": "code",
   "execution_count": null,
   "id": "886c6fb0",
   "metadata": {},
   "outputs": [],
   "source": [
    "plt.figure(figsize=(10, 6))\n",
    "frac = np.linspace(0, 1, len(covs))\n",
    "plt.plot([x for _, x in covs], range(len(covs)))\n",
    "plt.xlabel('|$\\Sigma$|')\n",
    "plt.ylabel('Fraction')"
   ]
  },
  {
   "cell_type": "code",
   "execution_count": null,
   "id": "ca763fcf",
   "metadata": {},
   "outputs": [],
   "source": [
    "hex(57577)"
   ]
  },
  {
   "cell_type": "code",
   "execution_count": null,
   "id": "712b1481",
   "metadata": {},
   "outputs": [],
   "source": [
    "covs[63500]"
   ]
  },
  {
   "cell_type": "code",
   "execution_count": null,
   "id": "6b4e3685",
   "metadata": {},
   "outputs": [],
   "source": [
    "bad_configs = [x[0] for x in covs if x[1] > 0.01]"
   ]
  },
  {
   "cell_type": "code",
   "execution_count": null,
   "id": "718348d4",
   "metadata": {},
   "outputs": [],
   "source": [
    "most_important = functools.reduce(lambda value, elem: value & elem, bad_configs, 65535)"
   ]
  },
  {
   "cell_type": "code",
   "execution_count": null,
   "id": "b42b89ba",
   "metadata": {},
   "outputs": [],
   "source": [
    "hex(most_important)"
   ]
  },
  {
   "cell_type": "code",
   "execution_count": null,
   "id": "d9c4a7d2",
   "metadata": {},
   "outputs": [],
   "source": []
  }
 ],
 "metadata": {
  "kernelspec": {
   "display_name": "Python 3 (ipykernel)",
   "language": "python",
   "name": "python3"
  },
  "language_info": {
   "codemirror_mode": {
    "name": "ipython",
    "version": 3
   },
   "file_extension": ".py",
   "mimetype": "text/x-python",
   "name": "python",
   "nbconvert_exporter": "python",
   "pygments_lexer": "ipython3",
   "version": "3.10.9"
  }
 },
 "nbformat": 4,
 "nbformat_minor": 5
}
