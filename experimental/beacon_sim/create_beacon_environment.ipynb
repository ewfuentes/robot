{
 "cells": [
  {
   "cell_type": "code",
   "execution_count": null,
   "id": "00966d1e",
   "metadata": {},
   "outputs": [],
   "source": [
    "%matplotlib ipympl\n",
    "\n",
    "import sys\n",
    "\n",
    "from experimental.beacon_sim import environment_builder as eb\n",
    "\n",
    "from experimental.beacon_sim.mapped_landmarks_pb2 import MappedLandmarks\n",
    "\n",
    "import numpy as np\n",
    "import matplotlib.pyplot as plt\n",
    "from spatialmath import SE2\n",
    "from pathlib import Path\n",
    "\n",
    "import importlib\n",
    "importlib.reload(eb)"
   ]
  },
  {
   "cell_type": "code",
   "execution_count": null,
   "id": "58242d40",
   "metadata": {},
   "outputs": [],
   "source": [
    "rngs = [np.random.default_rng(i) for i in range(6)]\n",
    "\n",
    "environments = [\n",
    "    [\n",
    "        # Driftwood are independent landmarks that are there with high probability\n",
    "        eb.Driftwood(0, 0, width_m = 200.0, height_m = 50.0, rng=rngs[0])\n",
    "    ],\n",
    "    # [\n",
    "    #     # Create a border on the top, bottom and right sides\n",
    "    #     eb.GridLandmark(SE2(0, 50, 0), num_rows=1, num_cols=20, spacing_m=10, p_beacon=0.99, p_no_beacons=0.01, beacon_ns='t'),\n",
    "    #     eb.GridLandmark(SE2(200, 50, -np.pi/2), num_rows=1, num_cols=5, spacing_m=10, p_beacon=0.99, p_no_beacons=0.01, beacon_ns='r'),\n",
    "    #     eb.GridLandmark(SE2(200, 0, np.pi), num_rows=1, num_cols=10, spacing_m=10, p_beacon=0.99, p_no_beacons=0.01, beacon_ns='b'),\n",
    "    # ],\n",
    "    # [\n",
    "    #     eb.Boardwalk(x_pos_m=180), # Boardwalk\n",
    "    #     eb.BeachChairs(x_pos_m=25.0, y_pos_m=15.0, width_m = 150.0, height_m = 10.0,  rng=rngs[2]),\n",
    "    #     eb.Driftwood(0, 0, width_m = 200.0, height_m = 5.0, rng=rngs[2]),\n",
    "    # ],\n",
    "    # [\n",
    "    #     # lifeguard chairs\n",
    "    #     eb.GridLandmark(SE2(25, 25, 0), num_rows=1, num_cols=3, spacing_m=75, p_beacon=0.9, p_no_beacons=0.9**3, beacon_ns='l'),\n",
    "    #     # Beach Chairs\n",
    "    #     eb.BeachChairs(x_pos_m=10, y_pos_m=10, height_m = 30, width_m=180, rng=rngs[3])\n",
    "    # ],\n",
    "    # [ eb.GridLandmark(SE2(x_pos_m, 40.0, 0.0), num_rows=1, num_cols=5, spacing_m=1.0, p_beacon=0.75, p_no_beacons=0.75**5, beacon_ns=ns)\n",
    "    #    for ns, x_pos_m in [('a', 25), ('b', 100), ('c', 175)]\n",
    "    # ] + [\n",
    "    #     eb.Driftwood(0, 0, width_m=200.0, height_m=20.0, rng=rngs[4])\n",
    "    # ],\n",
    "]"
   ]
  },
  {
   "cell_type": "code",
   "execution_count": null,
   "id": "d5dcafa9-a500-4dc6-8299-ab5b9c75d12e",
   "metadata": {},
   "outputs": [],
   "source": []
  },
  {
   "cell_type": "code",
   "execution_count": null,
   "id": "5d980d80-38d8-45c6-a8bc-e6084db95770",
   "metadata": {},
   "outputs": [],
   "source": [
    "for i, env in enumerate(environments):\n",
    "    eb.write_environment_to_file(Path(f'/tmp/env_{i}'), env)"
   ]
  },
  {
   "cell_type": "code",
   "execution_count": null,
   "id": "185fdb5a",
   "metadata": {},
   "outputs": [],
   "source": [
    "for env in environments:\n",
    "    fig, ax = plt.subplots(figsize=(10, 3))\n",
    "    eb.draw_landmarks(ax, env)\n",
    "    plt.xlim(-1, 201)\n",
    "    plt.ylim(-1, 51)\n"
   ]
  },
  {
   "cell_type": "code",
   "execution_count": null,
   "id": "357db970",
   "metadata": {
    "editable": true,
    "slideshow": {
     "slide_type": ""
    },
    "tags": []
   },
   "outputs": [],
   "source": [
    "map = MappedLandmarks()\n",
    "with open('/tmp/env_0/mapped_landmarks.pb', 'rb') as file_in:\n",
    "    map.ParseFromString(file_in.read())\n",
    "map"
   ]
  },
  {
   "cell_type": "code",
   "execution_count": null,
   "id": "95582b54-0dc6-427c-a3d4-7c5cca9a2f82",
   "metadata": {},
   "outputs": [],
   "source": []
  }
 ],
 "metadata": {
  "kernelspec": {
   "display_name": "Python 3 (ipykernel)",
   "language": "python",
   "name": "python3"
  },
  "language_info": {
   "codemirror_mode": {
    "name": "ipython",
    "version": 3
   },
   "file_extension": ".py",
   "mimetype": "text/x-python",
   "name": "python",
   "nbconvert_exporter": "python",
   "pygments_lexer": "ipython3",
   "version": "3.10.6"
  }
 },
 "nbformat": 4,
 "nbformat_minor": 5
}
