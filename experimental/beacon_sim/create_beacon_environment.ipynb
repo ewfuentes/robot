{
 "cells": [
  {
   "cell_type": "code",
   "execution_count": null,
   "id": "00966d1e",
   "metadata": {},
   "outputs": [],
   "source": [
    "%matplotlib notebook\n",
    "\n",
    "from experimental.beacon_sim import environment_builder as eb\n",
    "\n",
    "import numpy as np\n",
    "import matplotlib.pyplot as plt\n",
    "from spatialmath import SE2\n",
    "\n",
    "import importlib\n",
    "importlib.reload(eb)"
   ]
  },
  {
   "cell_type": "code",
   "execution_count": null,
   "id": "58242d40",
   "metadata": {},
   "outputs": [],
   "source": [
    "\n",
    "fig, ax = plt.subplots(figsize=(10, 3))\n",
    "\n",
    "rng = np.random.default_rng(1236)\n",
    "\n",
    "landmarks = [\n",
    "    eb.Boardwalk(x_pos_m=50, p_beacon=0.95, p_no_beacons=0.01, beacon_ns='b'), # Boardwalk\n",
    "    eb.DiffuseLandmark(SE2(25, 3, 0.0), width_m = 150.0, height_m = 10.0, density = 0.1, rng=rng), # Shells\n",
    "    eb.DiffuseLandmark(SE2(25, 15, 0.0), width_m = 150.0, height_m = 10.0, density = 0.02, rng=rng), # Beach Chairs\n",
    "    eb.GridLandmark(SE2(100, 45, 0.0), num_rows=1, num_cols=5, spacing_m = 0.5), # Bike Rack\n",
    "    eb.DiffuseLandmark(SE2(180, 10, 0.0), width_m = 2.0, height_m = 2.0, density=0.5, rng=rng), # Fishing Poles\n",
    "]\n",
    "eb.draw_landmarks(ax, landmarks)\n",
    "\n",
    "# plt.axis('equal')\n",
    "plt.xlim(0, 200)\n",
    "plt.ylim(0, 50)\n",
    "plt.show()\n"
   ]
  },
  {
   "cell_type": "code",
   "execution_count": null,
   "id": "3da9dbc6",
   "metadata": {},
   "outputs": [],
   "source": []
  }
 ],
 "metadata": {
  "kernelspec": {
   "display_name": "Python 3 (ipykernel)",
   "language": "python",
   "name": "python3"
  },
  "language_info": {
   "codemirror_mode": {
    "name": "ipython",
    "version": 3
   },
   "file_extension": ".py",
   "mimetype": "text/x-python",
   "name": "python",
   "nbconvert_exporter": "python",
   "pygments_lexer": "ipython3",
   "version": "3.10.6"
  }
 },
 "nbformat": 4,
 "nbformat_minor": 5
}
