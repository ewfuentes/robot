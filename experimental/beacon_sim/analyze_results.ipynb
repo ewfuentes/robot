{
 "cells": [
  {
   "cell_type": "code",
   "execution_count": null,
   "id": "08d9da99-16f6-4adb-a96e-22e11ab1f9b8",
   "metadata": {},
   "outputs": [],
   "source": [
    "# %matplotlib ipympl\n",
    "\n",
    "from experimental.beacon_sim.experiment_results_pb2 import ExperimentResult\n",
    "import pandas as pd\n",
    "from collections import defaultdict\n",
    "import matplotlib.pyplot as plt"
   ]
  },
  {
   "cell_type": "code",
   "execution_count": null,
   "id": "c8127f5d-9126-43a9-8aae-5f0cb140d6a1",
   "metadata": {},
   "outputs": [],
   "source": [
    "%ls /tmp/*.pb"
   ]
  },
  {
   "cell_type": "code",
   "execution_count": null,
   "id": "09ff6320-0d22-43d7-89a6-b511469af7a1",
   "metadata": {},
   "outputs": [],
   "source": [
    "file_name = '/tmp/compare_against_baseline_complex_env.pb'\n",
    "# file_name = \"/tmp/exp_2.pb\"\n",
    "# file_name = '/tmp/test_timing.pb'\n",
    "\n",
    "with open(file_name, 'rb') as file_in:\n",
    "    data = ExperimentResult()\n",
    "    data.ParseFromString(file_in.read())"
   ]
  },
  {
   "cell_type": "code",
   "execution_count": null,
   "id": "4858da8d-d1fc-43d4-b762-70cf02f83d5c",
   "metadata": {},
   "outputs": [],
   "source": [
    "def protobuf_to_df(pb):\n",
    "    out = defaultdict(list)\n",
    "    i = 0\n",
    "    for result in pb.results:\n",
    "        out['elapsed_time'].append(result.elapsed_time.count / 1e9)\n",
    "        out['trial_id'].append(result.trial_id)\n",
    "        out['planner_id'].append(result.planner_id)\n",
    "        if result.HasField('plan'):\n",
    "            out['plan'].append(list(result.plan.nodes))\n",
    "            out['log_prob_mass'].append(result.plan.log_prob_mass)\n",
    "            out['expected_det'].append(result.plan.expected_det)\n",
    "        else:\n",
    "            out['plan'].append(None)\n",
    "            out['log_prob_mass'].append(None)\n",
    "            out['expected_det'].append(None)\n",
    "    return pd.DataFrame(out)\n",
    "        "
   ]
  },
  {
   "cell_type": "code",
   "execution_count": null,
   "id": "cc048b55-71b4-49d8-be5b-23aaedf30fc4",
   "metadata": {},
   "outputs": [],
   "source": [
    "df = protobuf_to_df(data)\n",
    "planners = data.planner_names"
   ]
  },
  {
   "cell_type": "code",
   "execution_count": null,
   "id": "42e1f1fa-444d-4804-afc3-b03f754ab2d4",
   "metadata": {},
   "outputs": [],
   "source": [
    "data.planner_names"
   ]
  },
  {
   "cell_type": "code",
   "execution_count": null,
   "id": "8a53b80f-27c8-48d1-bdff-9ac9fbd66cea",
   "metadata": {},
   "outputs": [],
   "source": [
    "df"
   ]
  },
  {
   "cell_type": "code",
   "execution_count": null,
   "id": "e128731a-e542-48cd-83aa-1134bb2779d0",
   "metadata": {},
   "outputs": [],
   "source": [
    "\n",
    "\n",
    "plt.figure(figsize=(13,10))\n",
    "bins = np.linspace(0, 3, 1000)\n",
    "for i, g in df.groupby('planner_id'):\n",
    "    # if 'Landmark' in planners[i]:\n",
    "        plt.hist(g['expected_det'], density=True, histtype='step', label=planners[i], bins=bins, cumulative=True)\n",
    "    # if i > 1:\n",
    "    #     break\n",
    "plt.xlabel('Expected Determinant')\n",
    "plt.ylabel('Fraction')\n",
    "plt.legend()\n",
    "    # print(i, g)\n",
    "\n",
    "axes = df.plot.hist(by='planner_id', column='expected_det', bins=51, figsize=(13,10), sharex=True)\n",
    "for i, ax in enumerate(axes):\n",
    "    ax.set_yscale('log')\n",
    "    ax.set_title(planners[i])\n",
    "axes[-1].set_xlabel('Expected Determinant')\n",
    "plt.suptitle('Expected Determinant')\n",
    "plt.tight_layout()\n",
    "\n",
    "\n",
    "\n",
    "axes = df.plot.hist(by='planner_id', column='elapsed_time', bins=50, figsize=(13,10))\n",
    "for i, ax in enumerate(axes):\n",
    "    ax.set_yscale('log')\n",
    "    ax.set_title(planners[i])\n",
    "axes[-1].set_xlabel('Elapsed Time (s)')\n",
    "plt.suptitle('Elasped Time')\n",
    "plt.tight_layout()\n",
    "\n",
    "axes = df.plot.hist(by='planner_id', column='log_prob_mass', bins=50, figsize=(13,10))\n",
    "for i, ax in enumerate(axes):\n",
    "    ax.set_yscale('log')\n",
    "    ax.set_title(planners[i])\n",
    "axes[-1].set_xlabel('Log Prob Mass')\n",
    "plt.suptitle('Log Prob Mass')\n",
    "plt.tight_layout()"
   ]
  },
  {
   "cell_type": "code",
   "execution_count": null,
   "id": "0265e63f-ea38-409b-936f-4b7768043b0f",
   "metadata": {},
   "outputs": [],
   "source": [
    "import numpy as np\n",
    "np.exp(-1)"
   ]
  },
  {
   "cell_type": "code",
   "execution_count": null,
   "id": "310eca29-d7d6-490e-bffc-54b81a005aa7",
   "metadata": {},
   "outputs": [],
   "source": [
    "axes[0].set_yscale('log')"
   ]
  },
  {
   "cell_type": "code",
   "execution_count": null,
   "id": "87b2d11d-e0f1-498d-af44-4136ef25a334",
   "metadata": {},
   "outputs": [],
   "source": [
    "data"
   ]
  },
  {
   "cell_type": "code",
   "execution_count": null,
   "id": "7fb329b0-f6df-4225-b285-93d7a37e6bd7",
   "metadata": {},
   "outputs": [],
   "source": [
    "np.exp(-.7)"
   ]
  }
 ],
 "metadata": {
  "kernelspec": {
   "display_name": "Python 3 (ipykernel)",
   "language": "python",
   "name": "python3"
  },
  "language_info": {
   "codemirror_mode": {
    "name": "ipython",
    "version": 3
   },
   "file_extension": ".py",
   "mimetype": "text/x-python",
   "name": "python",
   "nbconvert_exporter": "python",
   "pygments_lexer": "ipython3",
   "version": "3.10.6"
  }
 },
 "nbformat": 4,
 "nbformat_minor": 5
}
