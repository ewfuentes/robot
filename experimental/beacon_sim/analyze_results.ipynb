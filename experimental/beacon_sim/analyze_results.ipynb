{
 "cells": [
  {
   "cell_type": "code",
   "execution_count": 36,
   "id": "08d9da99-16f6-4adb-a96e-22e11ab1f9b8",
   "metadata": {},
   "outputs": [],
   "source": [
    "%matplotlib ipympl\n",
    "\n",
    "from experimental.beacon_sim.experiment_results_pb2 import ExperimentResult\n",
    "from experimental.beacon_sim.world_map_config_pb2 import WorldMapConfig\n",
    "from experimental.beacon_sim.mapped_landmarks_pb2 import MappedLandmarks\n",
    "import planning.probabilistic_road_map_python as prmp\n",
    "\n",
    "import pandas as pd\n",
    "import pandas.io.formats.style\n",
    "\n",
    "from collections import defaultdict\n",
    "import matplotlib.pyplot as plt\n",
    "from IPython.display import display\n",
    "import ipywidgets\n",
    "import matplotlib as mpl\n",
    "import re\n",
    "\n",
    "mpl.style.use('ggplot')\n",
    "\n",
    "import seaborn as sns\n",
    "\n",
    "from pathlib import Path\n",
    "\n",
    "mpl.style.use('ggplot')\n",
    "\n",
    "import seaborn as sns\n",
    "\n",
    "from pathlib import Path\n",
    "\n",
    "import numpy as np\n",
    "\n",
    "import experimental.beacon_sim.ekf_slam_python as esp\n",
    "import experimental.beacon_sim.belief_road_map_planner_python as brmp\n",
    "import experimental.beacon_sim.beacon_potential_python as bpp\n",
    "import planning.probabilistic_road_map_python as prmp\n",
    "import common.time.robot_time_python as rtp\n",
    "import experimental.beacon_sim.robot_belief_python as rbp\n",
    "import common.liegroups.se2_python as se2\n"
   ]
  },
  {
   "cell_type": "code",
   "execution_count": null,
   "id": "acad5be0-f120-460a-835a-7fcf01c77227",
   "metadata": {},
   "outputs": [],
   "source": [
    "METRIC_NAME = 'prob_mass_in_region_regret'"
   ]
  },
  {
   "cell_type": "code",
   "execution_count": 37,
   "id": "09ff6320-0d22-43d7-89a6-b511469af7a1",
   "metadata": {},
   "outputs": [],
   "source": [
    "# file_name = '/tmp/compare_against_baseline_complex_env.pb'\n",
    "# file_name = '/tmp/test_timing.pb'\n",
    "results_dir = Path('/home/rrg/Desktop/david_results/')\n",
    "configs_dir = Path('/home/rrg/Desktop/david_results/Test_2_visits_and_paths_param/Test_2_pb_files/')\n",
    "results_files = sorted(results_dir.glob(\"*.pb\"))\n",
    "# file_name = \"/home/erick/scratch/beacon_sim/results/spatial_clus_dens_5.0E-04_p_beacon_0.75_p_no_beacon_0.50_lm_density_1.00E-01.pb\"\n",
    "protos_by_exp = {}\n",
    "configs_by_exp = {}\n",
    "\n",
    "for f in results_files:\n",
    "    with open(f, 'rb') as file_in:\n",
    "        data = ExperimentResult()\n",
    "        data.ParseFromString(file_in.read())\n",
    "        protos_by_exp[f.stem] = data\n",
    "\n",
    "        map_config_path = configs_dir / f.stem / data.experiment_config.map_config_path\n",
    "        road_map_path = configs_dir / f.stem / data.experiment_config.road_map_path\n",
    "        mapped_landmark_path = configs_dir / f.stem / data.experiment_config.ekf_state_path\n",
    "\n",
    "        wmc = WorldMapConfig()\n",
    "        wmc.ParseFromString(map_config_path.read_bytes())\n",
    "\n",
    "        assert road_map_path.exists()\n",
    "        map_proto = MappedLandmarks()\n",
    "        map_proto.ParseFromString(mapped_landmark_path.read_bytes())\n",
    "        configs_by_exp[f.stem] = {\n",
    "            'road_map': prmp.RoadMap.from_proto_string(road_map_path.read_bytes()),\n",
    "            'world_map_config': wmc,\n",
    "            'mapped_landmarks': map_proto,\n",
    "        }\n",
    "\n",
    "        "
   ]
  },
  {
   "cell_type": "code",
   "execution_count": 38,
   "id": "4858da8d-d1fc-43d4-b762-70cf02f83d5c",
   "metadata": {
    "editable": true,
    "slideshow": {
     "slide_type": ""
    },
    "tags": []
   },
   "outputs": [],
   "source": [
    "def protobuf_to_df(pb):\n",
    "    out = defaultdict(list)\n",
    "    i = 0\n",
    "\n",
    "    for result in pb.results:\n",
    "        planner_name = pb.planner_names[result.planner_id]\n",
    "        if planner_name.startswith('David'):\n",
    "            m = re.match(r\"^David Planner (FG)-(\\d+\\.\\d+) (MV)-(\\d+) (P)-(\\d+)\",planner_name)\n",
    "            out['planner_type'].append('David')\n",
    "            out['planner_size'].append(None)\n",
    "            out['favor_goal'].append(m.group(2))\n",
    "            out['max_visits'].append(m.group(4))\n",
    "            out['plans'].append(m.group(6))\n",
    "        else:\n",
    "            m = re.match(r'(.*?) BRM\\s?(\\d*)', planner_name)\n",
    "            out['planner_type'].append(m.group(1))\n",
    "            out['planner_size'].append(m.group(2) if len(m.group(2)) > 0 else '1')\n",
    "            out['favor_goal'].append(None)\n",
    "            out['max_visits'].append(None)\n",
    "            out['plans'].append(None)\n",
    "        \n",
    "        out['elapsed_time'].append(result.elapsed_time.count / 1e9)\n",
    "        out['trial_id'].append(result.trial_id)\n",
    "        out['planner_id'].append(result.planner_id)\n",
    "        out['planner_name'].append(planner_name)\n",
    "        out['start'].append(np.array(pb.start_goal[result.trial_id].start.data))\n",
    "        out['goal'].append(np.array(pb.start_goal[result.trial_id].goal.data))\n",
    "        out['timeout'].append(pb.experiment_config.plan_timeout_s)\n",
    "        if result.HasField('plan'):\n",
    "            out['plan'].append(list(result.plan.nodes))\n",
    "            out['log_prob_mass'].append(result.plan.log_prob_mass)\n",
    "            out['expected_size'].append(result.plan.expected_size)\n",
    "            out['expected_determinant'].append(result.plan.average_plan_metrics.expected_determinant)\n",
    "            out['expected_position_determinant'].append(result.plan.average_plan_metrics.expected_position_determinant)\n",
    "            out['prob_mass_in_region'].append(1-result.plan.average_plan_metrics.prob_mass_in_region)\n",
    "            out['prob_mass_in_region_regret'].append(-result.plan.average_plan_metrics.prob_mass_in_region_regret)\n",
    "        else:\n",
    "            out['plan'].append(None)\n",
    "            out['log_prob_mass'].append(None)\n",
    "            out['expected_size'].append(None)\n",
    "            out['expected_determinant'].append(None)\n",
    "            out['expected_position_determinant'].append(None)\n",
    "            out['prob_mass_in_region'].append(None)\n",
    "            out['prob_mass_in_region_regret'].append(None)\n",
    "    return pd.DataFrame(out)\n",
    "\n",
    "\n",
    "def extract_clusters_from_potential(potential_proto):\n",
    "    \n",
    "    potential_case = potential_proto.WhichOneof('potential_oneof')\n",
    "    if potential_case in ['correlated_beacon_potential', 'anticorrelated_potential', 'precision_matrix_potential']:\n",
    "        return [list(getattr(potential_proto, potential_case).members)]  \n",
    "    elif potential_case == 'combined_potential':\n",
    "        out = []\n",
    "        for pot in potential_proto.combined_potential.potentials:\n",
    "            out.extend(extract_clusters_from_potential(pot))\n",
    "        return out\n",
    "    print('unknown potential type', potential_case)\n",
    "    raise NotImplementedError\n",
    "    ...\n",
    "\n",
    "def plot_mapped_landmarks(mapped_landmarks, potential_proto):\n",
    "    # extract clusters from potential\n",
    "    clusters = extract_clusters_from_potential(potential_proto)\n",
    "    \n",
    "    ids = list(mapped_landmarks.beacon_ids)\n",
    "    for cluster in clusters:\n",
    "        xs = []\n",
    "        ys = []\n",
    "        for beacon_id in cluster:\n",
    "            idx = ids.index(beacon_id)\n",
    "            beacon_in_map = mapped_landmarks.beacon_in_local[idx]\n",
    "            xs.append(beacon_in_map.data[0])\n",
    "            ys.append(beacon_in_map.data[1])\n",
    "            # plt.text(beacon_in_map.data[0], beacon_in_map.data[1], f't_{ids[i]}')\n",
    "        plt.plot(xs, ys, 'o')\n",
    "\n",
    "def plot_road_map(road_map):\n",
    "    pts = np.stack(road_map.points())\n",
    "    plt.plot(pts[:, 0], pts[:, 1], '*')\n",
    "    for i, pt in enumerate(pts):\n",
    "        plt.text(*pt, str(i))\n",
    "\n",
    "    if road_map.has_start_goal():\n",
    "        for idx, marker in [(road_map.START_IDX, 'rs'), (road_map.GOAL_IDX, 'y*')]:\n",
    "            pt = road_map.point(idx)\n",
    "            plt.plot(*pt, marker)\n",
    "            \n",
    "\n",
    "    line_segments = []\n",
    "    for i in range(len(pts)):\n",
    "        for j in range(i+1, len(pts)):\n",
    "            if road_map.adj()[i, j] != 0:\n",
    "                line_segments.append([pts[i, :], pts[j,:]])\n",
    "\n",
    "    if road_map.has_start_goal():\n",
    "        for idx in [road_map.START_IDX, road_map.GOAL_IDX]:\n",
    "            pt = road_map.point(idx)\n",
    "            neighbors = road_map.neighbors(idx)\n",
    "            for _, neighbor_pt in neighbors:\n",
    "                line_segments.append([pt, neighbor_pt])\n",
    "    \n",
    "\n",
    "    edges = mpl.collections.LineCollection(line_segments, colors=(0.6, 0.8, 0.6, 1.0))\n",
    "    ax = plt.gca()\n",
    "    ax.add_collection(edges)\n",
    "\n",
    "def plot_plan(road_map, execution_df):\n",
    "    pts = [execution_df['start'].iloc[0]]\n",
    "    pts += [road_map.point(x) for x in execution_df.plan.iloc[0] if x >=0]\n",
    "    pts.append(execution_df['goal'].iloc[0])\n",
    "    pts = np.vstack(pts)\n",
    "\n",
    "    plt.plot(pts[:, 0], pts[:, 1], 'm')\n",
    "    plt.plot(pts[0, 0], pts[0, 1], 'gs')\n",
    "    plt.plot(pts[-1, 0], pts[-1, 1], 'rv')\n",
    "    ...\n",
    "\n",
    "    \n"
   ]
  },
  {
   "cell_type": "code",
   "execution_count": null,
   "id": "31618650-4ea9-4c11-a2f0-0befa70a9aff",
   "metadata": {},
   "outputs": [],
   "execution_count": 39,
   "id": "31618650-4ea9-4c11-a2f0-0befa70a9aff",
   "metadata": {
    "editable": true,
    "slideshow": {
     "slide_type": ""
    },
    "tags": []
   },
   "outputs": [
    {
     "ename": "ValueError",
     "evalue": "No objects to concatenate",
     "output_type": "error",
     "traceback": [
      "\u001b[0;31m---------------------------------------------------------------------------\u001b[0m",
      "\u001b[0;31mValueError\u001b[0m                                Traceback (most recent call last)",
      "Cell \u001b[0;32mIn[39], line 7\u001b[0m\n\u001b[1;32m      5\u001b[0m     sub_df[\u001b[38;5;124m'\u001b[39m\u001b[38;5;124mexp_type\u001b[39m\u001b[38;5;124m'\u001b[39m] \u001b[38;5;241m=\u001b[39m name\u001b[38;5;241m.\u001b[39msplit(\u001b[38;5;124m'\u001b[39m\u001b[38;5;124m_\u001b[39m\u001b[38;5;124m'\u001b[39m)[\u001b[38;5;241m0\u001b[39m]\n\u001b[1;32m      6\u001b[0m     sub_dfs\u001b[38;5;241m.\u001b[39mappend(sub_df)\n\u001b[0;32m----> 7\u001b[0m df \u001b[38;5;241m=\u001b[39m \u001b[43mpd\u001b[49m\u001b[38;5;241;43m.\u001b[39;49m\u001b[43mconcat\u001b[49m\u001b[43m(\u001b[49m\u001b[43msub_dfs\u001b[49m\u001b[43m)\u001b[49m\n\u001b[1;32m      8\u001b[0m df\u001b[38;5;241m.\u001b[39mreset_index(inplace\u001b[38;5;241m=\u001b[39m\u001b[38;5;28;01mTrue\u001b[39;00m)\n",
      "File \u001b[0;32m~/.cache/bazel/_bazel_rrg/c57e5cced278a73ae4b24e90b22a7669/execroot/robot/bazel-out/k8-fastbuild/bin/common/python/jupyter_notebook.runfiles/pip_3_10_pandas/site-packages/pandas/util/_decorators.py:331\u001b[0m, in \u001b[0;36mdeprecate_nonkeyword_arguments.<locals>.decorate.<locals>.wrapper\u001b[0;34m(*args, **kwargs)\u001b[0m\n\u001b[1;32m    325\u001b[0m \u001b[38;5;28;01mif\u001b[39;00m \u001b[38;5;28mlen\u001b[39m(args) \u001b[38;5;241m>\u001b[39m num_allow_args:\n\u001b[1;32m    326\u001b[0m     warnings\u001b[38;5;241m.\u001b[39mwarn(\n\u001b[1;32m    327\u001b[0m         msg\u001b[38;5;241m.\u001b[39mformat(arguments\u001b[38;5;241m=\u001b[39m_format_argument_list(allow_args)),\n\u001b[1;32m    328\u001b[0m         \u001b[38;5;167;01mFutureWarning\u001b[39;00m,\n\u001b[1;32m    329\u001b[0m         stacklevel\u001b[38;5;241m=\u001b[39mfind_stack_level(),\n\u001b[1;32m    330\u001b[0m     )\n\u001b[0;32m--> 331\u001b[0m \u001b[38;5;28;01mreturn\u001b[39;00m \u001b[43mfunc\u001b[49m\u001b[43m(\u001b[49m\u001b[38;5;241;43m*\u001b[39;49m\u001b[43margs\u001b[49m\u001b[43m,\u001b[49m\u001b[43m \u001b[49m\u001b[38;5;241;43m*\u001b[39;49m\u001b[38;5;241;43m*\u001b[39;49m\u001b[43mkwargs\u001b[49m\u001b[43m)\u001b[49m\n",
      "File \u001b[0;32m~/.cache/bazel/_bazel_rrg/c57e5cced278a73ae4b24e90b22a7669/execroot/robot/bazel-out/k8-fastbuild/bin/common/python/jupyter_notebook.runfiles/pip_3_10_pandas/site-packages/pandas/core/reshape/concat.py:368\u001b[0m, in \u001b[0;36mconcat\u001b[0;34m(objs, axis, join, ignore_index, keys, levels, names, verify_integrity, sort, copy)\u001b[0m\n\u001b[1;32m    146\u001b[0m \u001b[38;5;129m@deprecate_nonkeyword_arguments\u001b[39m(version\u001b[38;5;241m=\u001b[39m\u001b[38;5;28;01mNone\u001b[39;00m, allowed_args\u001b[38;5;241m=\u001b[39m[\u001b[38;5;124m\"\u001b[39m\u001b[38;5;124mobjs\u001b[39m\u001b[38;5;124m\"\u001b[39m])\n\u001b[1;32m    147\u001b[0m \u001b[38;5;28;01mdef\u001b[39;00m \u001b[38;5;21mconcat\u001b[39m(\n\u001b[1;32m    148\u001b[0m     objs: Iterable[NDFrame] \u001b[38;5;241m|\u001b[39m Mapping[HashableT, NDFrame],\n\u001b[0;32m   (...)\u001b[0m\n\u001b[1;32m    157\u001b[0m     copy: \u001b[38;5;28mbool\u001b[39m \u001b[38;5;241m=\u001b[39m \u001b[38;5;28;01mTrue\u001b[39;00m,\n\u001b[1;32m    158\u001b[0m ) \u001b[38;5;241m-\u001b[39m\u001b[38;5;241m>\u001b[39m DataFrame \u001b[38;5;241m|\u001b[39m Series:\n\u001b[1;32m    159\u001b[0m \u001b[38;5;250m    \u001b[39m\u001b[38;5;124;03m\"\"\"\u001b[39;00m\n\u001b[1;32m    160\u001b[0m \u001b[38;5;124;03m    Concatenate pandas objects along a particular axis.\u001b[39;00m\n\u001b[1;32m    161\u001b[0m \n\u001b[0;32m   (...)\u001b[0m\n\u001b[1;32m    366\u001b[0m \u001b[38;5;124;03m    1   3   4\u001b[39;00m\n\u001b[1;32m    367\u001b[0m \u001b[38;5;124;03m    \"\"\"\u001b[39;00m\n\u001b[0;32m--> 368\u001b[0m     op \u001b[38;5;241m=\u001b[39m \u001b[43m_Concatenator\u001b[49m\u001b[43m(\u001b[49m\n\u001b[1;32m    369\u001b[0m \u001b[43m        \u001b[49m\u001b[43mobjs\u001b[49m\u001b[43m,\u001b[49m\n\u001b[1;32m    370\u001b[0m \u001b[43m        \u001b[49m\u001b[43maxis\u001b[49m\u001b[38;5;241;43m=\u001b[39;49m\u001b[43maxis\u001b[49m\u001b[43m,\u001b[49m\n\u001b[1;32m    371\u001b[0m \u001b[43m        \u001b[49m\u001b[43mignore_index\u001b[49m\u001b[38;5;241;43m=\u001b[39;49m\u001b[43mignore_index\u001b[49m\u001b[43m,\u001b[49m\n\u001b[1;32m    372\u001b[0m \u001b[43m        \u001b[49m\u001b[43mjoin\u001b[49m\u001b[38;5;241;43m=\u001b[39;49m\u001b[43mjoin\u001b[49m\u001b[43m,\u001b[49m\n\u001b[1;32m    373\u001b[0m \u001b[43m        \u001b[49m\u001b[43mkeys\u001b[49m\u001b[38;5;241;43m=\u001b[39;49m\u001b[43mkeys\u001b[49m\u001b[43m,\u001b[49m\n\u001b[1;32m    374\u001b[0m \u001b[43m        \u001b[49m\u001b[43mlevels\u001b[49m\u001b[38;5;241;43m=\u001b[39;49m\u001b[43mlevels\u001b[49m\u001b[43m,\u001b[49m\n\u001b[1;32m    375\u001b[0m \u001b[43m        \u001b[49m\u001b[43mnames\u001b[49m\u001b[38;5;241;43m=\u001b[39;49m\u001b[43mnames\u001b[49m\u001b[43m,\u001b[49m\n\u001b[1;32m    376\u001b[0m \u001b[43m        \u001b[49m\u001b[43mverify_integrity\u001b[49m\u001b[38;5;241;43m=\u001b[39;49m\u001b[43mverify_integrity\u001b[49m\u001b[43m,\u001b[49m\n\u001b[1;32m    377\u001b[0m \u001b[43m        \u001b[49m\u001b[43mcopy\u001b[49m\u001b[38;5;241;43m=\u001b[39;49m\u001b[43mcopy\u001b[49m\u001b[43m,\u001b[49m\n\u001b[1;32m    378\u001b[0m \u001b[43m        \u001b[49m\u001b[43msort\u001b[49m\u001b[38;5;241;43m=\u001b[39;49m\u001b[43msort\u001b[49m\u001b[43m,\u001b[49m\n\u001b[1;32m    379\u001b[0m \u001b[43m    \u001b[49m\u001b[43m)\u001b[49m\n\u001b[1;32m    381\u001b[0m     \u001b[38;5;28;01mreturn\u001b[39;00m op\u001b[38;5;241m.\u001b[39mget_result()\n",
      "File \u001b[0;32m~/.cache/bazel/_bazel_rrg/c57e5cced278a73ae4b24e90b22a7669/execroot/robot/bazel-out/k8-fastbuild/bin/common/python/jupyter_notebook.runfiles/pip_3_10_pandas/site-packages/pandas/core/reshape/concat.py:425\u001b[0m, in \u001b[0;36m_Concatenator.__init__\u001b[0;34m(self, objs, axis, join, keys, levels, names, ignore_index, verify_integrity, copy, sort)\u001b[0m\n\u001b[1;32m    422\u001b[0m     objs \u001b[38;5;241m=\u001b[39m \u001b[38;5;28mlist\u001b[39m(objs)\n\u001b[1;32m    424\u001b[0m \u001b[38;5;28;01mif\u001b[39;00m \u001b[38;5;28mlen\u001b[39m(objs) \u001b[38;5;241m==\u001b[39m \u001b[38;5;241m0\u001b[39m:\n\u001b[0;32m--> 425\u001b[0m     \u001b[38;5;28;01mraise\u001b[39;00m \u001b[38;5;167;01mValueError\u001b[39;00m(\u001b[38;5;124m\"\u001b[39m\u001b[38;5;124mNo objects to concatenate\u001b[39m\u001b[38;5;124m\"\u001b[39m)\n\u001b[1;32m    427\u001b[0m \u001b[38;5;28;01mif\u001b[39;00m keys \u001b[38;5;129;01mis\u001b[39;00m \u001b[38;5;28;01mNone\u001b[39;00m:\n\u001b[1;32m    428\u001b[0m     objs \u001b[38;5;241m=\u001b[39m \u001b[38;5;28mlist\u001b[39m(com\u001b[38;5;241m.\u001b[39mnot_none(\u001b[38;5;241m*\u001b[39mobjs))\n",
      "\u001b[0;31mValueError\u001b[0m: No objects to concatenate"
     ]
    }
   ],
   "source": [
    "sub_dfs = []\n",
    "for name, proto in protos_by_exp.items():\n",
    "    sub_df = protobuf_to_df(proto)\n",
    "    sub_df['exp_name'] = name\n",
    "    sub_df['exp_type'] = name.split('_')[0]\n",
    "    sub_dfs.append(sub_df)\n",
    "df = pd.concat(sub_dfs)\n",
    "df.reset_index(inplace=True)"
   ]
  },
  {
   "cell_type": "code",
   "execution_count": 40,
   "id": "8a53b80f-27c8-48d1-bdff-9ac9fbd66cea",
   "metadata": {
    "editable": true,
    "slideshow": {
     "slide_type": ""
    },
    "tags": []
   },
   "outputs": [
    {
     "ename": "NameError",
     "evalue": "name 'df' is not defined",
     "output_type": "error",
     "traceback": [
      "\u001b[0;31m---------------------------------------------------------------------------\u001b[0m",
      "\u001b[0;31mNameError\u001b[0m                                 Traceback (most recent call last)",
      "Cell \u001b[0;32mIn[40], line 1\u001b[0m\n\u001b[0;32m----> 1\u001b[0m \u001b[43mdf\u001b[49m\n",
      "\u001b[0;31mNameError\u001b[0m: name 'df' is not defined"
     ]
    }
   ],
   "source": [
    "df"
   ]
  },
  {
   "cell_type": "code",
   "execution_count": 41,
   "id": "511ccee9-5c8a-4a3f-80af-adcaacca689c",
   "metadata": {
    "editable": true,
    "slideshow": {
     "slide_type": ""
    },
    "tags": []
   },
   "outputs": [],
   "source": [
    "def make_plots(df, cdf_fig, pdf_fig, exec_time_fig):\n",
    "    bins = np.linspace(0, 3, 1000)\n",
    "    plt.figure(cdf_fig)\n",
    "    plt.subplot(121)\n",
    "    plt.cla()\n",
    "    for i, g in df.groupby('planner_id'):\n",
    "        plt.hist(g['expected_det'], density=True, histtype='step', label=g['planner_name'].iloc[0], bins=bins, cumulative=True)\n",
    "        \n",
    "    plt.xlabel('Expected Determinant')\n",
    "    plt.ylabel('Fraction')\n",
    "    plt.legend()\n",
    "    plt.suptitle(df[\"exp_name\"].iloc[0])\n",
    "    plt.tight_layout()\n",
    "    \n",
    "\n",
    "    plt.figure(pdf_fig)\n",
    "    ax = plt.gca()\n",
    "    plt.cla()\n",
    "    axes = df.plot.hist(by='planner_name', column='expected_det', bins=50, ax=ax)\n",
    "    axes[-1].set_xlabel('Expected Determinant')\n",
    "    plt.suptitle('Expected Determinant')\n",
    "    plt.tight_layout()\n",
    "    \n",
    "    plt.figure(exec_time_fig)\n",
    "    ax = plt.gca()\n",
    "    plt.cla()\n",
    "    axes = df.plot.hist(by='planner_name', column='elapsed_time', bins=50, ax=ax)\n",
    "    for i, ax in enumerate(axes):\n",
    "        ax.set_yscale('log')\n",
    "\n",
    "    axes[-1].set_xlabel('Elapsed Time (s)')\n",
    "    plt.suptitle('Elasped Time')\n",
    "    plt.tight_layout()\n",
    "\n",
    "def make_trial_plot(trial_fig, trial_df):\n",
    "    plt.figure(trial_fig)\n",
    "    plt.subplot(122)\n",
    "    plt.cla()\n",
    "    exp_name = trial_df['exp_name'].iloc[0]\n",
    "    exp_configs = configs_by_exp[exp_name]\n",
    "    plot_mapped_landmarks(exp_configs['mapped_landmarks'], exp_configs['world_map_config'].correlated_beacons.potential)\n",
    "    plot_road_map(exp_configs['road_map'])\n",
    "    plot_plan(exp_configs['road_map'], trial_df)\n",
    "\n",
    "\n",
    "def plot_overview_results(df):\n",
    "    exps = np.unique(df['exp_name'])\n",
    "    exp_selector = ipywidgets.Dropdown(options=exps, description='experiment:')\n",
    "    trial_selector = ipywidgets.IntSlider(min=0, max=1, step=1, value=0, description='Trial Selector:', behavior='snap')\n",
    "    planner_selector = ipywidgets.Dropdown(options=[], description='planner:')\n",
    "    hbox = ipywidgets.HBox()\n",
    "    cdf_fig = plt.figure(figsize=(16, 8))\n",
    "    pdf_fig = plt.figure(figsize=(13,10))\n",
    "    exec_time_fig = plt.figure(figsize=(13,10))\n",
    "    # trial_fig = plt.figure(figsize=(8, 8))\n",
    "\n",
    "    def on_trial_or_planner_change(change):\n",
    "        exp_mask = df['exp_name'] == exp_selector.value\n",
    "        trial_mask = df['trial_id'] == trial_selector.value\n",
    "        planner_mask = df['planner_name'] == planner_selector.value\n",
    "        mask = exp_mask & trial_mask\n",
    "        execution_mask = mask & planner_mask\n",
    "\n",
    "        trial_df = df[mask]\n",
    "        #_ = display(trial_df, display_id='trial_df')\n",
    "        execution_df = df[execution_mask]\n",
    "        make_trial_plot(cdf_fig, execution_df)\n",
    "\n",
    "        \n",
    "    def on_instance_change(change):\n",
    "        selected_exp_name = exp_selector.value\n",
    "         \n",
    "        sub_df = df[df['exp_name'] == selected_exp_name]\n",
    "\n",
    "        trial_selector.min = 0\n",
    "        trial_selector.max = sub_df['trial_id'].max()\n",
    "        trial_selector.value = 0\n",
    "\n",
    "        planner_selector.options = np.unique(sub_df['planner_name'])\n",
    "        planner_selector.value = planner_selector.options[0]\n",
    "        \n",
    "        make_plots(sub_df, cdf_fig, pdf_fig, exec_time_fig)\n",
    "        on_trial_or_planner_change({})\n",
    "\n",
    "        \n",
    "    \n",
    "    hbox.children=(exp_selector, trial_selector, planner_selector)\n",
    "\n",
    "    exp_selector.observe(on_instance_change, 'value')\n",
    "    trial_selector.observe(on_trial_or_planner_change, 'value')\n",
    "    planner_selector.observe(on_trial_or_planner_change, 'value')\n",
    "    display(hbox)\n",
    "    on_instance_change({})\n",
    "    \n",
    "   "
   ]
  },
  {
   "cell_type": "code",
   "execution_count": 42,
   "id": "113902e8-8fd9-4b78-a784-5535b03b52ac",
   "metadata": {
    "editable": true,
    "slideshow": {
     "slide_type": ""
    },
    "tags": []
   },
   "outputs": [
    {
     "ename": "NameError",
     "evalue": "name 'df' is not defined",
     "output_type": "error",
     "traceback": [
      "\u001b[0;31m---------------------------------------------------------------------------\u001b[0m",
      "\u001b[0;31mNameError\u001b[0m                                 Traceback (most recent call last)",
      "Cell \u001b[0;32mIn[42], line 1\u001b[0m\n\u001b[0;32m----> 1\u001b[0m plot_overview_results(\u001b[43mdf\u001b[49m)\n\u001b[1;32m      4\u001b[0m \u001b[38;5;66;03m# axes = df.plot.hist(by='planner_id', column='log_prob_mass', bins=50, figsize=(13,10))\u001b[39;00m\n\u001b[1;32m      5\u001b[0m \u001b[38;5;66;03m# for i, ax in enumerate(axes):\u001b[39;00m\n\u001b[1;32m      6\u001b[0m \u001b[38;5;66;03m#     ax.set_yscale('log')\u001b[39;00m\n\u001b[0;32m   (...)\u001b[0m\n\u001b[1;32m      9\u001b[0m \u001b[38;5;66;03m# plt.suptitle('Log Prob Mass')\u001b[39;00m\n\u001b[1;32m     10\u001b[0m \u001b[38;5;66;03m# plt.tight_layout()\u001b[39;00m\n",
      "\u001b[0;31mNameError\u001b[0m: name 'df' is not defined"
     ]
    }
   ],
   "source": [
    "plot_overview_results(df)\n",
    "\n",
    "\n",
    "# axes = df.plot.hist(by='planner_id', column='log_prob_mass', bins=50, figsize=(13,10))\n",
    "# for i, ax in enumerate(axes):\n",
    "#     ax.set_yscale('log')\n",
    "#     ax.set_title(planners[i])\n",
    "# axes[-1].set_xlabel('Log Prob Mass')\n",
    "# plt.suptitle('Log Prob Mass')\n",
    "# plt.tight_layout()"
   ]
  },
  {
   "cell_type": "code",
   "execution_count": 43,
   "id": "1824496f-c5c5-4380-86c0-8be46ebfc3a6",
   "metadata": {
    "editable": true,
    "slideshow": {
     "slide_type": ""
    },
    "tags": []
   },
   "outputs": [
    {
     "ename": "NameError",
     "evalue": "name 'df' is not defined",
     "output_type": "error",
     "traceback": [
      "\u001b[0;31m---------------------------------------------------------------------------\u001b[0m",
      "\u001b[0;31mNameError\u001b[0m                                 Traceback (most recent call last)",
      "Cell \u001b[0;32mIn[43], line 55\u001b[0m\n\u001b[1;32m     47\u001b[0m     indep_exps_and_locs \u001b[38;5;241m=\u001b[39m [\n\u001b[1;32m     48\u001b[0m         (\u001b[38;5;124m'\u001b[39m\u001b[38;5;124mindep_p_beacon_0.25_lm_density_1.0E-02\u001b[39m\u001b[38;5;124m'\u001b[39m, \u001b[38;5;241m1\u001b[39m),\n\u001b[1;32m     49\u001b[0m         (\u001b[38;5;124m'\u001b[39m\u001b[38;5;124mindep_p_beacon_0.50_lm_density_1.0E-02\u001b[39m\u001b[38;5;124m'\u001b[39m, \u001b[38;5;241m2\u001b[39m),\n\u001b[1;32m     50\u001b[0m         (\u001b[38;5;124m'\u001b[39m\u001b[38;5;124mindep_p_beacon_0.75_lm_density_1.0E-02\u001b[39m\u001b[38;5;124m'\u001b[39m, \u001b[38;5;241m3\u001b[39m),\n\u001b[1;32m     51\u001b[0m         (\u001b[38;5;124m'\u001b[39m\u001b[38;5;124mindep_p_beacon_1.00_lm_density_1.0E-02\u001b[39m\u001b[38;5;124m'\u001b[39m, \u001b[38;5;241m4\u001b[39m),\n\u001b[1;32m     52\u001b[0m     ]\n\u001b[1;32m     54\u001b[0m     plt\u001b[38;5;241m.\u001b[39mfigure(figsize\u001b[38;5;241m=\u001b[39m(\u001b[38;5;241m10\u001b[39m,\u001b[38;5;241m12\u001b[39m))\n\u001b[0;32m---> 55\u001b[0m     \u001b[43mmake_summary_plots\u001b[49m\u001b[43m(\u001b[49m\u001b[43mindep_exps_and_locs\u001b[49m\u001b[43m,\u001b[49m\u001b[43m \u001b[49m\u001b[43mnum_rows\u001b[49m\u001b[38;5;241;43m=\u001b[39;49m\u001b[38;5;241;43m5\u001b[39;49m\u001b[43m,\u001b[49m\u001b[43m \u001b[49m\u001b[43mnum_cols\u001b[49m\u001b[38;5;241;43m=\u001b[39;49m\u001b[38;5;241;43m2\u001b[39;49m\u001b[43m,\u001b[49m\u001b[43m \u001b[49m\u001b[43msup_title\u001b[49m\u001b[38;5;241;43m=\u001b[39;49m\u001b[38;5;124;43m'\u001b[39;49m\u001b[38;5;124;43mindep\u001b[39;49m\u001b[38;5;124;43m'\u001b[39;49m\u001b[43m,\u001b[49m\u001b[43m \u001b[49m\u001b[43mtimeout\u001b[49m\u001b[38;5;241;43m=\u001b[39;49m\u001b[43mtimeout\u001b[49m\u001b[43m,\u001b[49m\u001b[43m \u001b[49m\u001b[43mfig_path\u001b[49m\u001b[38;5;241;43m=\u001b[39;49m\u001b[43mfig_path\u001b[49m\u001b[43m,\u001b[49m\u001b[43m \u001b[49m\u001b[43mto_remove\u001b[49m\u001b[38;5;241;43m=\u001b[39;49m\u001b[43m[\u001b[49m\u001b[38;5;124;43m'\u001b[39;49m\u001b[38;5;124;43mindep_\u001b[39;49m\u001b[38;5;124;43m'\u001b[39;49m\u001b[43m]\u001b[49m\u001b[43m)\u001b[49m\n\u001b[1;32m     58\u001b[0m \u001b[38;5;66;03m# for i, exp_df in df.groupby('exp_name'):\u001b[39;00m\n\u001b[1;32m     59\u001b[0m \u001b[38;5;66;03m#     plt.figure()\u001b[39;00m\n\u001b[1;32m     60\u001b[0m \u001b[38;5;66;03m#     sns.boxplot(x='planner_type',\u001b[39;00m\n\u001b[0;32m   (...)\u001b[0m\n\u001b[1;32m     65\u001b[0m \u001b[38;5;66;03m#     plt.title(exp_df['exp_name'].iloc[0])\u001b[39;00m\n\u001b[1;32m     66\u001b[0m     \u001b[38;5;66;03m# plt.tight_layout()\u001b[39;00m\n",
      "Cell \u001b[0;32mIn[43], line 14\u001b[0m, in \u001b[0;36mmake_summary_plots\u001b[0;34m(exps_and_locs, num_rows, num_cols, sup_title, timeout, to_remove, fig_path)\u001b[0m\n\u001b[1;32m     12\u001b[0m     exp_name \u001b[38;5;241m=\u001b[39m \u001b[38;5;124mf\u001b[39m\u001b[38;5;124m\"\u001b[39m\u001b[38;5;132;01m{\u001b[39;00mexp_name\u001b[38;5;132;01m}\u001b[39;00m\u001b[38;5;124m_timeout_\u001b[39m\u001b[38;5;132;01m{\u001b[39;00mtimeout\u001b[38;5;132;01m:\u001b[39;00m\u001b[38;5;124m02d\u001b[39m\u001b[38;5;132;01m}\u001b[39;00m\u001b[38;5;124m\"\u001b[39m\n\u001b[1;32m     13\u001b[0m plt\u001b[38;5;241m.\u001b[39msubplot(num_rows, num_cols, plot_id)\n\u001b[0;32m---> 14\u001b[0m exp_mask \u001b[38;5;241m=\u001b[39m \u001b[43mdf\u001b[49m[\u001b[38;5;124m'\u001b[39m\u001b[38;5;124mexp_name\u001b[39m\u001b[38;5;124m'\u001b[39m] \u001b[38;5;241m==\u001b[39m exp_name\n\u001b[1;32m     15\u001b[0m exp_df \u001b[38;5;241m=\u001b[39m df[exp_mask]\n\u001b[1;32m     16\u001b[0m \u001b[38;5;28;01mif\u001b[39;00m \u001b[38;5;129;01mnot\u001b[39;00m exp_df\u001b[38;5;241m.\u001b[39mempty:\n",
      "\u001b[0;31mNameError\u001b[0m: name 'df' is not defined"
     ]
    },
    {
     "data": {
      "application/vnd.jupyter.widget-view+json": {
       "model_id": "6220ec0dde254670ad4b58b20b6bcfcf",
       "version_major": 2,
       "version_minor": 0
      },
      "image/png": "[encoded data removed]",
      "text/html": [
       "\n",
       "            <div style=\"display: inline-block;\">\n",
       "                <div class=\"jupyter-widgets widget-label\" style=\"text-align: center;\">\n",
       "                    Figure\n",
       "                </div>\n",
       "                <img src='data:image/png;base64,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' width=1000.0/>\n",
       "            </div>\n",
       "        "
      ],
      "text/plain": [
       "Canvas(toolbar=Toolbar(toolitems=[('Home', 'Reset original view', 'home', 'home'), ('Back', 'Back to previous …"
      ]
     },
     "metadata": {},
     "output_type": "display_data"
    }
   ],
   "source": [
    "def make_summary_plots(exps_and_locs, num_rows, num_cols, sup_title, timeout=None, to_remove=None, fig_path=None):\n",
    "    if to_remove is None:\n",
    "        to_remove = []\n",
    "\n",
    "    if timeout:\n",
    "        to_remove.append(f'_timeout_{timeout:02d}')\n",
    "        sup_title = f\"{sup_title}_timeout_{timeout:04d}\"\n",
    "        \n",
    "    \n",
    "    for exp_name, plot_id in exps_and_locs:\n",
    "        if timeout:\n",
    "            exp_name = f\"{exp_name}_timeout_{timeout:02d}\"\n",
    "        plt.subplot(num_rows, num_cols, plot_id)\n",
    "        exp_mask = df['exp_name'] == exp_name\n",
    "        exp_df = df[exp_mask]\n",
    "        if not exp_df.empty:\n",
    "            ax = sns.boxplot(x='planner_type',\n",
    "                        y='expected_det',\n",
    "                        hue='favor_goal',#I assume I add something here?\n",
    "                        data=exp_df,\n",
    "                       legend=(plot_id==1))\n",
    "                \n",
    "            if plot_id == 1:\n",
    "                sns.move_legend(ax, 'upper left', bbox_to_anchor=(0.1, 1.0))\n",
    "        \n",
    "        plot_title = exp_name\n",
    "        for r in to_remove:\n",
    "            plot_title = plot_title.replace(r, '')\n",
    "            \n",
    "        plt.title(plot_title)\n",
    "        plt.xlabel('')\n",
    "        #plt.ylim(0, 3)\n",
    "\n",
    "        \n",
    "    plt.suptitle(sup_title)\n",
    "    plt.tight_layout()\n",
    "    if fig_path:\n",
    "        plt.savefig(fig_path / f\"summary_{sup_title}.svg\")\n",
    "\n",
    "    ...\n",
    "\n",
    "timeouts = [60]\n",
    "\n",
    "fig_path = None\n",
    "\n",
    "for timeout in timeouts:\n",
    "    indep_exps_and_locs = [\n",
    "        ('indep_p_beacon_0.25_lm_density_1.0E-02', 1),\n",
    "        ('indep_p_beacon_0.50_lm_density_1.0E-02', 2),\n",
    "        ('indep_p_beacon_0.75_lm_density_1.0E-02', 3),\n",
    "        ('indep_p_beacon_1.00_lm_density_1.0E-02', 4),\n",
    "    ]\n",
    "    \n",
    "    plt.figure(figsize=(10,12))\n",
    "    make_summary_plots(indep_exps_and_locs, num_rows=5, num_cols=2, sup_title='indep', timeout=timeout, fig_path=fig_path, to_remove=['indep_'])\n",
    "        \n",
    "\n",
    "# for i, exp_df in df.groupby('exp_name'):\n",
    "#     plt.figure()\n",
    "#     sns.boxplot(x='planner_type',\n",
    "#                 y='expected_det',\n",
    "#                 hue='planner_size',\n",
    "#                 data=exp_df)\n",
    "#     # exp_df.boxplot(column='expected_det', by=['planner_name'], rot=90)\n",
    "#     plt.title(exp_df['exp_name'].iloc[0])\n",
    "    # plt.tight_layout()"
   ]
  },
  {
   "cell_type": "code",
   "execution_count": 44,
   "id": "404f6a9b-ef33-45de-9b4f-69bc2e6ab290",
   "metadata": {},
   "outputs": [
    {
     "ename": "KeyError",
     "evalue": "'mutex_num_class_2_lm_density_1.00E-02'",
     "output_type": "error",
     "traceback": [
      "\u001b[0;31m---------------------------------------------------------------------------\u001b[0m",
      "\u001b[0;31mKeyError\u001b[0m                                  Traceback (most recent call last)",
      "Cell \u001b[0;32mIn[44], line 1\u001b[0m\n\u001b[0;32m----> 1\u001b[0m wmc \u001b[38;5;241m=\u001b[39m \u001b[43mconfigs_by_exp\u001b[49m\u001b[43m[\u001b[49m\u001b[38;5;124;43m'\u001b[39;49m\u001b[38;5;124;43mmutex_num_class_2_lm_density_1.00E-02\u001b[39;49m\u001b[38;5;124;43m'\u001b[39;49m\u001b[43m]\u001b[49m[\u001b[38;5;124m'\u001b[39m\u001b[38;5;124mworld_map_config\u001b[39m\u001b[38;5;124m'\u001b[39m]\n",
      "\u001b[0;31mKeyError\u001b[0m: 'mutex_num_class_2_lm_density_1.00E-02'"
     ]
    }
   ],
   "source": [
    "wmc = configs_by_exp['mutex_num_class_2_lm_density_1.00E-02']['world_map_config']"
   ]
  },
  {
   "cell_type": "code",
   "execution_count": 45,
   "id": "d738dba0-8a88-4eda-9fd9-0d062122a09e",
   "metadata": {},
   "outputs": [
    {
     "ename": "NameError",
     "evalue": "name 'wmc' is not defined",
     "output_type": "error",
     "traceback": [
      "\u001b[0;31m---------------------------------------------------------------------------\u001b[0m",
      "\u001b[0;31mNameError\u001b[0m                                 Traceback (most recent call last)",
      "Cell \u001b[0;32mIn[45], line 1\u001b[0m\n\u001b[0;32m----> 1\u001b[0m potential \u001b[38;5;241m=\u001b[39m \u001b[43mwmc\u001b[49m\u001b[38;5;241m.\u001b[39mcorrelated_beacons\u001b[38;5;241m.\u001b[39mpotential\n",
      "\u001b[0;31mNameError\u001b[0m: name 'wmc' is not defined"
     ]
    }
   ],
   "source": [
    "potential = wmc.correlated_beacons.potential"
   ]
  },
  {
   "cell_type": "code",
   "execution_count": 46,
   "id": "fa7078b8-9d36-4964-a69d-684ccab707ea",
   "metadata": {},
   "outputs": [
    {
     "ename": "FileNotFoundError",
     "evalue": "[Errno 2] No such file or directory: '/home/erick/scratch/beacon_sim/20240604/figs'",
     "output_type": "error",
     "traceback": [
      "\u001b[0;31m---------------------------------------------------------------------------\u001b[0m",
      "\u001b[0;31mFileNotFoundError\u001b[0m                         Traceback (most recent call last)",
      "Cell \u001b[0;32mIn[46], line 2\u001b[0m\n\u001b[1;32m      1\u001b[0m fig_dir \u001b[38;5;241m=\u001b[39m Path(\u001b[38;5;124m'\u001b[39m\u001b[38;5;124m/home/erick/scratch/beacon_sim/20240604/figs\u001b[39m\u001b[38;5;124m'\u001b[39m)\n\u001b[0;32m----> 2\u001b[0m \u001b[43mfig_dir\u001b[49m\u001b[38;5;241;43m.\u001b[39;49m\u001b[43mmkdir\u001b[49m\u001b[43m(\u001b[49m\u001b[43mexist_ok\u001b[49m\u001b[38;5;241;43m=\u001b[39;49m\u001b[38;5;28;43;01mTrue\u001b[39;49;00m\u001b[43m)\u001b[49m\n\u001b[1;32m      4\u001b[0m \u001b[38;5;28;01mfor\u001b[39;00m _, exp_df \u001b[38;5;129;01min\u001b[39;00m df\u001b[38;5;241m.\u001b[39mgroupby(\u001b[38;5;124m'\u001b[39m\u001b[38;5;124mexp_name\u001b[39m\u001b[38;5;124m'\u001b[39m):\n\u001b[1;32m      5\u001b[0m     exp_name \u001b[38;5;241m=\u001b[39m exp_df[\u001b[38;5;124m'\u001b[39m\u001b[38;5;124mexp_name\u001b[39m\u001b[38;5;124m'\u001b[39m]\u001b[38;5;241m.\u001b[39miloc[\u001b[38;5;241m0\u001b[39m]\n",
      "File \u001b[0;32m~/.cache/bazel/_bazel_rrg/c57e5cced278a73ae4b24e90b22a7669/external/python_3_10_x86_64-unknown-linux-gnu/lib/python3.10/pathlib.py:1175\u001b[0m, in \u001b[0;36mPath.mkdir\u001b[0;34m(self, mode, parents, exist_ok)\u001b[0m\n\u001b[1;32m   1171\u001b[0m \u001b[38;5;250m\u001b[39m\u001b[38;5;124;03m\"\"\"\u001b[39;00m\n\u001b[1;32m   1172\u001b[0m \u001b[38;5;124;03mCreate a new directory at this given path.\u001b[39;00m\n\u001b[1;32m   1173\u001b[0m \u001b[38;5;124;03m\"\"\"\u001b[39;00m\n\u001b[1;32m   1174\u001b[0m \u001b[38;5;28;01mtry\u001b[39;00m:\n\u001b[0;32m-> 1175\u001b[0m     \u001b[38;5;28;43mself\u001b[39;49m\u001b[38;5;241;43m.\u001b[39;49m\u001b[43m_accessor\u001b[49m\u001b[38;5;241;43m.\u001b[39;49m\u001b[43mmkdir\u001b[49m\u001b[43m(\u001b[49m\u001b[38;5;28;43mself\u001b[39;49m\u001b[43m,\u001b[49m\u001b[43m \u001b[49m\u001b[43mmode\u001b[49m\u001b[43m)\u001b[49m\n\u001b[1;32m   1176\u001b[0m \u001b[38;5;28;01mexcept\u001b[39;00m \u001b[38;5;167;01mFileNotFoundError\u001b[39;00m:\n\u001b[1;32m   1177\u001b[0m     \u001b[38;5;28;01mif\u001b[39;00m \u001b[38;5;129;01mnot\u001b[39;00m parents \u001b[38;5;129;01mor\u001b[39;00m \u001b[38;5;28mself\u001b[39m\u001b[38;5;241m.\u001b[39mparent \u001b[38;5;241m==\u001b[39m \u001b[38;5;28mself\u001b[39m:\n",
      "\u001b[0;31mFileNotFoundError\u001b[0m: [Errno 2] No such file or directory: '/home/erick/scratch/beacon_sim/20240604/figs'"
     ]
    }
   ],
   "source": [
    "fig_dir = Path('/home/erick/scratch/beacon_sim/20240604/figs')\n",
    "fig_dir.mkdir(exist_ok=True)\n",
    "\n",
    "for _, exp_df in df.groupby('exp_name'):\n",
    "    exp_name = exp_df['exp_name'].iloc[0]\n",
    "    fig = plt.figure(figsize=(25.6, 9.6))\n",
    "    plt.subplot(121)\n",
    "    bins = np.linspace(0, 3, 1000)\n",
    "    for i, g in exp_df.groupby('planner_id'):\n",
    "        plt.hist(g['expected_det'], density=True, histtype='step', label=g['planner_name'].iloc[0], bins=bins, cumulative=True)\n",
    "        \n",
    "    plt.xlabel('Expected Determinant')\n",
    "    plt.ylabel('Fraction')\n",
    "    plt.legend()\n",
    "    plt.suptitle(exp_name)\n",
    "\n",
    "    plt.subplot(122)\n",
    "    exp_configs = configs_by_exp[exp_name]\n",
    "    plot_mapped_landmarks(exp_configs['mapped_landmarks'], exp_configs['world_map_config'].correlated_beacons.potential)\n",
    "    plot_road_map(exp_configs['road_map'])\n",
    "    plt.xlabel('X (m)')\n",
    "    plt.ylabel('Y (m)')\n",
    "    plt.tight_layout()\n",
    "    plt.savefig(fig_dir / (exp_name + '.svg'))\n",
    "    plt.close(fig)\n",
    "    "
   ]
  },
  {
   "cell_type": "code",
   "execution_count": 47,
   "id": "912729b2-9e9d-49ee-9e5c-65a58afe9795",
   "metadata": {},
   "outputs": [],
   "source": [
    "### exp_df.exp_name[0]"
   ]
  },
  {
   "cell_type": "code",
   "execution_count": 48,
   "id": "45bb71e7-6695-428a-a336-82d5d9e01c13",
   "metadata": {},
   "outputs": [
    {
     "data": {
      "text/plain": [
       "array([12.,  6.])"
      ]
     },
     "execution_count": 48,
     "metadata": {},
     "output_type": "execute_result"
    }
   ],
   "source": [
    "fig.get_size_inches()"
   ]
  },
  {
   "cell_type": "code",
   "execution_count": 49,
   "id": "2b1ca511-7822-43d4-8f8a-e58379932df8",
   "metadata": {},
   "outputs": [
    {
     "data": {
      "text/plain": [
       "\u001b[0;31mDocstring:\u001b[0m\n",
       "getattr(object, name[, default]) -> value\n",
       "\n",
       "Get a named attribute from an object; getattr(x, 'y') is equivalent to x.y.\n",
       "When a default argument is given, it is returned when the attribute doesn't\n",
       "exist; without it, an exception is raised in that case.\n",
       "\u001b[0;31mType:\u001b[0m      builtin_function_or_method"
      ]
     },
     "metadata": {},
     "output_type": "display_data"
    }
   ],
   "source": [
    "getattr?"
   ]
  },
  {
   "cell_type": "code",
   "execution_count": 50,
   "id": "97009d75-87c9-4747-9f26-5d105352805e",
   "metadata": {},
   "outputs": [
    {
     "data": {
      "text/plain": [
       "'3.6.2'"
      ]
     },
     "execution_count": 50,
     "metadata": {},
     "output_type": "execute_result"
    }
   ],
   "source": [
    "mpl.__version__"
   ]
  },
  {
   "cell_type": "code",
   "execution_count": 51,
   "id": "5c49dcc8-d8d4-4b2b-a511-fe313212b593",
   "metadata": {},
   "outputs": [
    {
     "ename": "KeyError",
     "evalue": "'spatial_clus_dens_1.0E-03_p_beacon_0.50_p_no_beacon_0.50_lm_density_1.00E-01_timeout_30'",
     "output_type": "error",
     "traceback": [
      "\u001b[0;31m---------------------------------------------------------------------------\u001b[0m",
      "\u001b[0;31mKeyError\u001b[0m                                  Traceback (most recent call last)",
      "Cell \u001b[0;32mIn[51], line 6\u001b[0m\n\u001b[1;32m      4\u001b[0m gs \u001b[38;5;241m=\u001b[39m mpl\u001b[38;5;241m.\u001b[39mgridspec\u001b[38;5;241m.\u001b[39mGridSpec(\u001b[38;5;241m3\u001b[39m, \u001b[38;5;241m2\u001b[39m)\n\u001b[1;32m      5\u001b[0m ax \u001b[38;5;241m=\u001b[39m fig\u001b[38;5;241m.\u001b[39madd_subplot(gs[:, \u001b[38;5;241m1\u001b[39m])\n\u001b[0;32m----> 6\u001b[0m exp_configs \u001b[38;5;241m=\u001b[39m \u001b[43mconfigs_by_exp\u001b[49m\u001b[43m[\u001b[49m\u001b[43mexp_name_template\u001b[49m\u001b[38;5;241;43m.\u001b[39;49m\u001b[43mformat\u001b[49m\u001b[43m(\u001b[49m\u001b[38;5;241;43m30\u001b[39;49m\u001b[43m)\u001b[49m\u001b[43m]\u001b[49m\n\u001b[1;32m      7\u001b[0m plot_mapped_landmarks(exp_configs[\u001b[38;5;124m'\u001b[39m\u001b[38;5;124mmapped_landmarks\u001b[39m\u001b[38;5;124m'\u001b[39m], exp_configs[\u001b[38;5;124m'\u001b[39m\u001b[38;5;124mworld_map_config\u001b[39m\u001b[38;5;124m'\u001b[39m]\u001b[38;5;241m.\u001b[39mcorrelated_beacons\u001b[38;5;241m.\u001b[39mpotential)\n\u001b[1;32m      8\u001b[0m plot_road_map(exp_configs[\u001b[38;5;124m'\u001b[39m\u001b[38;5;124mroad_map\u001b[39m\u001b[38;5;124m'\u001b[39m])\n",
      "\u001b[0;31mKeyError\u001b[0m: 'spatial_clus_dens_1.0E-03_p_beacon_0.50_p_no_beacon_0.50_lm_density_1.00E-01_timeout_30'"
     ]
    },
    {
     "name": "stderr",
     "output_type": "stream",
     "text": [
      "/home/rrg/.cache/bazel/_bazel_rrg/c57e5cced278a73ae4b24e90b22a7669/execroot/robot/bazel-out/k8-fastbuild/bin/common/python/jupyter_notebook.runfiles/pip_3_10_ipympl/site-packages/ipympl/backend_nbagg.py:336: UserWarning: There are no gridspecs with layoutgrids. Possibly did not call parent GridSpec with the \"figure\" keyword\n",
      "  self.figure.savefig(buf, format='png', dpi='figure')\n"
     ]
    },
    {
     "data": {
      "application/vnd.jupyter.widget-view+json": {
       "model_id": "1b17c8aadafd4e7da1fdc8c890cac4d5",
       "version_major": 2,
       "version_minor": 0
      },
      "image/png": "[encoded data removed]",
      "text/html": [
       "\n",
       "            <div style=\"display: inline-block;\">\n",
       "                <div class=\"jupyter-widgets widget-label\" style=\"text-align: center;\">\n",
       "                    Figure\n",
       "                </div>\n",
       "                <img src='data:image/png;base64,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' width=1200.0/>\n",
       "            </div>\n",
       "        "
      ],
      "text/plain": [
       "Canvas(toolbar=Toolbar(toolitems=[('Home', 'Reset original view', 'home', 'home'), ('Back', 'Back to previous …"
      ]
     },
     "metadata": {},
     "output_type": "display_data"
    }
   ],
   "source": [
    "exp_name_template = 'spatial_clus_dens_1.0E-03_p_beacon_0.50_p_no_beacon_0.50_lm_density_1.00E-01_timeout_{:02d}'\n",
    "\n",
    "fig =  plt.figure(constrained_layout=True, figsize=(12,6))\n",
    "gs = mpl.gridspec.GridSpec(3, 2)\n",
    "ax = fig.add_subplot(gs[:, 1])\n",
    "exp_configs = configs_by_exp[exp_name_template.format(30)]\n",
    "plot_mapped_landmarks(exp_configs['mapped_landmarks'], exp_configs['world_map_config'].correlated_beacons.potential)\n",
    "plot_road_map(exp_configs['road_map'])\n",
    "plt.xlabel('X (m)')\n",
    "plt.ylabel('Y (m)')\n",
    "# plot_plan(exp_configs['road_map'], trial_df)\n",
    "\n",
    "for plot_id, timeout in enumerate([30, 60, 3600]):\n",
    "    ax = fig.add_subplot(gs[plot_id, 0])\n",
    "    \n",
    "    exp_name = exp_name_template.format(timeout)\n",
    "    mask = df['exp_name'] == exp_name\n",
    "    exp_df = df[mask]\n",
    "    sns.boxplot(x='planner_type',\n",
    "                        y='expected_det',\n",
    "                        hue='planner_size',\n",
    "                        data=exp_df,\n",
    "                       legend=(plot_id==0))\n",
    "\n",
    "    plt.xlabel('')\n",
    "    plt.title(f'{timeout:02d} s timeout')\n",
    "    if plot_id == 0:\n",
    "        sns.move_legend(ax, 'upper left', bbox_to_anchor=(0.1, 1.0))\n",
    "    plt.ylim(0, 1.25)\n",
    "\n",
    "plt.suptitle('Landmark Clusters P(Beacon Present)=0.5 P(Beacon | Beacon Present) = 0.5')\n",
    "\n",
    "plt.tight_layout()\n"
   ]
  },
  {
   "cell_type": "code",
   "execution_count": 52,
   "id": "27731f2a-07b4-4310-867d-986de82f1c98",
   "metadata": {},
   "outputs": [
    {
     "ename": "KeyError",
     "evalue": "'mutex_num_class_4_lm_density_1.00E-02_timeout_30'",
     "output_type": "error",
     "traceback": [
      "\u001b[0;31m---------------------------------------------------------------------------\u001b[0m",
      "\u001b[0;31mKeyError\u001b[0m                                  Traceback (most recent call last)",
      "Cell \u001b[0;32mIn[52], line 6\u001b[0m\n\u001b[1;32m      4\u001b[0m gs \u001b[38;5;241m=\u001b[39m mpl\u001b[38;5;241m.\u001b[39mgridspec\u001b[38;5;241m.\u001b[39mGridSpec(\u001b[38;5;241m3\u001b[39m, \u001b[38;5;241m2\u001b[39m)\n\u001b[1;32m      5\u001b[0m ax \u001b[38;5;241m=\u001b[39m fig\u001b[38;5;241m.\u001b[39madd_subplot(gs[:, \u001b[38;5;241m1\u001b[39m])\n\u001b[0;32m----> 6\u001b[0m exp_configs \u001b[38;5;241m=\u001b[39m \u001b[43mconfigs_by_exp\u001b[49m\u001b[43m[\u001b[49m\u001b[43mexp_name_template\u001b[49m\u001b[38;5;241;43m.\u001b[39;49m\u001b[43mformat\u001b[49m\u001b[43m(\u001b[49m\u001b[38;5;241;43m30\u001b[39;49m\u001b[43m)\u001b[49m\u001b[43m]\u001b[49m\n\u001b[1;32m      7\u001b[0m plot_mapped_landmarks(exp_configs[\u001b[38;5;124m'\u001b[39m\u001b[38;5;124mmapped_landmarks\u001b[39m\u001b[38;5;124m'\u001b[39m], exp_configs[\u001b[38;5;124m'\u001b[39m\u001b[38;5;124mworld_map_config\u001b[39m\u001b[38;5;124m'\u001b[39m]\u001b[38;5;241m.\u001b[39mcorrelated_beacons\u001b[38;5;241m.\u001b[39mpotential)\n\u001b[1;32m      8\u001b[0m plot_road_map(exp_configs[\u001b[38;5;124m'\u001b[39m\u001b[38;5;124mroad_map\u001b[39m\u001b[38;5;124m'\u001b[39m])\n",
      "\u001b[0;31mKeyError\u001b[0m: 'mutex_num_class_4_lm_density_1.00E-02_timeout_30'"
     ]
    },
    {
     "data": {
      "application/vnd.jupyter.widget-view+json": {
       "model_id": "fd35012886a8409fa9a537d2cda3ef72",
       "version_major": 2,
       "version_minor": 0
      },
      "image/png": "[encoded data removed]",
      "text/html": [
       "\n",
       "            <div style=\"display: inline-block;\">\n",
       "                <div class=\"jupyter-widgets widget-label\" style=\"text-align: center;\">\n",
       "                    Figure\n",
       "                </div>\n",
       "                <img src='data:image/png;base64,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' width=1200.0/>\n",
       "            </div>\n",
       "        "
      ],
      "text/plain": [
       "Canvas(toolbar=Toolbar(toolitems=[('Home', 'Reset original view', 'home', 'home'), ('Back', 'Back to previous …"
      ]
     },
     "metadata": {},
     "output_type": "display_data"
    }
   ],
   "source": [
    "exp_name_template = 'mutex_num_class_4_lm_density_1.00E-02_timeout_{:02d}'\n",
    "\n",
    "fig =  plt.figure(constrained_layout=True, figsize=(12,6))\n",
    "gs = mpl.gridspec.GridSpec(3, 2)\n",
    "ax = fig.add_subplot(gs[:, 1])\n",
    "exp_configs = configs_by_exp[exp_name_template.format(30)]\n",
    "plot_mapped_landmarks(exp_configs['mapped_landmarks'], exp_configs['world_map_config'].correlated_beacons.potential)\n",
    "plot_road_map(exp_configs['road_map'])\n",
    "plt.xlabel('X (m)')\n",
    "plt.ylabel('Y (m)')\n",
    "# plot_plan(exp_configs['road_map'], trial_df)\n",
    "\n",
    "for plot_id, timeout in enumerate([60]):\n",
    "    ax = fig.add_subplot(gs[plot_id, 0])\n",
    "    \n",
    "    exp_name = exp_name_template.format(timeout)\n",
    "    mask = df['exp_name'] == exp_name\n",
    "    exp_df = df[mask]\n",
    "    sns.boxplot(x='planner_type',\n",
    "                        y='expected_det',\n",
    "                        hue='planner_size',\n",
    "                        data=exp_df,\n",
    "                       legend=(plot_id==0))\n",
    "\n",
    "    plt.xlabel('')\n",
    "    plt.title(f'{timeout:02d} s timeout')\n",
    "    if plot_id == 0:\n",
    "        sns.move_legend(ax, 'upper left', bbox_to_anchor=(0.1, 1.0))\n",
    "    plt.ylim(0, 1.25)\n",
    "    \n",
    "plt.suptitle('Mutal Exclusion 4 Classes')\n",
    "plt.tight_layout()\n"
   ]
  },
  {
   "cell_type": "markdown",
   "id": "1a09c447-0a72-49b7-8a12-dbe9dd515c0e",
   "metadata": {},
   "source": []
  },
  {
   "cell_type": "code",
   "execution_count": 53,
   "id": "f5af4ca7-06f6-4db8-a9fe-f0797de12a36",
   "metadata": {},
   "outputs": [
    {
     "ename": "NameError",
     "evalue": "name 'df' is not defined",
     "output_type": "error",
     "traceback": [
      "\u001b[0;31m---------------------------------------------------------------------------\u001b[0m",
      "\u001b[0;31mNameError\u001b[0m                                 Traceback (most recent call last)",
      "Cell \u001b[0;32mIn[53], line 2\u001b[0m\n\u001b[1;32m      1\u001b[0m summary_statistics \u001b[38;5;241m=\u001b[39m {}\n\u001b[0;32m----> 2\u001b[0m \u001b[38;5;28;01mfor\u001b[39;00m keys, sub_df \u001b[38;5;129;01min\u001b[39;00m \u001b[43mdf\u001b[49m\u001b[38;5;241m.\u001b[39mgroupby(by\u001b[38;5;241m=\u001b[39m[\u001b[38;5;124m'\u001b[39m\u001b[38;5;124mexp_type\u001b[39m\u001b[38;5;124m'\u001b[39m, \u001b[38;5;124m'\u001b[39m\u001b[38;5;124mplanner_type\u001b[39m\u001b[38;5;124m'\u001b[39m, \u001b[38;5;124m'\u001b[39m\u001b[38;5;124mfavor_goal\u001b[39m\u001b[38;5;124m'\u001b[39m, \u001b[38;5;124m'\u001b[39m\u001b[38;5;124mmax_visits\u001b[39m\u001b[38;5;124m'\u001b[39m, \u001b[38;5;124m'\u001b[39m\u001b[38;5;124mplans\u001b[39m\u001b[38;5;124m'\u001b[39m, \u001b[38;5;124m'\u001b[39m\u001b[38;5;124mtimeout\u001b[39m\u001b[38;5;124m'\u001b[39m]):\n\u001b[1;32m      3\u001b[0m     \u001b[38;5;66;03m# display(sub_df)\u001b[39;00m\n\u001b[1;32m      4\u001b[0m     summary_statistics[keys] \u001b[38;5;241m=\u001b[39m {\n\u001b[1;32m      5\u001b[0m         \u001b[38;5;124mr\u001b[39m\u001b[38;5;124m'\u001b[39m\u001b[38;5;124m$p_\u001b[39m\u001b[38;5;132;01m{25}\u001b[39;00m\u001b[38;5;124m(E[|\u001b[39m\u001b[38;5;124m\\\u001b[39m\u001b[38;5;124mSigma|])$\u001b[39m\u001b[38;5;124m'\u001b[39m: sub_df[\u001b[38;5;124m'\u001b[39m\u001b[38;5;124mexpected_det\u001b[39m\u001b[38;5;124m'\u001b[39m]\u001b[38;5;241m.\u001b[39mquantile(\u001b[38;5;241m0.25\u001b[39m),\n\u001b[1;32m      6\u001b[0m         \u001b[38;5;124mr\u001b[39m\u001b[38;5;124m'\u001b[39m\u001b[38;5;124m$p_\u001b[39m\u001b[38;5;132;01m{50}\u001b[39;00m\u001b[38;5;124m(E[|\u001b[39m\u001b[38;5;124m\\\u001b[39m\u001b[38;5;124mSigma|])$\u001b[39m\u001b[38;5;124m'\u001b[39m: sub_df[\u001b[38;5;124m'\u001b[39m\u001b[38;5;124mexpected_det\u001b[39m\u001b[38;5;124m'\u001b[39m]\u001b[38;5;241m.\u001b[39mquantile(\u001b[38;5;241m0.5\u001b[39m),\n\u001b[0;32m   (...)\u001b[0m\n\u001b[1;32m      9\u001b[0m         \u001b[38;5;124mr\u001b[39m\u001b[38;5;124m'\u001b[39m\u001b[38;5;124m$p_\u001b[39m\u001b[38;5;132;01m{95}\u001b[39;00m\u001b[38;5;124m(T_\u001b[39m\u001b[38;5;132;01m{plan}\u001b[39;00m\u001b[38;5;124m)$\u001b[39m\u001b[38;5;124m'\u001b[39m: sub_df[\u001b[38;5;124m'\u001b[39m\u001b[38;5;124melapsed_time\u001b[39m\u001b[38;5;124m'\u001b[39m]\u001b[38;5;241m.\u001b[39mquantile(\u001b[38;5;241m0.95\u001b[39m),\n\u001b[1;32m     10\u001b[0m     }\n\u001b[1;32m     12\u001b[0m summary_statistics \u001b[38;5;241m=\u001b[39m pd\u001b[38;5;241m.\u001b[39mDataFrame(summary_statistics)\u001b[38;5;241m.\u001b[39mtranspose()\n",
      "\u001b[0;31mNameError\u001b[0m: name 'df' is not defined"
     ]
    }
   ],
   "source": [
    "summary_statistics = {}\n",
    "for keys, sub_df in df.groupby(by=['exp_type', 'planner_type', 'favor_goal', 'max_visits', 'plans', 'timeout']):\n",
    "    # display(sub_df)\n",
    "    summary_statistics[keys] = {\n",
    "        r'$p_{25}(E[|\\Sigma|])$': sub_df['expected_det'].quantile(0.25),\n",
    "        r'$p_{50}(E[|\\Sigma|])$': sub_df['expected_det'].quantile(0.5),\n",
    "        r'$p_{75}(E[|\\Sigma|])$': sub_df['expected_det'].quantile(0.75),\n",
    "        r'$p_{50}(T_{plan})$': sub_df['elapsed_time'].quantile(0.50),\n",
    "        r'$p_{95}(T_{plan})$': sub_df['elapsed_time'].quantile(0.95),\n",
    "    }\n",
    "\n",
    "summary_statistics = pd.DataFrame(summary_statistics).transpose()\n",
    "summary_statistics.index.set_names(['Environment', 'Planner', 'Size', 'Timeout'], inplace=True)\n",
    "\n"
   ]
  },
  {
   "cell_type": "code",
   "execution_count": null,
   "id": "380c2f26-9073-415a-ad2e-3acde478759e",
   "metadata": {},
   "outputs": [],
   "source": []
  },
  {
   "cell_type": "code",
   "execution_count": 54,
   "id": "bd5664c1-14f9-43ac-923b-cf16c7a99983",
   "metadata": {},
   "outputs": [
    {
     "ename": "AttributeError",
     "evalue": "'dict' object has no attribute 'loc'",
     "output_type": "error",
     "traceback": [
      "\u001b[0;31m---------------------------------------------------------------------------\u001b[0m",
      "\u001b[0;31mAttributeError\u001b[0m                            Traceback (most recent call last)",
      "Cell \u001b[0;32mIn[54], line 1\u001b[0m\n\u001b[0;32m----> 1\u001b[0m styler \u001b[38;5;241m=\u001b[39m pd\u001b[38;5;241m.\u001b[39mio\u001b[38;5;241m.\u001b[39mformats\u001b[38;5;241m.\u001b[39mstyle\u001b[38;5;241m.\u001b[39mStyler(\u001b[43msummary_statistics\u001b[49m\u001b[38;5;241;43m.\u001b[39;49m\u001b[43mloc\u001b[49m[:, :, :, \u001b[38;5;241m60.0\u001b[39m])\n",
      "\u001b[0;31mAttributeError\u001b[0m: 'dict' object has no attribute 'loc'"
     ]
    }
   ],
   "source": [
    "styler = pd.io.formats.style.Styler(summary_statistics.loc[:, :, :, 60.0])"
   ]
  },
  {
   "cell_type": "code",
   "execution_count": 55,
   "id": "1eff4e59-5033-4cb0-a434-882946915241",
   "metadata": {},
   "outputs": [
    {
     "ename": "NameError",
     "evalue": "name 'styler' is not defined",
     "output_type": "error",
     "traceback": [
      "\u001b[0;31m---------------------------------------------------------------------------\u001b[0m",
      "\u001b[0;31mNameError\u001b[0m                                 Traceback (most recent call last)",
      "Cell \u001b[0;32mIn[55], line 24\u001b[0m\n\u001b[1;32m     20\u001b[0m         \u001b[38;5;28;01mreturn\u001b[39;00m \u001b[38;5;124m'\u001b[39m\u001b[38;5;124mSpatial\u001b[39m\u001b[38;5;124m'\u001b[39m\n\u001b[1;32m     22\u001b[0m     \u001b[38;5;28;01mreturn\u001b[39;00m value\n\u001b[0;32m---> 24\u001b[0m \u001b[43mstyler\u001b[49m\u001b[38;5;241m.\u001b[39mformat(subset\u001b[38;5;241m=\u001b[39m[ \u001b[38;5;124mr\u001b[39m\u001b[38;5;124m'\u001b[39m\u001b[38;5;124m$p_\u001b[39m\u001b[38;5;132;01m{25}\u001b[39;00m\u001b[38;5;124m(E[|\u001b[39m\u001b[38;5;124m\\\u001b[39m\u001b[38;5;124mSigma|])$\u001b[39m\u001b[38;5;124m'\u001b[39m,  \u001b[38;5;124mr\u001b[39m\u001b[38;5;124m'\u001b[39m\u001b[38;5;124m$p_\u001b[39m\u001b[38;5;132;01m{50}\u001b[39;00m\u001b[38;5;124m(E[|\u001b[39m\u001b[38;5;124m\\\u001b[39m\u001b[38;5;124mSigma|])$\u001b[39m\u001b[38;5;124m'\u001b[39m,  \u001b[38;5;124mr\u001b[39m\u001b[38;5;124m'\u001b[39m\u001b[38;5;124m$p_\u001b[39m\u001b[38;5;132;01m{75}\u001b[39;00m\u001b[38;5;124m(E[|\u001b[39m\u001b[38;5;124m\\\u001b[39m\u001b[38;5;124mSigma|])$\u001b[39m\u001b[38;5;124m'\u001b[39m], formatter\u001b[38;5;241m=\u001b[39mexp_det_formatter)\n\u001b[1;32m     25\u001b[0m styler\u001b[38;5;241m.\u001b[39mformat(subset\u001b[38;5;241m=\u001b[39m[\u001b[38;5;124mr\u001b[39m\u001b[38;5;124m'\u001b[39m\u001b[38;5;124m$p_\u001b[39m\u001b[38;5;132;01m{50}\u001b[39;00m\u001b[38;5;124m(T_\u001b[39m\u001b[38;5;132;01m{plan}\u001b[39;00m\u001b[38;5;124m)$\u001b[39m\u001b[38;5;124m'\u001b[39m, \u001b[38;5;124mr\u001b[39m\u001b[38;5;124m'\u001b[39m\u001b[38;5;124m$p_\u001b[39m\u001b[38;5;132;01m{95}\u001b[39;00m\u001b[38;5;124m(T_\u001b[39m\u001b[38;5;132;01m{plan}\u001b[39;00m\u001b[38;5;124m)$\u001b[39m\u001b[38;5;124m'\u001b[39m], precision\u001b[38;5;241m=\u001b[39m\u001b[38;5;241m3\u001b[39m)\n\u001b[1;32m     26\u001b[0m styler\u001b[38;5;241m.\u001b[39mformat_index(formatter\u001b[38;5;241m=\u001b[39mindex_formatter)\n",
      "\u001b[0;31mNameError\u001b[0m: name 'styler' is not defined"
     ]
    }
   ],
   "source": [
    "def exp_det_formatter(value):\n",
    "    if value < 0.01:\n",
    "        return f\"{value:0.2e}\"\n",
    "    else:\n",
    "        return f\"{value:0.3f}\"\n",
    "\n",
    "def index_formatter(value):\n",
    "    # print(f\"'{value}'\")\n",
    "    if value == 'Expected':\n",
    "        return 'BRULE-E'\n",
    "    elif value == 'Landmark':\n",
    "        return \"BRULE\"\n",
    "    elif value == 'indep':\n",
    "        return \"Indep.\"\n",
    "    elif value == 'mutex':\n",
    "        return \"Mutex\"\n",
    "    elif value == 'semantic':\n",
    "        return 'Semantic'\n",
    "    elif value == 'spatial':\n",
    "        return 'Spatial'\n",
    "    \n",
    "    return value\n",
    "\n",
    "styler.format(subset=[ r'$p_{25}(E[|\\Sigma|])$',  r'$p_{50}(E[|\\Sigma|])$',  r'$p_{75}(E[|\\Sigma|])$'], formatter=exp_det_formatter)\n",
    "styler.format(subset=[r'$p_{50}(T_{plan})$', r'$p_{95}(T_{plan})$'], precision=3)\n",
    "styler.format_index(formatter=index_formatter)"
   ]
  },
  {
   "cell_type": "code",
   "execution_count": null,
   "id": "eec5606a-a1ee-4fc3-8553-9ed4e14e857a",
   "metadata": {},
   "outputs": [],
   "source": []
  },
  {
   "cell_type": "code",
   "execution_count": 56,
   "id": "1f664528-c869-4e04-9118-82ed3d528d56",
   "metadata": {},
   "outputs": [
    {
     "ename": "NameError",
     "evalue": "name 'styler' is not defined",
     "output_type": "error",
     "traceback": [
      "\u001b[0;31m---------------------------------------------------------------------------\u001b[0m",
      "\u001b[0;31mNameError\u001b[0m                                 Traceback (most recent call last)",
      "Cell \u001b[0;32mIn[56], line 1\u001b[0m\n\u001b[0;32m----> 1\u001b[0m \u001b[38;5;28mprint\u001b[39m(\u001b[43mstyler\u001b[49m\u001b[38;5;241m.\u001b[39mto_latex(clines\u001b[38;5;241m=\u001b[39m\u001b[38;5;124m\"\u001b[39m\u001b[38;5;124mskip-last;data\u001b[39m\u001b[38;5;124m\"\u001b[39m, hrules\u001b[38;5;241m=\u001b[39m\u001b[38;5;28;01mTrue\u001b[39;00m, column_format\u001b[38;5;241m=\u001b[39m\u001b[38;5;124m'\u001b[39m\u001b[38;5;124mlll|rrr|rr\u001b[39m\u001b[38;5;124m'\u001b[39m))\n",
      "\u001b[0;31mNameError\u001b[0m: name 'styler' is not defined"
     ]
    }
   ],
   "source": [
    "print(styler.to_latex(clines=\"skip-last;data\", hrules=True, column_format='lll|rrr|rr'))"
   ]
  },
  {
   "cell_type": "code",
   "execution_count": null,
   "id": "d4a69bc7-b403-4503-9d15-fa99eaae17c2",
   "metadata": {},
   "outputs": [],
   "source": []
  }
 ],
 "metadata": {
  "kernelspec": {
   "display_name": "Python 3 (ipykernel)",
   "language": "python",
   "name": "python3"
  },
  "language_info": {
   "codemirror_mode": {
    "name": "ipython",
    "version": 3
   },
   "file_extension": ".py",
   "mimetype": "text/x-python",
   "name": "python",
   "nbconvert_exporter": "python",
   "pygments_lexer": "ipython3",
   "version": "3.10.13"
  }
 },
 "nbformat": 4,
 "nbformat_minor": 5
}
