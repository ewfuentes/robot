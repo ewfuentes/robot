{
 "cells": [
  {
   "cell_type": "code",
   "execution_count": null,
   "id": "4e5f0645-6070-4f02-89b3-cdefe7ff2559",
   "metadata": {},
   "outputs": [],
   "source": [
    "from reportlab.pdfgen import canvas\n",
    "from reportlab.lib.pagesizes import letter\n",
    "from reportlab.lib.utils import ImageReader\n",
    "import requests\n",
    "import PIL\n",
    "import io"
   ]
  },
  {
   "cell_type": "code",
   "execution_count": null,
   "id": "80f1775b-4fa5-42f0-850e-cbd542f06024",
   "metadata": {},
   "outputs": [],
   "source": [
    "def get_tag_image(tag_id: int):\n",
    "    url = f\"https://raw.githubusercontent.com/AprilRobotics/apriltag-imgs/master/tagStandard41h12/tag41_12_{tag_id:05d}.png\"\n",
    "    result = requests.get(url)\n",
    "    assert result.status_code == 200\n",
    "    return PIL.Image.open(io.BytesIO(result.content))"
   ]
  },
  {
   "cell_type": "code",
   "execution_count": null,
   "id": "fcbed2db-662a-4fd3-875f-3011a7ae3af1",
   "metadata": {},
   "outputs": [],
   "source": [
    "\n",
    "def add_tag_to_canvas(c: canvas.Canvas, tag_id: int, pagesize: tuple[float, float]):\n",
    "    width, height = pagesize\n",
    "    img = ImageReader(get_tag_image(tag_id))\n",
    "    \n",
    "    tag_max_y = 0.48 * height\n",
    "    tag_min_y = 0.04 * height\n",
    "    tag_size = tag_max_y - tag_min_y\n",
    "    \n",
    "    tag_location = (0.5 * (width  - tag_size), tag_min_y)\n",
    "    text_location = (width / 2.0, height * 0.02)\n",
    "    c.drawCentredString(*text_location, f'Tag Id {tag_id:05d}')\n",
    "    c.drawImage(img, *tag_location, width=tag_size, height=tag_size)\n",
    "    \n",
    "    c.line(width * 0.1, height * 0.5, width*0.9, height*0.5)\n",
    "    \n",
    "    c.rotate(180)\n",
    "    text_location = (-width / 2.0, -height * 0.98)\n",
    "    tag_location = (-0.5 * (width + tag_size), -height + tag_min_y)\n",
    "    c.drawCentredString(*text_location, f'Tag Id {tag_id:05d}')\n",
    "    c.drawImage(img, *tag_location, width=tag_size, height=tag_size)\n",
    "    c.showPage()\n"
   ]
  },
  {
   "cell_type": "code",
   "execution_count": null,
   "id": "504a869d-491e-4961-b957-4bcebc13cfa9",
   "metadata": {},
   "outputs": [],
   "source": [
    "\n",
    "file_name = \"/tmp/tags.pdf\"\n",
    "c = canvas.Canvas(file_name, pagesize=letter)\n",
    "\n",
    "for tag_id in range(200, 230):\n",
    "    add_tag_to_canvas(c, tag_id, letter)\n",
    "c.save()"
   ]
  },
  {
   "cell_type": "code",
   "execution_count": null,
   "id": "5c82af76-02c5-4502-83a2-5b25e3caec2d",
   "metadata": {},
   "outputs": [],
   "source": []
  },
  {
   "cell_type": "code",
   "execution_count": null,
   "id": "2198b89c-91cd-48a8-8a3a-addc0e0bcc35",
   "metadata": {},
   "outputs": [],
   "source": []
  }
 ],
 "metadata": {
  "kernelspec": {
   "display_name": "Python 3 (ipykernel)",
   "language": "python",
   "name": "python3"
  },
  "language_info": {
   "codemirror_mode": {
    "name": "ipython",
    "version": 3
   },
   "file_extension": ".py",
   "mimetype": "text/x-python",
   "name": "python",
   "nbconvert_exporter": "python",
   "pygments_lexer": "ipython3",
   "version": "3.10.13"
  }
 },
 "nbformat": 4,
 "nbformat_minor": 5
}
