{
 "cells": [
  {
   "cell_type": "code",
   "execution_count": null,
   "id": "f15ef2ae",
   "metadata": {},
   "outputs": [],
   "source": [
    "%matplotlib notebook\n",
    "import matplotlib as mpl\n",
    "import matplotlib.pyplot as plt\n",
    "import numpy as np\n",
    "import os\n",
    "import tqdm\n",
    "import tqdm.contrib.concurrent\n",
    "import re\n",
    "from collections import namedtuple\n",
    "import ipywidgets\n",
    "from IPython.display import display\n",
    "import itertools\n",
    "\n",
    "from experimental.beacon_sim.rollout_statistics_pb2 import AllStatistics, RolloutStatistics\n",
    "from experimental.beacon_sim import plot_trials\n",
    "\n",
    "import importlib\n",
    "importlib.reload(plot_trials)"
   ]
  },
  {
   "cell_type": "code",
   "execution_count": null,
   "id": "37a6cefb",
   "metadata": {},
   "outputs": [],
   "source": [
    "data_dir = os.path.expanduser(\"/home/erick/scratch/initial_state_fix/\")"
   ]
  },
  {
   "cell_type": "code",
   "execution_count": null,
   "id": "403293a9",
   "metadata": {},
   "outputs": [],
   "source": [
    "Trial = namedtuple('Trial', ['trial_idx', 'cov_size'])\n",
    "Instance = namedtuple('Instance', ['instance_idx', 'start_position', 'goal_position', 'path_length', 'plan', 'trials'])\n",
    "instance_finder = re.compile(r'.*?([0-9]+)\\.pb')\n",
    "\n",
    "def unpack_trials(trials: list[RolloutStatistics]):\n",
    "    return [Trial(trial_idx=i, cov_size=plot_trials.compute_covariance_size(stat)) for i, stat in enumerate(trials)]\n",
    "\n",
    "def compute_path_length(stats: AllStatistics):\n",
    "    current_pos = tuple(stats.local_from_start.translation.data)\n",
    "    dist_m = 0.0\n",
    "    for path_idx in stats.plan[1:]:\n",
    "        if path_idx < 0:\n",
    "            new_pos = (stats.goal.x, stats.goal.y)\n",
    "        else:\n",
    "            new_pos = tuple(stats.road_map.points[path_idx].data)\n",
    "        \n",
    "        edge_dist_m = ((current_pos[0] - new_pos[0]) ** 2 + (current_pos[1] - new_pos[1]) ** 2) ** 0.5\n",
    "        dist_m += edge_dist_m\n",
    "        current_pos = new_pos\n",
    "    return dist_m\n",
    "\n",
    "def load_instance(file_name: str) -> Instance:\n",
    "    with open(file_name, 'rb') as file_in:\n",
    "        stats = AllStatistics()\n",
    "        stats.ParseFromString(file_in.read())\n",
    "    \n",
    "    m = instance_finder.search(file_name)\n",
    "    \n",
    "    instance_idx = int(m.group(1))\n",
    "    \n",
    "    \n",
    "    \n",
    "    return Instance(instance_idx=instance_idx,\n",
    "                    start_position=list(stats.local_from_start.translation.data),\n",
    "                    goal_position=(stats.goal.x, stats.goal.y),\n",
    "                    path_length = compute_path_length(stats),\n",
    "                    plan = list(stats.plan),\n",
    "                    trials = unpack_trials(stats.statistics))\n"
   ]
  },
  {
   "cell_type": "code",
   "execution_count": null,
   "id": "3148dd61",
   "metadata": {},
   "outputs": [],
   "source": []
  },
  {
   "cell_type": "code",
   "execution_count": null,
   "id": "01c8ee08",
   "metadata": {},
   "outputs": [],
   "source": [
    "def load_road_map_and_world_map(file_path):\n",
    "    with open(file_path, 'rb') as file_in:\n",
    "        stats = AllStatistics()\n",
    "        stats.ParseFromString(file_in.read())\n",
    "        \n",
    "    return stats.road_map, stats.world_map_config"
   ]
  },
  {
   "cell_type": "code",
   "execution_count": null,
   "id": "04ba325a",
   "metadata": {},
   "outputs": [],
   "source": [
    "file_paths = [os.path.join(data_dir, file_name) for file_name in os.listdir(data_dir)]"
   ]
  },
  {
   "cell_type": "code",
   "execution_count": null,
   "id": "b695f2c6",
   "metadata": {},
   "outputs": [],
   "source": [
    "road_map, world_map = load_road_map_and_world_map(file_paths[0])"
   ]
  },
  {
   "cell_type": "code",
   "execution_count": null,
   "id": "431f7f3d",
   "metadata": {},
   "outputs": [],
   "source": [
    "instances = tqdm.contrib.concurrent.process_map(load_instance, file_paths, chunksize=1, )"
   ]
  },
  {
   "cell_type": "code",
   "execution_count": null,
   "id": "e03d85d8",
   "metadata": {},
   "outputs": [],
   "source": [
    "instances = sorted(instances, key = lambda x: x.instance_idx)"
   ]
  },
  {
   "cell_type": "code",
   "execution_count": null,
   "id": "4560c6c0",
   "metadata": {},
   "outputs": [],
   "source": [
    "def missing_from_configuration(configuration, world_map):\n",
    "    idxs = []\n",
    "    for i in range(len(world_map.fixed_beacons.beacons)):\n",
    "        if configuration & (1 << i):\n",
    "            idxs.append(world_map.fixed_beacons.beacons[i].id)\n",
    "    return sorted(idxs)\n",
    "\n",
    "def plot_environment(road_map, world_map, plan, start_pos, goal_pos, configuration=None):\n",
    "    if configuration is None:\n",
    "        configuration = 0\n",
    "    missing_beacons = missing_from_configuration(configuration, world_map)\n",
    "        \n",
    "    # plot the road map\n",
    "    # Plot the edges\n",
    "    line_segments = []\n",
    "    for r in range(road_map.adj.num_rows):\n",
    "        for c in range(r+1, road_map.adj.num_cols):\n",
    "            idx = r * road_map.adj.num_cols + c\n",
    "            if (road_map.adj.data[idx] == 1):\n",
    "                line_segments.append([tuple(road_map.points[r].data), tuple(road_map.points[c].data)])\n",
    "    edges = mpl.collections.LineCollection(line_segments, colors=(0.8, 0.8, 0.6, 1.0))\n",
    "    ax = plt.gca()\n",
    "    ax.add_collection(edges)\n",
    "    \n",
    "    # Plot the plan\n",
    "    plan_points = []\n",
    "    for node_idx in plan:\n",
    "        if node_idx == -1:\n",
    "            plan_points.append(start_pos)\n",
    "        elif node_idx == -2:\n",
    "            plan_points.append(goal_pos)\n",
    "        else:\n",
    "            plan_points.append(tuple(road_map.points[node_idx].data))\n",
    "    plan_x = [pt[0] for pt in plan_points]\n",
    "    plan_y = [pt[1] for pt in plan_points]\n",
    "    plt.plot(plan_x, plan_y, 'b')\n",
    "    \n",
    "    # Plot the start\n",
    "    plt.plot(*start_pos, 'md', markersize=10)\n",
    "    \n",
    "    # Plot the goal\n",
    "    plt.plot(*goal_pos, 'g*', markersize=15)\n",
    "    \n",
    "    # Plot the nodes\n",
    "    rm_x = [pt.data[0] for pt in road_map.points]\n",
    "    rm_y = [pt.data[1] for pt in road_map.points]\n",
    "    plt.plot(rm_x, rm_y, 'rs')\n",
    "    \n",
    "    TEXT_X_OFFSET = 0.2\n",
    "    TEXT_Y_OFFSET = 0.2\n",
    "#     for i, pt in enumerate(road_map.points):\n",
    "#         plt.text(pt.data[0] + TEXT_X_OFFSET, pt.data[1] + TEXT_Y_OFFSET, i)\n",
    "        \n",
    "    # Plot the beacons\n",
    "    beacon_xs = [beacon.pos_x_m for beacon in world_map.fixed_beacons.beacons if beacon.id not in missing_beacons]\n",
    "    beacon_ys = [beacon.pos_y_m for beacon in world_map.fixed_beacons.beacons if beacon.id not in missing_beacons]\n",
    "    beacon_ids = [beacon.id for beacon in world_map.fixed_beacons.beacons if beacon.id not in missing_beacons]\n",
    "    \n",
    "    for x, y, beacon_id in zip(beacon_xs, beacon_ys, beacon_ids):\n",
    "        plt.text(x + TEXT_X_OFFSET, y + TEXT_Y_OFFSET, beacon_id)\n",
    "    \n",
    "    plt.plot(beacon_xs, beacon_ys, 'b^')\n",
    "    plt.axis('equal')\n",
    "    \n",
    "def plot_covariances(trials, current_trial):\n",
    "    sorted_trials = sorted(trials, key=lambda trial: trial.cov_size)\n",
    "    plt.plot([t.cov_size for t in sorted_trials], list(range(len(sorted_trials))))\n",
    "    sorted_idx = sorted_trials.index(current_trial)\n",
    "    plt.plot(current_trial.cov_size, sorted_idx, 'g*', markersize=15)\n",
    "    \n",
    "def make_plots(fig, trial_idx, instance, trials, road_map, world_map):\n",
    "    trial = trials[trial_idx]\n",
    "    plt.figure(fig.number)\n",
    "    plt.gcf().clear()\n",
    "    plt.subplot(121)\n",
    "    plot_environment(\n",
    "        road_map, world_map, instance.plan, instance.start_position,\n",
    "        instance.goal_position, configuration=trial.trial_idx)\n",
    "    plt.title(f'Instance: {instance.instance_idx} Trial: {trial.trial_idx}, Path Length: {instance.path_length: 0.2f}')\n",
    "    plt.xlabel('X (m)')\n",
    "    plt.ylabel('Y (m)')\n",
    "    plt.subplot(122)\n",
    "    plot_covariances(trials, trial)\n",
    "    plt.xlabel('$|\\Sigma|$')\n",
    "    plt.ylabel('Count')\n",
    "    plt.title('CDF of $|\\Sigma|$')\n",
    "    plt.tight_layout()\n",
    "    \n",
    "def plot_results(road_map, world_map, instances):\n",
    "    path_length_order_checkbox = ipywidgets.Checkbox(value=True, description='Sorted Instances?')\n",
    "    instance_slider = ipywidgets.IntSlider(min = 0, max=len(instances)-1, step=1, description='Instance Idx', value=0)\n",
    "    sorted_trial_checkbox = ipywidgets.Checkbox(value=True, description = \"Sorted Trials?\")\n",
    "    style = {\"description_width\": \"initial\"}\n",
    "    trial_slider = ipywidgets.IntSlider(min=0, max=0, description = \"Trial Idx\", style=style)\n",
    "    fig = plt.figure(figsize=(10, 6))\n",
    "    \n",
    "    hbox = ipywidgets.HBox()\n",
    "    \n",
    "    sorted_instances = sorted(instances, key=lambda x: x.path_length)\n",
    "    \n",
    "    def on_instance_change(change):\n",
    "               \n",
    "        instance_idx = instance_slider.value\n",
    "        should_use_sorted_path_length = path_length_order_checkbox.value\n",
    "        instances_to_use = sorted_instances if should_use_sorted_path_length else instances\n",
    "        instance = instances_to_use[instance_idx]\n",
    "        \n",
    "        trials = instance.trials\n",
    "        sorted_trials = sorted(trials, key=lambda trial: trial.cov_size)\n",
    "        \n",
    "        def on_trial_change(change):\n",
    "            trial_idx = change[\"owner\"].value\n",
    "            should_use_sorted = sorted_trial_checkbox.value\n",
    "            trials_to_use = sorted_trials if should_use_sorted else trials\n",
    "            make_plots(fig, trial_idx, instance, trials_to_use, road_map, world_map)\n",
    "        \n",
    "        trial_slider.max = len(trials) - 1\n",
    "        trial_slider.description = f\"Trial for Instance {instance.instance_idx}\"\n",
    "        trial_slider.unobserve_all()\n",
    "        trial_slider.observe(on_trial_change, 'value')\n",
    "        on_trial_change({'owner': trial_slider})\n",
    "    \n",
    "    def on_sorted_change(change):\n",
    "        instance_idx = instance_slider.value\n",
    "        trial_idx = trial_slider.value\n",
    "        should_use_sorted_trial = sorted_trial_checkbox.value\n",
    "        should_use_sorted_path_length = path_length_order_checkbox.value\n",
    "        \n",
    "        instances_to_use = sorted_instances if should_use_sorted_path_length else instances\n",
    "        instance = instances_to_use[instance_idx]\n",
    "        \n",
    "        trials = instance.trials\n",
    "        sorted_trials = sorted(trials, key=lambda trial: trial.cov_size)\n",
    "        trials_to_use = sorted_trials if should_use_sorted_trial else trials\n",
    "        \n",
    "        make_plots(fig, trial_idx, instance, trials_to_use, road_map, world_map)\n",
    "        \n",
    "    \n",
    "    instance_slider.observe(on_instance_change, 'value')\n",
    "    path_length_order_checkbox.observe(on_sorted_change, 'value')\n",
    "    sorted_trial_checkbox.observe(on_sorted_change, 'value')\n",
    "    hbox.children = (path_length_order_checkbox, instance_slider, sorted_trial_checkbox, trial_slider)\n",
    "    display(hbox)\n",
    "    on_instance_change({'owner': instance_slider})\n",
    "    \n",
    "    "
   ]
  },
  {
   "cell_type": "code",
   "execution_count": null,
   "id": "26eeda5e",
   "metadata": {},
   "outputs": [],
   "source": [
    "plot_results(road_map, world_map, instances)"
   ]
  },
  {
   "cell_type": "code",
   "execution_count": null,
   "id": "4d94d1b7",
   "metadata": {},
   "outputs": [],
   "source": [
    "np.random.normal()"
   ]
  },
  {
   "cell_type": "code",
   "execution_count": null,
   "id": "df787c64",
   "metadata": {},
   "outputs": [],
   "source": [
    "len(world_map.fixed_beacons.beacons)"
   ]
  },
  {
   "cell_type": "code",
   "execution_count": null,
   "id": "01b38f39",
   "metadata": {},
   "outputs": [],
   "source": []
  },
  {
   "cell_type": "code",
   "execution_count": null,
   "id": "1abd8a99",
   "metadata": {},
   "outputs": [],
   "source": [
    "def logsumexp(x):\n",
    "    c = x.max()\n",
    "    return c + np.log(np.sum(np.exp(x - c)))"
   ]
  },
  {
   "cell_type": "code",
   "execution_count": null,
   "id": "c9458129",
   "metadata": {},
   "outputs": [],
   "source": [
    "NUM_BEACONS = 12\n",
    "\n",
    "rng = np.random.default_rng(0)\n",
    "\n",
    "possibilities = list(itertools.product([0, 1], repeat=NUM_BEACONS))\n",
    "\n",
    "beta = 1.0\n",
    "\n",
    "p_00 = 0.8\n",
    "log_p_00 = np.log(p_00)\n",
    "\n",
    "correlation = np.eye(NUM_BEACONS) * np.log(1-p_00)\n",
    "diag_adj = np.eye(*correlation.shape) * log_p_00\n",
    "correlation = correlation - diag_adj\n",
    "\n",
    "off_diag_adj = np.zeros_like(diag_adj)\n",
    "for r in range(NUM_BEACONS):\n",
    "    for c in range(r+1, NUM_BEACONS):\n",
    "        value =  - correlation[r, r] - correlation[c,c] - log_p_00 + \n",
    "\n",
    "adj_correlation = correlation - diag_adj\n",
    "\n",
    "pot = np.zeros(len(possibilities))\n",
    "for i, p in enumerate(possibilities):\n",
    "    x = np.array(p)\n",
    "    pot[i] = x @ adj_correlation @ x + log_p_00\n",
    "\n",
    "log_normalizer = logsumexp(beta * pot)\n",
    "\n",
    "pot = np.exp(pot - log_normalizer)"
   ]
  },
  {
   "cell_type": "code",
   "execution_count": null,
   "id": "96279223",
   "metadata": {},
   "outputs": [],
   "source": [
    "plt.figure()\n",
    "plt.plot(pot)\n"
   ]
  },
  {
   "cell_type": "code",
   "execution_count": null,
   "id": "fe55d278",
   "metadata": {},
   "outputs": [],
   "source": [
    "0.8**10"
   ]
  },
  {
   "cell_type": "code",
   "execution_count": null,
   "id": "824a4c07",
   "metadata": {},
   "outputs": [],
   "source": [
    "log_p_00"
   ]
  },
  {
   "cell_type": "code",
   "execution_count": null,
   "id": "93659c16",
   "metadata": {},
   "outputs": [],
   "source": [
    "np.log((1-p_00) / p_00)"
   ]
  },
  {
   "cell_type": "code",
   "execution_count": null,
   "id": "08861dbf",
   "metadata": {},
   "outputs": [],
   "source": [
    "adj_correlation"
   ]
  },
  {
   "cell_type": "code",
   "execution_count": null,
   "id": "79c72f3a",
   "metadata": {},
   "outputs": [],
   "source": []
  }
 ],
 "metadata": {
  "kernelspec": {
   "display_name": "Python 3 (ipykernel)",
   "language": "python",
   "name": "python3"
  },
  "language_info": {
   "codemirror_mode": {
    "name": "ipython",
    "version": 3
   },
   "file_extension": ".py",
   "mimetype": "text/x-python",
   "name": "python",
   "nbconvert_exporter": "python",
   "pygments_lexer": "ipython3",
   "version": "3.10.6"
  }
 },
 "nbformat": 4,
 "nbformat_minor": 5
}
