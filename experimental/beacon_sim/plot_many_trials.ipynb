{
 "cells": [
  {
   "cell_type": "code",
   "execution_count": null,
   "id": "f15ef2ae",
   "metadata": {},
   "outputs": [],
   "source": [
    "%matplotlib notebook\n",
    "import matplotlib as mpl\n",
    "import matplotlib.pyplot as plt\n",
    "import numpy as np\n",
    "import os\n",
    "import tqdm\n",
    "import tqdm.contrib.concurrent\n",
    "import re\n",
    "from collections import namedtuple\n",
    "import ipywidgets\n",
    "import bisect\n",
    "from IPython.display import display\n",
    "\n",
    "from experimental.beacon_sim.rollout_statistics_pb2 import AllStatistics, RolloutStatistics\n",
    "from experimental.beacon_sim import plot_trials\n",
    "\n",
    "import importlib\n",
    "importlib.reload(plot_trials)"
   ]
  },
  {
   "cell_type": "code",
   "execution_count": null,
   "id": "37a6cefb",
   "metadata": {},
   "outputs": [],
   "source": [
    "data_dir = os.path.expanduser(\"~/scratch/16_beacons/\")"
   ]
  },
  {
   "cell_type": "code",
   "execution_count": null,
   "id": "403293a9",
   "metadata": {},
   "outputs": [],
   "source": [
    "Trial = namedtuple('Trial', ['trial_idx', 'cov_size'])\n",
    "Instance = namedtuple('Instance', ['instance_idx', 'start_position', 'goal_position', 'path_length', 'plan', 'trials'])\n",
    "instance_finder = re.compile(r'.*?([0-9]+)\\.pb')\n",
    "\n",
    "def unpack_trials(trials: list[RolloutStatistics]):\n",
    "    return [Trial(trial_idx=i, cov_size=plot_trials.compute_covariance_size(stat)) for i, stat in enumerate(trials)]\n",
    "\n",
    "def compute_path_length(stats: AllStatistics):\n",
    "    current_pos = tuple(stats.local_from_start.translation.data)\n",
    "    dist_m = 0.0\n",
    "    for path_idx in stats.plan[1:]:\n",
    "        if path_idx < 0:\n",
    "            new_pos = (stats.goal.x, stats.goal.y)\n",
    "        else:\n",
    "            new_pos = tuple(stats.road_map.points[path_idx].data)\n",
    "        \n",
    "        edge_dist_m = ((current_pos[0] - new_pos[0]) ** 2 + (current_pos[1] - new_pos[1]) ** 2) ** 0.5\n",
    "        dist_m += edge_dist_m\n",
    "        current_pos = new_pos\n",
    "    return dist_m\n",
    "\n",
    "def load_instance(file_name: str) -> Instance:\n",
    "    with open(file_name, 'rb') as file_in:\n",
    "        stats = AllStatistics()\n",
    "        stats.ParseFromString(file_in.read())\n",
    "    \n",
    "    m = instance_finder.search(file_name)\n",
    "    \n",
    "    instance_idx = int(m.group(1))\n",
    "    \n",
    "    \n",
    "    \n",
    "    return Instance(instance_idx=instance_idx,\n",
    "                    start_position=list(stats.local_from_start.translation.data),\n",
    "                    goal_position=(stats.goal.x, stats.goal.y),\n",
    "                    path_length = compute_path_length(stats),\n",
    "                    plan = list(stats.plan),\n",
    "                    trials = unpack_trials(stats.statistics))\n"
   ]
  },
  {
   "cell_type": "code",
   "execution_count": null,
   "id": "129b85c6",
   "metadata": {},
   "outputs": [],
   "source": []
  },
  {
   "cell_type": "code",
   "execution_count": null,
   "id": "01c8ee08",
   "metadata": {},
   "outputs": [],
   "source": [
    "def load_road_map_and_world_map(file_path):\n",
    "    with open(file_path, 'rb') as file_in:\n",
    "        stats = AllStatistics()\n",
    "        stats.ParseFromString(file_in.read())\n",
    "        \n",
    "    return stats.road_map, stats.world_map_config"
   ]
  },
  {
   "cell_type": "code",
   "execution_count": null,
   "id": "04ba325a",
   "metadata": {},
   "outputs": [],
   "source": [
    "file_paths = [os.path.join(data_dir, file_name) for file_name in os.listdir(data_dir)]"
   ]
  },
  {
   "cell_type": "code",
   "execution_count": null,
   "id": "b695f2c6",
   "metadata": {},
   "outputs": [],
   "source": [
    "road_map, world_map = load_road_map_and_world_map(file_paths[0])"
   ]
  },
  {
   "cell_type": "code",
   "execution_count": null,
   "id": "431f7f3d",
   "metadata": {},
   "outputs": [],
   "source": [
    "\n",
    "\n",
    "instances = tqdm.contrib.concurrent.process_map(load_instance, file_paths, chunksize=1, )"
   ]
  },
  {
   "cell_type": "code",
   "execution_count": null,
   "id": "4560c6c0",
   "metadata": {},
   "outputs": [],
   "source": [
    "def missing_from_configuration(configuration, world_map):\n",
    "    idxs = []\n",
    "    for i in range(len(world_map.fixed_beacons.beacons)):\n",
    "        if configuration & (1 << i):\n",
    "            idxs.append(world_map.fixed_beacons.beacons[i].id)\n",
    "    return sorted(idxs)\n",
    "\n",
    "def plot_environment(road_map, world_map, plan, start_pos, goal_pos, configuration=None):\n",
    "    if configuration is None:\n",
    "        configuration = 0\n",
    "    missing_beacons = missing_from_configuration(configuration, world_map)\n",
    "        \n",
    "    # plot the road map\n",
    "    # Plot the edges\n",
    "    line_segments = []\n",
    "    for r in range(road_map.adj.num_rows):\n",
    "        for c in range(r+1, road_map.adj.num_cols):\n",
    "            idx = r * road_map.adj.num_cols + c\n",
    "            if (road_map.adj.data[idx] == 1):\n",
    "                line_segments.append([tuple(road_map.points[r].data), tuple(road_map.points[c].data)])\n",
    "    edges = mpl.collections.LineCollection(line_segments, colors=(0.8, 0.8, 0.6, 1.0))\n",
    "    ax = plt.gca()\n",
    "    ax.add_collection(edges)\n",
    "    \n",
    "    # Plot the plan\n",
    "    plan_points = []\n",
    "    for node_idx in plan:\n",
    "        if node_idx == -1:\n",
    "            plan_points.append(start_pos)\n",
    "        elif node_idx == -2:\n",
    "            plan_points.append(goal_pos)\n",
    "        else:\n",
    "            plan_points.append(tuple(road_map.points[node_idx].data))\n",
    "    plan_x = [pt[0] for pt in plan_points]\n",
    "    plan_y = [pt[1] for pt in plan_points]\n",
    "    plt.plot(plan_x, plan_y, 'b')\n",
    "    \n",
    "    # Plot the start\n",
    "    plt.plot(*start_pos, 'md', markersize=10)\n",
    "    \n",
    "    # Plot the goal\n",
    "    plt.plot(*goal_pos, 'g*', markersize=15)\n",
    "    \n",
    "    # Plot the nodes\n",
    "    rm_x = [pt.data[0] for pt in road_map.points]\n",
    "    rm_y = [pt.data[1] for pt in road_map.points]\n",
    "    plt.plot(rm_x, rm_y, 'rs')\n",
    "    \n",
    "    TEXT_X_OFFSET = 0.2\n",
    "    TEXT_Y_OFFSET = 0.2\n",
    "#     for i, pt in enumerate(road_map.points):\n",
    "#         plt.text(pt.data[0] + TEXT_X_OFFSET, pt.data[1] + TEXT_Y_OFFSET, i)\n",
    "        \n",
    "    # Plot the beacons\n",
    "    beacon_xs = [beacon.pos_x_m for beacon in world_map.fixed_beacons.beacons if beacon.id not in missing_beacons]\n",
    "    beacon_ys = [beacon.pos_y_m for beacon in world_map.fixed_beacons.beacons if beacon.id not in missing_beacons]\n",
    "    beacon_ids = [beacon.id for beacon in world_map.fixed_beacons.beacons if beacon.id not in missing_beacons]\n",
    "    \n",
    "    for x, y, beacon_id in zip(beacon_xs, beacon_ys, beacon_ids):\n",
    "        plt.text(x + TEXT_X_OFFSET, y + TEXT_Y_OFFSET, beacon_id)\n",
    "    \n",
    "    plt.plot(beacon_xs, beacon_ys, 'b^')\n",
    "    plt.axis('equal')\n",
    "    \n",
    "def plot_covariances(trials, current_trial):\n",
    "    sorted_trials = sorted(trials, key=lambda trial: trial.cov_size)\n",
    "    plt.plot([t.cov_size for t in sorted_trials], list(range(len(sorted_trials))))\n",
    "    sorted_idx = sorted_trials.index(current_trial)\n",
    "    plt.plot(current_trial.cov_size, sorted_idx, 'g*', markersize=15)\n",
    "    \n",
    "def make_plots(fig, trial_idx, instance, trials, road_map, world_map):\n",
    "    trial = trials[trial_idx]\n",
    "    plt.figure(fig.number)\n",
    "    plt.gcf().clear()\n",
    "    plt.subplot(121)\n",
    "    plot_environment(\n",
    "        road_map, world_map, instance.plan, instance.start_position,\n",
    "        instance.goal_position, configuration=trial.trial_idx)\n",
    "    plt.title(f'Instance: {instance.instance_idx} Trial: {trial.trial_idx}, Path Length: {instance.path_length: 0.2f}')\n",
    "    plt.xlabel('X (m)')\n",
    "    plt.ylabel('Y (m)')\n",
    "    plt.subplot(122)\n",
    "    plot_covariances(trials, trial)\n",
    "    plt.xlabel('$|\\Sigma|$')\n",
    "    plt.ylabel('Count')\n",
    "    plt.title('CDF of $|\\Sigma|$')\n",
    "    plt.tight_layout()\n",
    "    \n",
    "def plot_results(road_map, world_map, instances):\n",
    "    path_length_order_checkbox = ipywidgets.Checkbox(value=True, description='Sorted Instances?')\n",
    "    instance_slider = ipywidgets.IntSlider(min = 0, max=len(instances)-1, step=1, description='Instance Idx', value=0)\n",
    "    sorted_trial_checkbox = ipywidgets.Checkbox(value=True, description = \"Sorted Trials?\")\n",
    "    fig = plt.figure(figsize=(12, 6))\n",
    "    \n",
    "    hbox = ipywidgets.HBox()\n",
    "    \n",
    "    sorted_instances = sorted(instances, key=lambda x: x.path_length)\n",
    "    \n",
    "    def on_instance_change(change):\n",
    "        if on_instance_change.trial_slider:\n",
    "            on_instance_change.trial_slider.close()\n",
    "            hbox.children = hbox.children[:-1]\n",
    "        \n",
    "        instance_idx = instance_slider.value\n",
    "        should_use_sorted_path_length = path_length_order_checkbox.value\n",
    "        instances_to_use = sorted_instances if should_use_sorted_path_length else instances\n",
    "        instance = instances_to_use[instance_idx]\n",
    "        \n",
    "        trials = instance.trials\n",
    "        sorted_trials = sorted(trials, key=lambda trial: trial.cov_size)\n",
    "        style = {\"description_width\": \"initial\"}\n",
    "        on_instance_change.trial_slider = ipywidgets.IntSlider(\n",
    "            min=0, max=len(instance.trials)-1, step=1,\n",
    "            description=f'Trial Idx for instance {instance.instance_idx}', value=0, style=style)\n",
    "        \n",
    "        def on_trial_change(change):\n",
    "            trial_idx = change[\"owner\"].value\n",
    "            should_use_sorted = sorted_trial_checkbox.value\n",
    "            trials_to_use = sorted_trials if should_use_sorted else trials\n",
    "            make_plots(fig, trial_idx, instance, trials_to_use, road_map, world_map)\n",
    "            \n",
    "        on_instance_change.trial_slider.observe(on_trial_change, 'value')\n",
    "        on_trial_change({'owner': on_instance_change.trial_slider})\n",
    "        hbox.children = (*hbox.children, on_instance_change.trial_slider)\n",
    "    on_instance_change.trial_slider = None\n",
    "    \n",
    "    def on_sorted_change(change):\n",
    "        instance_idx = instance_slider.value\n",
    "        trial_idx = on_instance_change.trial_slider.value\n",
    "        should_use_sorted_trial = sorted_trial_checkbox.value\n",
    "        should_use_sorted_path_length = path_length_order_checkbox.value\n",
    "        \n",
    "        instances_to_use = sorted_instances if should_use_sorted_path_length else instances\n",
    "        instance = instances_to_use[instance_idx]\n",
    "        \n",
    "        trials = instance.trials\n",
    "        sorted_trials = sorted(trials, key=lambda trial: trial.cov_size)\n",
    "        trials_to_use = sorted_trials if should_use_sorted else trials\n",
    "        \n",
    "        make_plots(fig, trial_idx, instance, trials_to_use, road_map, world_map)\n",
    "        \n",
    "    \n",
    "    instance_slider.observe(on_instance_change, 'value')\n",
    "    path_length_order_checkbox.observe(on_sorted_change, 'value')\n",
    "    sorted_trial_checkbox.observe(on_sorted_change, 'value')\n",
    "    hbox.children = (path_length_order_checkbox, instance_slider, sorted_trial_checkbox)\n",
    "    display(hbox)\n",
    "    on_instance_change({'owner': instance_slider})\n",
    "    \n",
    "    "
   ]
  },
  {
   "cell_type": "code",
   "execution_count": null,
   "id": "26eeda5e",
   "metadata": {},
   "outputs": [],
   "source": [
    "plot_results(road_map, world_map, instances)"
   ]
  },
  {
   "cell_type": "code",
   "execution_count": null,
   "id": "54446bd4",
   "metadata": {},
   "outputs": [],
   "source": [
    "sorted_instances = sorted(instances, key=lambda x: x.path_length)"
   ]
  },
  {
   "cell_type": "code",
   "execution_count": null,
   "id": "084d0619",
   "metadata": {},
   "outputs": [],
   "source": [
    "sorted_instances[594]"
   ]
  },
  {
   "cell_type": "code",
   "execution_count": null,
   "id": "769ac438",
   "metadata": {},
   "outputs": [],
   "source": [
    "sorted_trials = sorted(sorted_instances[594].trials, key=lambda x: x.cov_size)"
   ]
  },
  {
   "cell_type": "code",
   "execution_count": null,
   "id": "6a9f2604",
   "metadata": {},
   "outputs": [],
   "source": [
    "sorted_trials[2047]"
   ]
  },
  {
   "cell_type": "code",
   "execution_count": null,
   "id": "af870ca4",
   "metadata": {},
   "outputs": [],
   "source": [
    "sorted_trials[2048]"
   ]
  },
  {
   "cell_type": "code",
   "execution_count": null,
   "id": "28ec63ec",
   "metadata": {},
   "outputs": [],
   "source": [
    "with open('/home/erick/scratch/16_beacons/trial_000722.pb', 'rb') as file_in:\n",
    "    stats = AllStatistics()\n",
    "    stats.ParseFromString(file_in.read())"
   ]
  },
  {
   "cell_type": "code",
   "execution_count": null,
   "id": "0aa97842",
   "metadata": {},
   "outputs": [],
   "source": [
    "stats.statistics[1].final_step.posterior.cov"
   ]
  },
  {
   "cell_type": "code",
   "execution_count": null,
   "id": "23363b02",
   "metadata": {},
   "outputs": [],
   "source": [
    "stats.statistics[2094].final_step.posterior.cov"
   ]
  },
  {
   "cell_type": "code",
   "execution_count": null,
   "id": "0ffbbd50",
   "metadata": {},
   "outputs": [],
   "source": []
  }
 ],
 "metadata": {
  "kernelspec": {
   "display_name": "Python 3 (ipykernel)",
   "language": "python",
   "name": "python3"
  },
  "language_info": {
   "codemirror_mode": {
    "name": "ipython",
    "version": 3
   },
   "file_extension": ".py",
   "mimetype": "text/x-python",
   "name": "python",
   "nbconvert_exporter": "python",
   "pygments_lexer": "ipython3",
   "version": "3.10.6"
  }
 },
 "nbformat": 4,
 "nbformat_minor": 5
}
