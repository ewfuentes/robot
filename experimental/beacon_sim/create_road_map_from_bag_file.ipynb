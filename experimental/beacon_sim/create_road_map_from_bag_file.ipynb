{
 "cells": [
  {
   "cell_type": "code",
   "execution_count": null,
   "id": "a405c5fd-2964-4bd8-90bc-3589126f92f0",
   "metadata": {},
   "outputs": [],
   "source": [
    "%matplotlib ipympl\n",
    "import matplotlib as mpl\n",
    "import matplotlib.pyplot as plt\n",
    "import embag_python\n",
    "import common.liegroups.se2_python as se2\n",
    "from scipy.spatial.transform import Rotation as R\n",
    "import experimental.beacon_sim.ekf_slam_python as esp\n",
    "import experimental.beacon_sim.beacon_potential_python as bpp\n",
    "from experimental.beacon_sim import beacon_potential_pb2\n",
    "from experimental.beacon_sim import world_map_config_pb2\n",
    "import common.time.robot_time_python as rtp\n",
    "import planning.probabilistic_road_map_python as prmp\n",
    "import experimental.beacon_sim.correlated_beacons_python as cbp\n",
    "import numpy as np\n",
    "import functools"
   ]
  },
  {
   "cell_type": "code",
   "execution_count": null,
   "id": "de9dc348-a700-48d4-adc8-92a62339aa4f",
   "metadata": {},
   "outputs": [],
   "source": [
    "bag_file = '/home/erick/code/robot-spot/6th_floor_mapping_tethered_estimator.bag'\n"
   ]
  },
  {
   "cell_type": "code",
   "execution_count": null,
   "id": "63e35e9b-c4b6-48ca-868c-05b4d4af9752",
   "metadata": {},
   "outputs": [],
   "source": [
    "def frame_from_child_at_time_from_ros_msg(ros_msg):\n",
    "    # Convert the time to a float\n",
    "    timestamp = ros_msg['header']['stamp'].to_sec()\n",
    "\n",
    "    rot_vec = ros_msg[\"transform\"][\"rotation\"]\n",
    "    trans_vec= ros_msg[\"transform\"][\"translation\"]\n",
    "    parent_from_child_rot = R.from_quat([rot_vec['x'], rot_vec['y'], rot_vec['z'], rot_vec['w']])\n",
    "    parent_from_child_trans = np.array([trans_vec['x'], trans_vec['y'], trans_vec['z']])\n",
    "\n",
    "    x_axis_in_parent = parent_from_child_rot.apply(np.array([1.0, 0.0, 0.0]))\n",
    "    theta = np.arctan2(x_axis_in_parent[1], x_axis_in_parent[0])\n",
    "\n",
    "    parent_from_child = se2.SE2(theta, parent_from_child_trans[:2])\n",
    "    return timestamp, parent_from_child \n"
   ]
  },
  {
   "cell_type": "code",
   "execution_count": null,
   "id": "ff2353ab-5bd9-4889-ab1c-5bb197a3f9b4",
   "metadata": {},
   "outputs": [],
   "source": [
    "def estimate_from_msg(ros_msg):\n",
    "    data = bytes(ros_msg.data()[\"estimate_proto\"])\n",
    "    return esp.EkfSlamEstimate.from_proto_string(data)"
   ]
  },
  {
   "cell_type": "code",
   "execution_count": null,
   "id": "127ff907-c28d-44f6-9cdf-43d8aab15b40",
   "metadata": {},
   "outputs": [],
   "source": [
    "bag = embag_python.View(bag_file)\n",
    "print(bag)\n",
    "\n",
    "maps = []\n",
    "map_from_robot = []\n",
    "detections = []\n",
    "\n",
    "for msg in bag.getMessages():\n",
    "    if msg.topic == '/map':\n",
    "        maps.append((msg.data()[\"header\"][\"stamp\"].to_sec(), msg))\n",
    "\n",
    "    if msg.topic == \"/tf\":\n",
    "        for transform in msg.data()[\"transforms\"]:\n",
    "            if transform[\"header\"][\"frame_id\"] not in ['map', 'flat_body']:\n",
    "                continue\n",
    "            if transform[\"child_frame_id\"] not in ['map', 'flat_body']:\n",
    "                continue\n",
    "            time, parent_from_child = frame_from_child_at_time_from_ros_msg(transform)\n",
    "            if transform[\"header\"][\"frame_id\"] == \"flat_body\":\n",
    "                map_from_robot_at_time = (time, parent_from_child.inverse())\n",
    "            else:\n",
    "                map_from_robot_at_time = (time, parent_from_child)\n",
    "\n",
    "            map_from_robot.append(map_from_robot_at_time)\n",
    "    if 'detections' in msg.topic:\n",
    "        detections.append((msg.data()[\"header\"][\"stamp\"].to_sec(), msg))\n",
    "\n",
    "last_map_msg = maps[-1][1]\n"
   ]
  },
  {
   "cell_type": "code",
   "execution_count": null,
   "id": "6cffaf40-d057-458b-b831-ad545488a2d6",
   "metadata": {},
   "outputs": [],
   "source": [
    "estimate = estimate_from_msg(last_map_msg)"
   ]
  },
  {
   "cell_type": "code",
   "execution_count": null,
   "id": "158c1fe4-0ba6-4481-b373-b9b77d51357a",
   "metadata": {},
   "outputs": [],
   "source": [
    "def plot_map(estimate):\n",
    "    ids = estimate.beacon_ids\n",
    "    xs = []\n",
    "    ys = []\n",
    "    for i in ids:\n",
    "        beacon_in_map = estimate.beacon_in_local(i)\n",
    "        xs.append(beacon_in_map[0])\n",
    "        ys.append(beacon_in_map[1])\n",
    "        plt.text(beacon_in_map[0], beacon_in_map[1], f'tag_{i}')\n",
    "    plt.plot(xs, ys, 'o')\n",
    "\n",
    "def plot_trajectory(map_from_robot_at_time):\n",
    "    for _, map_from_robot in map_from_robot_at_time[::5]:\n",
    "        arrow_start = (map_from_robot @ np.array([0, 0])).flatten()\n",
    "        x_axis = (map_from_robot @ np.array([1, 0])).flatten()\n",
    "        delta = x_axis - arrow_start\n",
    "        plt.arrow(arrow_start[0], arrow_start[1], delta[0], delta[1], head_width=0.25)\n",
    "\n",
    "def plot_road_map(road_map):\n",
    "    pts = np.stack(road_map.points())\n",
    "    plt.plot(pts[:, 0], pts[:, 1], '*')\n",
    "\n",
    "    for i, pt in enumerate(pts):\n",
    "        plt.text(*pt, str(i))\n",
    "\n",
    "    line_segments = []\n",
    "    for i in range(len(pts)):\n",
    "        for j in range(i+1, len(pts)):\n",
    "            if road_map.adj()[i, j] != 0:\n",
    "                line_segments.append([pts[i, :], pts[j,:]])\n",
    "    edges = mpl.collections.LineCollection(line_segments, colors=(0.6, 0.8, 0.6, 1.0))\n",
    "    ax = plt.gca()\n",
    "    ax.add_collection(edges)\n",
    "    ..."
   ]
  },
  {
   "cell_type": "code",
   "execution_count": null,
   "id": "3469d991-40ab-4504-a4e9-c4cac4244ce0",
   "metadata": {},
   "outputs": [],
   "source": [
    "road_map_pts = [\n",
    "    np.array([[0.0], [-0.6]]),\n",
    "    np.array([[2.8], [0.0]]),\n",
    "    np.array([[18.3], [1.65]]),\n",
    "    np.array([[38.2], [4.5]]),\n",
    "    np.array([[53.6], [6.65]]),\n",
    "    np.array([[56.5], [7.2]]),\n",
    "    np.array([[0.8], [16.0]]),\n",
    "    np.array([[-2.5], [15.9]]),\n",
    "    np.array([[16.16], [17.8]]),\n",
    "    np.array([[36.0], [20.2]]),\n",
    "    np.array([[51.2], [22.9]]),\n",
    "\n",
    "]\n",
    "\n",
    "adj = [\n",
    "    (0, 1),\n",
    "    (1, 2), \n",
    "    (2, 3), \n",
    "    (3, 4), \n",
    "    (4, 5),\n",
    "    (4, 10),\n",
    "    (10, 9),\n",
    "    (9, 8),\n",
    "    (8, 6),\n",
    "    (6, 7),\n",
    "    (9, 3),\n",
    "    (2, 8),\n",
    "    (1, 6),\n",
    "]\n",
    "\n",
    "adj_mat = np.zeros((12, 12))\n",
    "\n",
    "for pair in adj:\n",
    "    adj_mat[pair[0], pair[1]] = 1.0\n",
    "    adj_mat[pair[1], pair[0]] = 1.0\n",
    "    \n",
    "road_map = prmp.RoadMap(road_map_pts, adj_mat, None)"
   ]
  },
  {
   "cell_type": "code",
   "execution_count": null,
   "id": "820db371-9edf-4c50-9846-2511e91eceb1",
   "metadata": {},
   "outputs": [],
   "source": [
    "all_landmarks = set(range(50, 81))\n",
    "exclusive_landmarks = set([58, 64])\n",
    "starting_landmarks = set([50, 51, 52, 77])\n",
    "absent_landmarks = all_landmarks - exclusive_landmarks - starting_landmarks\n",
    "\n",
    "exclusive_landmarks = cbp.BeaconClique(0.5, 1e-9, members = list(exclusive_landmarks))\n",
    "exclusive_potential = cbp.create_correlated_beacons(exclusive_landmarks)\n",
    "starting_potential = bpp.BeaconPotential.correlated_beacon_potential(p_present=1.0 - 1e-9, p_beacon_given_present=1.0 - 1e-9, members=list(starting_landmarks))\n",
    "\n",
    "absent_potential = bpp.BeaconPotential.correlated_beacon_potential(p_present=1e-9, p_beacon_given_present=1e-9, members=list(absent_landmarks))\n",
    "\n",
    "beacon_potential = exclusive_potential * absent_potential * starting_potential\n",
    "beacon_potential = beacon_potential.conditioned_on({x: False for x in absent_landmarks})"
   ]
  },
  {
   "cell_type": "code",
   "execution_count": null,
   "id": "8e53d95a-b571-4dd7-a3ad-e9c9f656315d",
   "metadata": {},
   "outputs": [],
   "source": [
    "beacon_potential.log_prob({58: False, 64: True}, allow_partial_assignment=True)\n"
   ]
  },
  {
   "cell_type": "code",
   "execution_count": null,
   "id": "971528f6-417e-4bbc-a6ed-585e08622cb8",
   "metadata": {},
   "outputs": [],
   "source": [
    "beacon_potential.log_marginals([58, 64])"
   ]
  },
  {
   "cell_type": "code",
   "execution_count": null,
   "id": "a89dd609-d5ed-4a9e-ba9a-6f2cb0f2c44f",
   "metadata": {},
   "outputs": [],
   "source": [
    "plt.figure()\n",
    "plot_map(estimate)\n",
    "# plot_trajectory(map_from_robot)\n",
    "plot_road_map(road_map)\n",
    "\n",
    "plt.axis('equal')"
   ]
  },
  {
   "cell_type": "code",
   "execution_count": null,
   "id": "5ca50bb2-d344-444b-9939-c78081c142f7",
   "metadata": {},
   "outputs": [],
   "source": [
    "deltas = []\n",
    "for i in range(len(map_from_robot) - 1):\n",
    "    _, map_from_start = map_from_robot[i]\n",
    "    _, map_from_end = map_from_robot[i+1]\n",
    "    start_from_end = map_from_start.inverse() * map_from_end\n",
    "    deltas.append(start_from_end.translation())\n",
    "\n",
    "deltas = np.vstack(deltas)\n",
    "\n",
    "plt.figure()\n",
    "times = [x[0] for x in map_from_robot[:-1]]\n",
    "diffs = np.linalg.norm(deltas, axis=1)\n",
    "plt.plot(times, diffs)\n",
    "start = 1710966142.5\n",
    "length = 1.2"
   ]
  },
  {
   "cell_type": "code",
   "execution_count": null,
   "id": "7c6f2ef6-a7bd-4565-bf76-84cb8d95d951",
   "metadata": {},
   "outputs": [],
   "source": [
    "with open('/tmp/6th_floor_road_map.pb', 'wb') as file_out:\n",
    "    file_out.write(road_map.to_proto_string())\n",
    "\n",
    "with open('/tmp/6th_floor_beacon_potential.pb', 'wb') as file_out:\n",
    "    file_out.write(beacon_potential.to_proto_string())\n",
    "\n",
    "config = esp.EkfSlamConfig(\n",
    "    max_num_beacons=40,\n",
    "    initial_beacon_uncertainty_m=100.0,\n",
    "    along_track_process_noise_m_per_rt_meter=0.1,\n",
    "    cross_track_process_noise_m_per_rt_meter=0.01,\n",
    "    pos_process_noise_m_per_rt_s=0.01,\n",
    "    heading_process_noise_rad_per_rt_meter=0.001,\n",
    "    heading_process_noise_rad_per_rt_s=0.00001,\n",
    "    beacon_pos_process_noise_m_per_rt_s=0.01,\n",
    "    range_measurement_noise_m=0.05,\n",
    "    bearing_measurement_noise_rad=0.005,\n",
    "    on_map_load_position_uncertainty_m=0.1,\n",
    "    on_map_load_heading_uncertainty_rad=0.01,\n",
    ")\n",
    "time = rtp.RobotTimestamp()\n",
    "slam = esp.EkfSlam(config, time)\n",
    "slam.estimate = estimate\n",
    "slam.save_map('/tmp/6th_floor_map.pb')\n"
   ]
  },
  {
   "cell_type": "code",
   "execution_count": null,
   "id": "63999064-f045-42b0-b1a4-691aef37238d",
   "metadata": {},
   "outputs": [],
   "source": [
    "beacons = []\n",
    "for beacon_id in estimate.beacon_ids:\n",
    "    beacon_in_local = estimate.beacon_in_local(beacon_id)\n",
    "    beacons.append(world_map_config_pb2.Beacon(\n",
    "        id=beacon_id,\n",
    "        pos_x_m=beacon_in_local[0],\n",
    "        pos_y_m=beacon_in_local[1],\n",
    "    ))\n",
    "\n",
    "beacon_potential_proto = beacon_potential_pb2.BeaconPotential()\n",
    "beacon_potential_proto.ParseFromString(beacon_potential.to_proto_string())\n",
    "\n",
    "correlated_beacon_config = world_map_config_pb2.CorrelatedBeaconsConfig()\n",
    "correlated_beacon_config.beacons.extend(beacons)\n",
    "correlated_beacon_config.potential.CopyFrom(beacon_potential_proto)\n",
    "\n",
    "world_map_config = world_map_config_pb2.WorldMapConfig()\n",
    "world_map_config.correlated_beacons.CopyFrom(correlated_beacon_config)\n",
    "\n",
    "with open('/tmp/6th_floor_world_map_config.pb', 'wb') as file_out:\n",
    "    file_out.write(world_map_config.SerializeToString())\n",
    "\n",
    "\n"
   ]
  },
  {
   "cell_type": "code",
   "execution_count": null,
   "id": "ddcf07b5-3faf-4000-a994-23b1e0ec9d3f",
   "metadata": {},
   "outputs": [],
   "source": [
    "beacon_potential_proto"
   ]
  },
  {
   "cell_type": "code",
   "execution_count": null,
   "id": "2b9c37e9-5542-4983-887c-31a4d94fa6da",
   "metadata": {},
   "outputs": [],
   "source": []
  }
 ],
 "metadata": {
  "kernelspec": {
   "display_name": "Python 3 (ipykernel)",
   "language": "python",
   "name": "python3"
  },
  "language_info": {
   "codemirror_mode": {
    "name": "ipython",
    "version": 3
   },
   "file_extension": ".py",
   "mimetype": "text/x-python",
   "name": "python",
   "nbconvert_exporter": "python",
   "pygments_lexer": "ipython3",
   "version": "3.10.13"
  }
 },
 "nbformat": 4,
 "nbformat_minor": 5
}
