{
 "cells": [
  {
   "cell_type": "code",
   "execution_count": null,
   "id": "a405c5fd-2964-4bd8-90bc-3589126f92f0",
   "metadata": {},
   "outputs": [],
   "source": [
    "%matplotlib ipympl\n",
    "import matplotlib as mpl\n",
    "import matplotlib.pyplot as plt\n",
    "import embag_python\n",
    "import common.liegroups.se2_python as se2\n",
    "from scipy.spatial.transform import Rotation as R\n",
    "import experimental.beacon_sim.ekf_slam_python as esp\n",
    "import experimental.beacon_sim.beacon_potential_python as bpp\n",
    "import planning.probabilistic_road_map_python as prmp\n",
    "import experimental.beacon_sim.correlated_beacons_python as cbp\n",
    "import numpy as np"
   ]
  },
  {
   "cell_type": "code",
   "execution_count": null,
   "id": "de9dc348-a700-48d4-adc8-92a62339aa4f",
   "metadata": {},
   "outputs": [],
   "source": [
    "bag_file = '/home/erick/code/robot-spot/2024-03-14-12-15-00.bag'\n"
   ]
  },
  {
   "cell_type": "code",
   "execution_count": null,
   "id": "63e35e9b-c4b6-48ca-868c-05b4d4af9752",
   "metadata": {},
   "outputs": [],
   "source": [
    "def frame_from_child_at_time_from_ros_msg(ros_msg):\n",
    "    # Convert the time to a float\n",
    "    timestamp = ros_msg['header']['stamp'].to_sec()\n",
    "\n",
    "    rot_vec = ros_msg[\"transform\"][\"rotation\"]\n",
    "    trans_vec= ros_msg[\"transform\"][\"translation\"]\n",
    "    parent_from_child_rot = R.from_quat([rot_vec['x'], rot_vec['y'], rot_vec['z'], rot_vec['w']])\n",
    "    parent_from_child_trans = np.array([trans_vec['x'], trans_vec['y'], trans_vec['z']])\n",
    "\n",
    "    x_axis_in_parent = parent_from_child_rot.apply(np.array([1.0, 0.0, 0.0]))\n",
    "    theta = np.arctan2(x_axis_in_parent[1], x_axis_in_parent[0])\n",
    "\n",
    "    parent_from_child = se2.SE2(theta, parent_from_child_trans[:2])\n",
    "    return timestamp, parent_from_child \n"
   ]
  },
  {
   "cell_type": "code",
   "execution_count": null,
   "id": "ff2353ab-5bd9-4889-ab1c-5bb197a3f9b4",
   "metadata": {},
   "outputs": [],
   "source": [
    "def estimate_from_msg(ros_msg):\n",
    "    data = bytes(ros_msg.data()[\"estimate_proto\"])\n",
    "    return esp.EkfSlamEstimate.from_proto_string(data)"
   ]
  },
  {
   "cell_type": "code",
   "execution_count": null,
   "id": "127ff907-c28d-44f6-9cdf-43d8aab15b40",
   "metadata": {},
   "outputs": [],
   "source": [
    "bag = embag_python.View(bag_file)\n",
    "print(bag)\n",
    "\n",
    "last_map_msg = None\n",
    "map_from_robot = []\n",
    "\n",
    "for msg in bag.getMessages(['/tf', '/map']):\n",
    "    if msg.topic == '/map':\n",
    "        last_map_msg = msg\n",
    "\n",
    "    if msg.topic == \"/tf\":\n",
    "        for transform in msg.data()[\"transforms\"]:\n",
    "            if transform[\"header\"][\"frame_id\"] not in ['map', 'flat_body']:\n",
    "                continue\n",
    "            if transform[\"child_frame_id\"] not in ['map', 'flat_body']:\n",
    "                continue\n",
    "            time, parent_from_child = frame_from_child_at_time_from_ros_msg(transform)\n",
    "            if transform[\"header\"][\"frame_id\"] == \"flat_body\":\n",
    "                map_from_robot_at_time = (time, parent_from_child.inverse())\n",
    "            else:\n",
    "                map_from_robot_at_time = (time, parent_from_child)\n",
    "\n",
    "            map_from_robot.append(map_from_robot_at_time)\n"
   ]
  },
  {
   "cell_type": "code",
   "execution_count": null,
   "id": "6cffaf40-d057-458b-b831-ad545488a2d6",
   "metadata": {},
   "outputs": [],
   "source": [
    "estimate = estimate_from_msg(last_map_msg)"
   ]
  },
  {
   "cell_type": "code",
   "execution_count": null,
   "id": "158c1fe4-0ba6-4481-b373-b9b77d51357a",
   "metadata": {},
   "outputs": [],
   "source": [
    "def plot_map(estimate):\n",
    "    ids = estimate.beacon_ids\n",
    "    xs = []\n",
    "    ys = []\n",
    "    for i in ids:\n",
    "        beacon_in_map = estimate.beacon_in_local(i)\n",
    "        xs.append(beacon_in_map[0])\n",
    "        ys.append(beacon_in_map[1])\n",
    "        plt.text(beacon_in_map[0], beacon_in_map[1], f'tag_{i}')\n",
    "    plt.plot(xs, ys, 'o')\n",
    "\n",
    "def plot_trajectory(map_from_robot_at_time):\n",
    "    for _, map_from_robot in map_from_robot_at_time[::5]:\n",
    "        arrow_start = (map_from_robot @ np.array([0, 0])).flatten()\n",
    "        x_axis = (map_from_robot @ np.array([1, 0])).flatten()\n",
    "        delta = x_axis - arrow_start\n",
    "        plt.arrow(arrow_start[0], arrow_start[1], delta[0], delta[1], head_width=0.25)\n",
    "\n",
    "def plot_road_map(road_map):\n",
    "    pts = np.stack(road_map.points())\n",
    "    plt.plot(pts[:, 0], pts[:, 1], '*')\n",
    "\n",
    "    line_segments = []\n",
    "    for i in range(len(pts)):\n",
    "        for j in range(i+1, len(pts)):\n",
    "            if road_map.adj()[i, j] != 0:\n",
    "                line_segments.append([pts[i, :], pts[j,:]])\n",
    "    edges = mpl.collections.LineCollection(line_segments, colors=(0.6, 0.8, 0.6, 1.0))\n",
    "    ax = plt.gca()\n",
    "    ax.add_collection(edges)\n",
    "    ..."
   ]
  },
  {
   "cell_type": "code",
   "execution_count": null,
   "id": "3469d991-40ab-4504-a4e9-c4cac4244ce0",
   "metadata": {},
   "outputs": [],
   "source": [
    "road_map_pts = [\n",
    "    np.array([[1.75], [0]]),\n",
    "    np.array([[1.75], [-2]]),\n",
    "    np.array([[1.75], [-5]]),\n",
    "    np.array([[4.75], [-2.5]]),\n",
    "    np.array([[4.75], [-4.75]])\n",
    "]\n",
    "\n",
    "adj = [\n",
    "    (0, 1), (1, 3), (1,2), (1,4), (3, 4), (3, 2), (2, 4)\n",
    "]\n",
    "\n",
    "adj_mat = np.zeros((5, 5))\n",
    "\n",
    "for pair in adj:\n",
    "    adj_mat[pair[0], pair[1]] = 1.0\n",
    "    adj_mat[pair[1], pair[0]] = 1.0\n",
    "    \n",
    "road_map = prmp.RoadMap(road_map_pts, adj_mat, None)"
   ]
  },
  {
   "cell_type": "code",
   "execution_count": null,
   "id": "820db371-9edf-4c50-9846-2511e91eceb1",
   "metadata": {},
   "outputs": [],
   "source": [
    "exclusive_landmarks = cbp.BeaconClique(0.5, 1e-9, members = [1, 4])\n",
    "absent_landmarks = cbp.BeaconClique(1e-9, 1 - 1e-9, [0, 2, 3, 5, 6, 7])\n",
    "\n",
    "exclusive_potential = cbp.create_correlated_beacons(exclusive_landmarks)\n",
    "absent_potential = cbp.create_correlated_beacons(absent_landmarks)\n",
    "\n",
    "beacon_potential =  exclusive_potential * absent_potential "
   ]
  },
  {
   "cell_type": "code",
   "execution_count": null,
   "id": "a89dd609-d5ed-4a9e-ba9a-6f2cb0f2c44f",
   "metadata": {},
   "outputs": [],
   "source": [
    "plt.figure()\n",
    "plot_map(estimate)\n",
    "# plot_trajectory(map_from_robot)\n",
    "plot_road_map(road_map)\n",
    "\n",
    "plt.plot(*zip(*road_map_pts), '*')\n",
    "for i, pt in enumerate(road_map_pts):\n",
    "    plt.text(*pt, f'{i}')\n",
    "        \n",
    "plt.axis('equal')"
   ]
  },
  {
   "cell_type": "code",
   "execution_count": null,
   "id": "7c6f2ef6-a7bd-4565-bf76-84cb8d95d951",
   "metadata": {},
   "outputs": [],
   "source": [
    "with open('/tmp/robot_room_road_map.pb', 'wb') as file_out:\n",
    "    file_out.write(road_map.to_proto_string())\n",
    "\n",
    "with open('/tmp/robot_room_beacon_potential.pb', 'wb') as file_out:\n",
    "    file_out.write(bea"
   ]
  }
 ],
 "metadata": {
  "kernelspec": {
   "display_name": "Python 3 (ipykernel)",
   "language": "python",
   "name": "python3"
  },
  "language_info": {
   "codemirror_mode": {
    "name": "ipython",
    "version": 3
   },
   "file_extension": ".py",
   "mimetype": "text/x-python",
   "name": "python",
   "nbconvert_exporter": "python",
   "pygments_lexer": "ipython3",
   "version": "3.10.13"
  }
 },
 "nbformat": 4,
 "nbformat_minor": 5
}
