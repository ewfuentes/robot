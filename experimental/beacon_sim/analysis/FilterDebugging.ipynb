{
 "cells": [
  {
   "cell_type": "markdown",
   "id": "49cb3d9b",
   "metadata": {},
   "source": [
    "# Filter Debugging\n",
    "\n",
    "I'm seeing the filter diverge after some time. This notebook tries to understand why this is happening."
   ]
  },
  {
   "cell_type": "code",
   "execution_count": null,
   "id": "2ee6c3cb",
   "metadata": {},
   "outputs": [],
   "source": [
    "%matplotlib notebook\n",
    "\n",
    "from experimental.beacon_sim import sim_log_pb2\n",
    "\n",
    "import numpy as np\n",
    "from spatialmath import SE2\n",
    "from spatialmath.base.transforms2d import tr2xyt\n",
    "import matplotlib.pyplot as plt\n",
    "import matplotlib as mpl\n",
    "mpl.style.use('ggplot')\n",
    "\n",
    "np.set_printoptions(precision=6, linewidth=300)\n",
    "\n",
    "import ipywidgets\n",
    "\n",
    "import time"
   ]
  },
  {
   "cell_type": "code",
   "execution_count": null,
   "id": "ccbb9887",
   "metadata": {
    "scrolled": false
   },
   "outputs": [],
   "source": [
    "# log_file_path = '/home/erick/scratch/beacon_sim.pb'\n",
    "log_file_path = '/tmp/beacon_sim.pb'\n",
    "log = sim_log_pb2.SimLog()\n",
    "with open(log_file_path, 'rb') as file_in:\n",
    "    log.ParseFromString(file_in.read())\n",
    "\n",
    "def unpack_matrix(proto_msg):\n",
    "    return np.array(proto_msg.data).reshape(proto_msg.num_rows, proto_msg.num_cols)\n",
    "    \n",
    "def unpack_estimate(proto_msg):\n",
    "    out = {}\n",
    "    out['mean'] = unpack_matrix(proto_msg.mean)\n",
    "    out['cov'] = unpack_matrix(proto_msg.cov)\n",
    "    out['beacon_ids'] = list(proto_msg.beacon_ids)\n",
    "    return out\n",
    "\n",
    "def unpack_observation(proto_msg):\n",
    "    out = {}\n",
    "    out['id'] = proto_msg.id\n",
    "    out['range_m'] = proto_msg.range_m\n",
    "    out['bearing_rad'] = proto_msg.bearing_rad\n",
    "    return out\n",
    "\n",
    "def unpack_observations(proto_msg):\n",
    "    out = [unpack_observation(x) for x in proto_msg.observations]\n",
    "    \n",
    "    return out\n",
    "    \n",
    "def unpack_se2(proto_msg):\n",
    "    real = proto_msg.rotation.complex.real\n",
    "    imag = proto_msg.rotation.complex.imag\n",
    "    trans = unpack_matrix(proto_msg.translation)\n",
    "    \n",
    "    mat = np.array([[real, -imag, trans[0, 0]], [imag, real, trans[1, 0]], [0.0, 0.0, 1.0]])\n",
    "    \n",
    "    return SE2(mat)\n",
    "    \n",
    "def parse_debug_message(proto_msg):\n",
    "    out = {}\n",
    "    out['time_of_validity'] = proto_msg.time_of_validity.ticks_since_epoch / 1e9\n",
    "    out['prior'] = unpack_estimate(proto_msg.prior)\n",
    "    out['old_from_new'] = unpack_se2(proto_msg.old_robot_from_new_robot)\n",
    "    out['prediction'] = unpack_estimate(proto_msg.prediction)\n",
    "    out['observations'] = unpack_observations(proto_msg.observations)\n",
    "    out['posterior'] = unpack_estimate(proto_msg.posterior)\n",
    "    out['local_from_true'] = unpack_se2(proto_msg.local_from_true_robot)\n",
    "    out['measurement'] = unpack_matrix(proto_msg.measurement_vec)\n",
    "    out['predicted_meas'] = unpack_matrix(proto_msg.prediction_vec)\n",
    "    out['innovation'] = unpack_matrix(proto_msg.innovation_vec)\n",
    "    out['observation_mat'] = unpack_matrix(proto_msg.observation_mat)\n",
    "    return out\n",
    "debug_msgs = [parse_debug_message(x) for x in log.debug_msgs]\n",
    "\n"
   ]
  },
  {
   "cell_type": "code",
   "execution_count": null,
   "id": "a7bc6434",
   "metadata": {},
   "outputs": [],
   "source": [
    "def get_ground_truth(debug_msgs):\n",
    "    return SE2([x['local_from_true'] for x in debug_msgs])\n",
    "\n",
    "def get_robot_estimate_mean(debug_msgs):\n",
    "    return SE2([SE2(x=x['posterior']['mean'][0, 0],\n",
    "                y=x['posterior']['mean'][1, 0],\n",
    "                theta=x['posterior']['mean'][2]) for x in debug_msgs])\n",
    "\n",
    "def get_covariance_matrix(debug_msgs):\n",
    "    return np.stack([x['posterior']['cov'] for x in debug_msgs])\n",
    "\n",
    "def get_observations(debug_msgs):\n",
    "    out = {}\n",
    "    \n",
    "    for msg in debug_msgs:\n",
    "        for obs in msg['observations']:\n",
    "            if obs['id'] not in out:\n",
    "                out[obs['id']] = {\n",
    "                    'range_m': [],\n",
    "                    'bearing_rad': []\n",
    "                }\n",
    "    \n",
    "            out[obs['id']]['range_m'].append(obs['range_m'])\n",
    "            out[obs['id']]['bearing_rad'].append(obs['bearing_rad'])\n",
    "    \n",
    "    return out\n",
    "\n",
    "def get_beacon_estimates_mean(debug_msgs):\n",
    "    out = {}\n",
    "    for msg in debug_msgs:\n",
    "        for i, beacon_idx in enumerate(msg['posterior']['beacon_ids']):\n",
    "            if beacon_idx not in out:\n",
    "                out[beacon_idx] = []\n",
    "            out[beacon_idx].append(msg['posterior']['mean'][2 * i + 3:2 * i + 5, 0])\n",
    "    for key, value in out.items():\n",
    "        out[key] = np.vstack(value)\n",
    "    return out"
   ]
  },
  {
   "cell_type": "code",
   "execution_count": null,
   "id": "f59242a7",
   "metadata": {},
   "outputs": [],
   "source": [
    "def create_trajectory_collection(trajectory, x_color='#C00000', y_color='#00C000'):\n",
    "    origin =  [x * np.array([[0.0, 0.0]]) for x in trajectory]\n",
    "    px = [x * np.array([[0.25, 0.0]]) for x in trajectory]\n",
    "    py = [x * np.array([[0.0, 0.25]]) for x in trajectory]\n",
    "    line_collection = []\n",
    "    colors = []\n",
    "    for o, x, y in zip(origin, px, py):\n",
    "        line_collection.append(np.vstack([o.T, x.T]))\n",
    "        line_collection.append(np.vstack([o.T, y.T]))\n",
    "        colors.append(x_color)\n",
    "        colors.append(y_color)\n",
    "    return mpl.collections.LineCollection(line_collection, colors=colors)\n"
   ]
  },
  {
   "cell_type": "code",
   "execution_count": null,
   "id": "52c1c505",
   "metadata": {
    "scrolled": false
   },
   "outputs": [],
   "source": [
    "gt = get_ground_truth(debug_msgs)\n",
    "est = get_robot_estimate_mean(debug_msgs)\n",
    "beacons = get_beacon_estimates_mean(debug_msgs)\n",
    "fig, ax = plt.subplots()\n",
    "gt_collection = ax.add_collection(create_trajectory_collection(gt))\n",
    "est_collection = ax.add_collection(create_trajectory_collection(est, x_color='#E67E22', y_color='#3498DB'))\n",
    "\n",
    "\n",
    "lines = []\n",
    "for beacon, pts in beacons.items():\n",
    "    lines.append(plt.plot(pts[:, 0], pts[:, 1], label=f'Beacon {beacon}')[0])\n",
    "plt.xlim([-2, 10])\n",
    "plt.ylim([-2, 10])\n",
    "plt.title('Estimates over time vs gt')\n",
    "plt.legend()\n",
    "plt.tight_layout()\n",
    "\n",
    "\n",
    "def upper_lim(idx):\n",
    "    global gt_collection, est_collection, lines\n",
    "    gt_collection.remove()\n",
    "    est_collection.remove()\n",
    "    for l in lines:\n",
    "        l.remove()\n",
    "    gt_collection = ax.add_collection(create_trajectory_collection(gt[:idx]))\n",
    "    est_collection = ax.add_collection(create_trajectory_collection(est[:idx], x_color='#E67E22', y_color='#3498DB'))\n",
    "    lines = []\n",
    "    ax.set_prop_cycle(color=['red', 'green', 'blue', 'black'])\n",
    "    for beacon, pts in beacons.items():\n",
    "        lines.append(plt.plot(pts[:idx, 0], pts[:idx, 1], label = f'Beacon {beacon}')[0])\n",
    "    plt.axis('equal')\n",
    "    plt.legend()\n",
    "    fig.canvas.draw()\n",
    "    fig.canvas.flush_events()\n",
    "\n",
    "# _ =ipywidgets.interact(upper_lim, idx=(1, len(beacons[0])))\n",
    "\n",
    "for i in range(1, len(beacons[0])):\n",
    "    upper_lim(i)\n",
    "    time.sleep(0.05)\n",
    "    fig.savefig(f'bug_{i:04}.png')\n"
   ]
  },
  {
   "cell_type": "code",
   "execution_count": null,
   "id": "f7cecd05",
   "metadata": {},
   "outputs": [],
   "source": [
    "plt.figure()\n",
    "true_from_est = SE2([local_from_true.inv() * local_from_est for local_from_true, local_from_est in zip(gt, est)])\n",
    "\n",
    "pos_error = true_from_est.t\n",
    "abs_pos_error = np.sum(pos_error**2, axis = 1)\n",
    "\n",
    "plt.plot(abs_pos_error)\n",
    "plt.yscale('log')\n",
    "plt.xlabel('Timestep')\n",
    "plt.ylabel('Position Error')"
   ]
  },
  {
   "cell_type": "code",
   "execution_count": null,
   "id": "d8d81e1e",
   "metadata": {},
   "outputs": [],
   "source": [
    "cov = get_covariance_matrix(debug_msgs)\n",
    "\n",
    "plt.figure()\n",
    "plt.subplot(211)\n",
    "eig_vals = np.linalg.eigvalsh(cov)\n",
    "condition_number = eig_vals[:, -1]  / eig_vals[:, 0]\n",
    "\n",
    "plt.plot(condition_number)\n",
    "plt.ylabel('Condition Number')\n",
    "plt.xlabel('Timestep')\n",
    "plt.yscale('log')\n",
    "\n",
    "plt.subplot(212)\n",
    "plt.plot(eig_vals[:, 0])\n",
    "\n",
    "plt.tight_layout()"
   ]
  },
  {
   "cell_type": "markdown",
   "id": "cab4e898",
   "metadata": {},
   "source": [
    "The condition numer is pretty high, but it's going down the entire time. I'll flag this for now, but I'll continue looking at the observations"
   ]
  },
  {
   "cell_type": "code",
   "execution_count": null,
   "id": "22bc9538",
   "metadata": {},
   "outputs": [],
   "source": [
    "np.diag(cov[100,:,:])"
   ]
  },
  {
   "cell_type": "markdown",
   "id": "3d0dfdc4",
   "metadata": {},
   "source": [
    "It looks like the entry that corresponds to heading is the smallest"
   ]
  },
  {
   "cell_type": "code",
   "execution_count": null,
   "id": "ccd1b673",
   "metadata": {},
   "outputs": [],
   "source": [
    "labels = ['Robot X', 'Robot Y', 'Robot theta']\n",
    "_ = [labels.extend([f'Beacon {beacon} {dim}' for dim in 'XY']) for beacon in beacons]\n",
    "\n",
    "plt.figure()\n",
    "for i, label in enumerate(labels):\n",
    "    plt.plot(np.sqrt(cov[:, i, i]), label=label)\n",
    "plt.legend()\n",
    "plt.yscale('log')"
   ]
  },
  {
   "cell_type": "code",
   "execution_count": null,
   "id": "c7088c62",
   "metadata": {},
   "outputs": [],
   "source": [
    "obs = get_observations(debug_msgs)"
   ]
  },
  {
   "cell_type": "code",
   "execution_count": null,
   "id": "c12d7cef",
   "metadata": {},
   "outputs": [],
   "source": [
    "plt.figure(figsize=(8, 6))\n",
    "ranges = {beacon:np.array(values['range_m']) for beacon, values in obs.items()}\n",
    "bearings = {beacon:np.array(values['bearing_rad']) for beacon, values in obs.items()}\n",
    "\n",
    "plot_ax = plt.subplot(211)\n",
    "for beacon, r in ranges.items():\n",
    "    plt.plot(r, label=f'Beacon {beacon}')\n",
    "plt.ylabel('Range')\n",
    "plt.legend()\n",
    "\n",
    "plt.subplot(212, sharex=plot_ax)\n",
    "for beacon, b in bearings.items():\n",
    "    plt.plot(b, label=f'Beacon {beacon}')\n",
    "plt.ylabel('Bearing')\n",
    "plt.xlabel('Timestep')\n",
    "plt.legend()\n",
    "plt.tight_layout()"
   ]
  },
  {
   "cell_type": "markdown",
   "id": "d7fc388b",
   "metadata": {},
   "source": [
    "So the last turn happens between timesteps 131 and 133. Timestep 133 is also when the covariance is smallest. The error starts growing really quickly after this point. Let's look at the heading errors."
   ]
  },
  {
   "cell_type": "code",
   "execution_count": null,
   "id": "cb6a1033",
   "metadata": {},
   "outputs": [],
   "source": [
    "plt.figure()\n",
    "theta_error = np.array(true_from_est.xyt())[:, -1]\n",
    "plt.plot(theta_error)\n",
    "plt.xlabel('Timestep')\n",
    "plt.ylabel('Angle Error')"
   ]
  },
  {
   "cell_type": "markdown",
   "id": "5018b7e8",
   "metadata": {},
   "source": [
    "This seems to be a problem much later than position. I wonder if this somehow has something to do with wrap around... Playing around with the sim a bit more, it seems to be related to wrap around issues in the measurement update function. Moving in the -x direction of the local frame, makes it diverge almost immediately, but moving backwards along the +x direction seems to be okay."
   ]
  },
  {
   "cell_type": "code",
   "execution_count": null,
   "id": "dbb54c0e",
   "metadata": {},
   "outputs": [],
   "source": [
    "debug_msgs[160]"
   ]
  }
 ],
 "metadata": {
  "kernelspec": {
   "display_name": "Python 3",
   "language": "python",
   "name": "python3"
  },
  "language_info": {
   "codemirror_mode": {
    "name": "ipython",
    "version": 3
   },
   "file_extension": ".py",
   "mimetype": "text/x-python",
   "name": "python",
   "nbconvert_exporter": "python",
   "pygments_lexer": "ipython3",
   "version": "3.9.12"
  }
 },
 "nbformat": 4,
 "nbformat_minor": 5
}
