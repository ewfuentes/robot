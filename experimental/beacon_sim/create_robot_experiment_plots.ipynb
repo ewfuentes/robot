{
 "cells": [
  {
   "cell_type": "code",
   "execution_count": null,
   "id": "ee95bcbb-1ac5-4f0d-8749-50d2e31af5e6",
   "metadata": {},
   "outputs": [],
   "source": [
    "%matplotlib ipympl\n",
    "import matplotlib as mpl\n",
    "import matplotlib.pyplot as plt\n",
    "from pathlib import Path\n",
    "import numpy as np\n",
    "\n",
    "import experimental.beacon_sim.ekf_slam_python as esp\n",
    "import planning.probabilistic_road_map_python as prmp\n",
    "from experimental.beacon_sim.ekf_slam_estimate_pb2 import EkfSlamEstimate as EstimateProto\n",
    "\n",
    "import itertools\n",
    "import embag_python as embag\n",
    "import enum\n",
    "from typing import NamedTuple\n",
    "\n",
    "\n",
    "mpl.style.use('ggplot')"
   ]
  },
  {
   "cell_type": "code",
   "execution_count": null,
   "id": "79549d79-1bf8-4763-984c-e2d702b2abe4",
   "metadata": {},
   "outputs": [],
   "source": [
    "bag_file_dir = Path('/home/erick/Dropbox (MIT)/brm_bag_files/gt_estimator')\n",
    "raw_bag_file_dir = Path('/home/erick/Dropbox (MIT)/brm_bag_files/raw')\n",
    "road_map_path = Path('/home/erick/Dropbox (MIT)/brm_bag_files/killian_court_road_map.pb')"
   ]
  },
  {
   "cell_type": "code",
   "execution_count": null,
   "id": "247a3822-6221-498b-b4d9-d69c327194de",
   "metadata": {},
   "outputs": [],
   "source": [
    "baseline_bags = sorted(list(bag_file_dir.glob('*baseline*present*[0-9].bag')))\n",
    "brule_bags = sorted(list(bag_file_dir.glob('*brule*present*[0-9].bag')))\n",
    "ONE_HUNDRED_MB = 100 * 1024 * 1024\n",
    "brule_bags = [p for p in brule_bags if p.stat().st_size > ONE_HUNDRED_MB]"
   ]
  },
  {
   "cell_type": "code",
   "execution_count": null,
   "id": "7fa14441-05e5-44d3-a714-e143523348bc",
   "metadata": {},
   "outputs": [],
   "source": [
    "brule_bags"
   ]
  },
  {
   "cell_type": "code",
   "execution_count": null,
   "id": "011c4b2d-c3f8-4f0f-9b5a-c9d09e5a385c",
   "metadata": {},
   "outputs": [],
   "source": [
    "baseline_bags"
   ]
  },
  {
   "cell_type": "code",
   "execution_count": null,
   "id": "62d90d80-155c-420f-8680-0f5c5332a7f3",
   "metadata": {},
   "outputs": [],
   "source": [
    "road_map = prmp.RoadMap.from_proto_string(road_map_path.read_bytes())"
   ]
  },
  {
   "cell_type": "code",
   "execution_count": null,
   "id": "e9328ee0-9d33-40d6-8484-4fa36a9dc51c",
   "metadata": {},
   "outputs": [],
   "source": [
    "def read_gt_bag(path: Path):\n",
    "    bag = embag.Bag(path)\n",
    "    map_from_robot_at_time = []\n",
    "    for topic, msg, time in bag.read_messages(topics=[\"/map\"]):\n",
    "        proto_string = bytes(msg.estimate_proto)\n",
    "        estimate = esp.EkfSlamEstimate.from_proto_string(proto_string)\n",
    "        map_from_robot_at_time.append((estimate.time_of_validity, estimate.local_from_robot()))\n",
    "    pos = np.stack([mfr.translation() for _, mfr in map_from_robot_at_time])\n",
    "    return pos\n",
    "\n"
   ]
  },
  {
   "cell_type": "code",
   "execution_count": null,
   "id": "5f5735fa-eb88-4cce-97c5-faa4e19aab5f",
   "metadata": {},
   "outputs": [],
   "source": [
    "baseline_positions = [read_gt_bag(str(x)) for x in baseline_bags]\n",
    "brule_positions = [read_gt_bag(str(x)) for x in brule_bags]"
   ]
  },
  {
   "cell_type": "code",
   "execution_count": null,
   "id": "9a849963-d8d8-4024-97f1-ea2940800087",
   "metadata": {},
   "outputs": [],
   "source": [
    "def plot_road_map(road_map):\n",
    "    pts = np.stack(road_map.points())\n",
    "    plt.plot(pts[:, 0], pts[:, 1], '*')\n",
    "    for i, pt in enumerate(pts):\n",
    "        label = str(i)\n",
    "        if i == 16:\n",
    "            label = 'Start'\n",
    "        elif i == 17:\n",
    "            label = \"Goal\"\n",
    "        plt.text(*pt, label)\n",
    "\n",
    "    if road_map.has_start_goal():\n",
    "        for idx, marker in [(road_map.START_IDX, 'rs'), (road_map.GOAL_IDX, 'y*')]:\n",
    "            pt = road_map.point(idx)\n",
    "            plt.plot(*pt, marker)\n",
    "            \n",
    "\n",
    "    line_segments = []\n",
    "    for i in range(len(pts)):\n",
    "        for j in range(i+1, len(pts)):\n",
    "            if road_map.adj()[i, j] != 0:\n",
    "                line_segments.append([pts[i, :], pts[j,:]])\n",
    "\n",
    "    if road_map.has_start_goal():\n",
    "        for idx in [road_map.START_IDX, road_map.GOAL_IDX]:\n",
    "            pt = road_map.point(idx)\n",
    "            neighbors = road_map.neighbors(idx)\n",
    "            for _, neighbor_pt in neighbors:\n",
    "                line_segments.append([pt, neighbor_pt])\n",
    "    \n",
    "    edges = mpl.collections.LineCollection(line_segments, colors=(0.6, 0.8, 0.6, 1.0))\n",
    "    ax = plt.gca()\n",
    "    ax.add_collection(edges)"
   ]
  },
  {
   "cell_type": "code",
   "execution_count": null,
   "id": "d27f7d57-e175-44bc-ae2e-fc5d84d3edcb",
   "metadata": {},
   "outputs": [],
   "source": [
    "\n",
    "plt.figure()\n",
    "plot_road_map(road_map)\n",
    "for pos in baseline_positions:\n",
    "    plt.plot(pos[:, 0], pos[:, 1])\n",
    "\n",
    "\n",
    "plt.xlabel('X (m)')\n",
    "plt.ylabel('Y (m)')\n",
    "plt.title('Baseline Trajectories')\n",
    "plt.axis('equal')"
   ]
  },
  {
   "cell_type": "code",
   "execution_count": null,
   "id": "2b233864-3526-4cfd-9ec2-f945f61308eb",
   "metadata": {},
   "outputs": [],
   "source": [
    "\n",
    "plt.figure()\n",
    "plot_road_map(road_map)\n",
    "for pos in brule_positions:\n",
    "    plt.plot(pos[:, 0], pos[:, 1])\n",
    "\n",
    "plt.xlabel('X (m)')\n",
    "plt.ylabel('Y (m)')\n",
    "plt.title('BRULE Trajectories')\n",
    "plt.axis('equal')"
   ]
  },
  {
   "cell_type": "code",
   "execution_count": null,
   "id": "47b6b8ac-43ea-4518-8ef3-f622e6bb5c36",
   "metadata": {},
   "outputs": [],
   "source": [
    "\n",
    "class PointSource(enum.Enum):\n",
    "    true = 1\n",
    "    nominal = 2\n",
    "\n",
    "class Point(NamedTuple):\n",
    "    idx: int\n",
    "    source: PointSource\n",
    "\n",
    "def sample_path_edge(road_map, start_idx, end_idx, max_ds_m = 1.0):\n",
    "    start_pos = road_map.point(start_idx)\n",
    "    end_pos = road_map.point(end_idx)\n",
    "    d_pos = end_pos - start_pos\n",
    "    edge_length_m = np.linalg.norm(d_pos)\n",
    "    num_steps = int((edge_length_m + 0.5 * max_ds_m) / max_ds_m)\n",
    "\n",
    "    positions = []\n",
    "    distances = []\n",
    "    for i in range(0, num_steps+1):\n",
    "        frac = i / num_steps\n",
    "        positions.append(start_pos + frac * d_pos)\n",
    "        distances.append(frac * edge_length_m)\n",
    "    return positions, distances\n",
    "        \n",
    "\n",
    "def sample_node_path(road_map, node_path, max_ds_m = 1.0):\n",
    "    positions = []\n",
    "    distances = []\n",
    "    for start, end in zip(node_path[:-1], node_path[1:]):\n",
    "        edge_positions, edge_distances = sample_path_edge(road_map, start, end, max_ds_m)\n",
    "        if not positions:\n",
    "            positions.extend(edge_positions)\n",
    "            distances.extend(edge_distances)\n",
    "        else:\n",
    "            positions.extend(edge_positions[1:])\n",
    "            offset_dist_m = distances[-1]\n",
    "            distances.extend([d + offset_dist_m for d in edge_distances[1:]])\n",
    "    return np.vstack(positions), np.array(distances)\n",
    "\n",
    "def find_nearest(q, polyline):\n",
    "    delta = polyline - q\n",
    "    norms = np.linalg.norm(delta, axis=1)\n",
    "    return np.argmin(norms, keepdims=True)\n",
    "    \n",
    "\n",
    "def find_correspondence(positions, nominal_positions):\n",
    "    D = {}\n",
    "    unmatched_nom_idxs = set(range(len(nominal_positions)))\n",
    "    for true_idx, true_pt in enumerate(positions):\n",
    "        nearest_on_nominal_idxs = find_nearest(true_pt, nominal_positions)\n",
    "        for nom_idx in nearest_on_nominal_idxs:\n",
    "            nom_key = Point(nom_idx, PointSource.nominal)\n",
    "            nearest_pts = D.get(nom_key, [])\n",
    "            nearest_pts.append(Point(true_idx, PointSource.true))\n",
    "            D[nom_key] = nearest_pts\n",
    "            unmatched_nom_idxs -= {nom_idx}\n",
    "        \n",
    "    for nom_idx in unmatched_nom_idxs:\n",
    "        nom_key = Point(nom_idx, PointSource.nominal)\n",
    "        nom_pt = nominal_positions[nom_idx]\n",
    "        true_idxs = find_nearest(nom_pt, positions)\n",
    "        for true_idx in true_idxs:\n",
    "            true_key = Point(true_idx, PointSource.true)\n",
    "            if true_key in D:\n",
    "                D[true_key].append(nom_key)\n",
    "            else:\n",
    "                nom_closest_to_true_idx = find_nearest(positions[true_idx], nominal_positions)\n",
    "                nom_closest_to_true_key = Point(nom_closest_to_true_idx, PointSource.nominal)\n",
    "                if nom_closest_to_true_key in D:\n",
    "                    D[nom_closest_to_true_key].remove(true_key)\n",
    "                    D[true_key] = [nom_idx]\n",
    "                else:\n",
    "                    del D[nom_closest_to_true_key]\n",
    "                    D[true_key] = [nom_idx, nom_closest_to_true_idx]\n",
    "\n",
    "    partition = []\n",
    "    for true_idx in range(len(positions)):\n",
    "        true_key = Point(true_idx, PointSource.true)\n",
    "        if true_key in D:\n",
    "            partition.append(([true_idx], D[key]))\n",
    "    for nom_idx in range(len(nominal_positions)):\n",
    "        nom_key = Point(nom_idx, PointSource.nominal)\n",
    "        if nom_key in D:\n",
    "            partition.append((D[nom_key], [nom_key]))\n",
    "    return partition\n",
    "\n",
    "def compute_minimal_error(positions, nominal_positions, correspondence):\n",
    "    ...\n",
    "\n",
    "def compute_crosstrack_error(positions, road_map, node_path):\n",
    "    # Sample the node path \n",
    "    nominal_positions, geodesic_distances = sample_node_path(road_map, node_path)\n",
    "    \n",
    "    # Find a correspondence between the positions and the sampled positions\n",
    "    correspondence = find_correspondence(positions, nominal_positions)\n",
    "\n",
    "    # For each point on the nominal path, compute the minimum error\n",
    "    compute_minimal_error(positions, nominal_positions, correspondence)\n",
    "    \n",
    "    # Compute the position error\n",
    "    return nominal_positions, geodesic_distances, correspondence\n",
    "    ..."
   ]
  },
  {
   "cell_type": "code",
   "execution_count": null,
   "id": "6bf6042b-489c-4056-8353-0275ae3fd00e",
   "metadata": {},
   "outputs": [],
   "source": [
    "baseline_path = [16, 0, 5, 6, 10, 15, 17]\n",
    "nominal_positions, geodesic_distances, correspondence = compute_crosstrack_error(baseline_positions[0], road_map, baseline_path)\n",
    "\n"
   ]
  },
  {
   "cell_type": "code",
   "execution_count": null,
   "id": "194722b9-ebc7-4d7b-8845-2134a3c34156",
   "metadata": {},
   "outputs": [],
   "source": [
    "plt.figure()\n",
    "plt.plot(baseline_positions[0][:,0], baseline_positions[0][:,1], label='true')\n",
    "plt.plot(nominal_positions[:,0], nominal_positions[:,1], 'o-', label='nominal')\n",
    "\n",
    "line_segments = []\n",
    "for true_pts, nominal_pts in correspondence:\n",
    "    for true_pt, nominal_pt in itertools.product(true_pts, nominal_pts):\n",
    "        line_segments.append([baseline_positions[0][true_pt.idx, :], nominal_positions[nominal_pt.idx, :]])\n",
    "\n",
    "edges = mpl.collections.LineCollection(line_segments, colors=(0.6, 0.8, 0.6, 1.0))\n",
    "ax = plt.gca()\n",
    "ax.add_collection(edges)\n",
    "\n",
    "plt.legend()"
   ]
  },
  {
   "cell_type": "code",
   "execution_count": null,
   "id": "8bcb0d97-9d8b-4298-bef1-bc955dca0bff",
   "metadata": {},
   "outputs": [],
   "source": [
    "(true_pts, nominal_pts) = correspondence[0]"
   ]
  },
  {
   "cell_type": "code",
   "execution_count": null,
   "id": "a846fe40-2d7e-4e8b-b345-7e140ea135c1",
   "metadata": {},
   "outputs": [],
   "source": [
    "len(true_pts[0])"
   ]
  },
  {
   "cell_type": "code",
   "execution_count": null,
   "id": "a2acc7ce-859a-43b1-88f8-5227e440d661",
   "metadata": {},
   "outputs": [],
   "source": []
  }
 ],
 "metadata": {
  "kernelspec": {
   "display_name": "Python 3 (ipykernel)",
   "language": "python",
   "name": "python3"
  },
  "language_info": {
   "codemirror_mode": {
    "name": "ipython",
    "version": 3
   },
   "file_extension": ".py",
   "mimetype": "text/x-python",
   "name": "python",
   "nbconvert_exporter": "python",
   "pygments_lexer": "ipython3",
   "version": "3.10.13"
  }
 },
 "nbformat": 4,
 "nbformat_minor": 5
}
