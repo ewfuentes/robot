{
 "cells": [
  {
   "cell_type": "code",
   "execution_count": null,
   "id": "9c12a944",
   "metadata": {},
   "outputs": [],
   "source": [
    "%matplotlib notebook\n",
    "import numpy as np\n",
    "import matplotlib.pyplot as plt\n",
    "import itertools\n",
    "\n",
    "from typing import NamedTuple"
   ]
  },
  {
   "cell_type": "code",
   "execution_count": null,
   "id": "96b76547",
   "metadata": {},
   "outputs": [],
   "source": []
  },
  {
   "cell_type": "code",
   "execution_count": null,
   "id": "10d48119",
   "metadata": {},
   "outputs": [],
   "source": [
    "castle_values = list(range(1, 13))\n",
    "\n",
    "distribution = np.array([1.0] * 12)\n",
    "distribution = distribution / np.sum(distribution)"
   ]
  },
  {
   "cell_type": "code",
   "execution_count": null,
   "id": "eccbc53e",
   "metadata": {},
   "outputs": [],
   "source": [
    "def draw_allocations(distribution, rng, num_allocations=10, allocation_sum=1000):\n",
    "    assert np.abs(np.sum(distribution) - 1.0) < 1e-6\n",
    "    num_castles = len(distribution)\n",
    "    samples = rng.multinomial(1000, distribution, num_allocations)\n",
    "    return samples"
   ]
  },
  {
   "cell_type": "code",
   "execution_count": null,
   "id": "c2391f7b",
   "metadata": {},
   "outputs": [],
   "source": [
    "rng = np.random.default_rng(12345)\n",
    "players = [distribution / np.sum(distribution)] * 2\n",
    "NUM_ALLOCATIONS = 100\n",
    "result_0 = draw_allocations(players[0], rng, num_allocations=NUM_ALLOCATIONS)\n",
    "result_1 = draw_allocations(players[1], rng, num_allocations=NUM_ALLOCATIONS)\n",
    "\n",
    "\n"
   ]
  },
  {
   "cell_type": "code",
   "execution_count": null,
   "id": "8d3fe28f",
   "metadata": {},
   "outputs": [],
   "source": [
    "class FightResult(NamedTuple):\n",
    "    # note that first index is player_1's selection\n",
    "    player_1_wins: list[tuple[int, int]]\n",
    "    # note that first index is player_2's selection\n",
    "    player_2_wins: list[tuple[int, int]]\n",
    "    num_fights: int\n",
    "\n",
    "def fight(alloc_1, alloc_2, battlefield_values) -> FightResult:\n",
    "    assert alloc_1.shape[1] == alloc_2.shape[1]\n",
    "    player_1_wins = []\n",
    "    player_2_wins = []\n",
    "    num_fights = 0\n",
    "    for i in range(alloc_1.shape[0]):\n",
    "        num_fights += alloc_2.shape[0]\n",
    "        # alloc_2.shape[0] x num_castles\n",
    "        delta = alloc_1[i] - alloc_2\n",
    "        player_1_mask = delta > 0\n",
    "        player_2_mask = delta < 0\n",
    "        # sum over \n",
    "        player_1_score = np.sum(player_1_mask * battlefield_values, axis=1)\n",
    "        player_2_score = np.sum(player_2_mask * battlefield_values, axis=1)\n",
    "        \n",
    "        curr_player_1_wins = np.nonzero(player_1_score > player_2_score)\n",
    "        curr_player_2_wins = np.nonzero(player_2_score > player_1_score)\n",
    "        \n",
    "        for j in curr_player_1_wins[0]:\n",
    "            player_1_wins.append((i, j))\n",
    "        for j in curr_player_2_wins[0]:\n",
    "            player_2_wins.append((j, i))\n",
    "        \n",
    "#         if player_1_score > player_2_score:\n",
    "#             player_1_wins.append((i, j))\n",
    "#         elif player_2_score > player_1_score:\n",
    "#             player_2_wins.append((j, i))\n",
    "    return FightResult(player_1_wins = player_1_wins, player_2_wins = player_2_wins, num_fights = num_fights)\n",
    "        \n",
    "    "
   ]
  },
  {
   "cell_type": "code",
   "execution_count": null,
   "id": "016b3691",
   "metadata": {},
   "outputs": [],
   "source": [
    "fight_result = fight(result_0, result_1, battlefield_values=castle_values)"
   ]
  },
  {
   "cell_type": "code",
   "execution_count": null,
   "id": "8fbeca71",
   "metadata": {},
   "outputs": [],
   "source": [
    "indices, counts = np.unique([i for i, j in fight_result.player_1_wins], return_counts=True)"
   ]
  },
  {
   "cell_type": "code",
   "execution_count": null,
   "id": "8d67bcab",
   "metadata": {},
   "outputs": [],
   "source": [
    "indices"
   ]
  },
  {
   "cell_type": "code",
   "execution_count": null,
   "id": "141d40be",
   "metadata": {},
   "outputs": [],
   "source": [
    "counts"
   ]
  },
  {
   "cell_type": "code",
   "execution_count": null,
   "id": "9a6c2c60",
   "metadata": {},
   "outputs": [],
   "source": [
    "result_0.shape"
   ]
  },
  {
   "cell_type": "code",
   "execution_count": null,
   "id": "3c400ca4",
   "metadata": {},
   "outputs": [],
   "source": [
    "winners = result_0[indices]"
   ]
  },
  {
   "cell_type": "code",
   "execution_count": null,
   "id": "afd7d428",
   "metadata": {},
   "outputs": [],
   "source": [
    "plt.figure()\n",
    "plt.hist(winners[:,[0, 11]], label=[0, 11])\n",
    "plt.legend()\n"
   ]
  },
  {
   "cell_type": "code",
   "execution_count": null,
   "id": "7d7a5b4c",
   "metadata": {},
   "outputs": [],
   "source": [
    "new_dist = np.average(result_0[indices], axis=0, weights = counts)\n",
    "new_dist = new_dist/np.sum(new_dist)"
   ]
  },
  {
   "cell_type": "code",
   "execution_count": null,
   "id": "fb56ef0b",
   "metadata": {},
   "outputs": [],
   "source": [
    "def update_distribution(initial_dist, opponent_dist, num_allocations, castle_values, rng):\n",
    "    player_alloc = draw_allocations(initial_dist, rng, num_allocations)\n",
    "    oppo_alloc = draw_allocations(opponent_dist, rng, num_allocations)\n",
    "    \n",
    "    fight_result = fight(player_alloc, oppo_alloc, battlefield_values=castle_values)\n",
    "    \n",
    "    player_1_winners, player_1_counts = np.unique([i for i, j in fight_result.player_1_wins], return_counts=True)\n",
    "    \n",
    "    new_dist = np.average(player_alloc[player_1_winners], axis=0, weights = player_1_counts)\n",
    "    new_dist = new_dist/np.sum(new_dist)\n",
    "    return new_dist, float(len(fight_result.player_1_wins)) / fight_result.num_fights\n"
   ]
  },
  {
   "cell_type": "code",
   "execution_count": null,
   "id": "629a778d",
   "metadata": {},
   "outputs": [],
   "source": [
    "new_dist = update_distribution(distribution, distribution, 100, castle_values, rng)"
   ]
  },
  {
   "cell_type": "code",
   "execution_count": null,
   "id": "2581151d",
   "metadata": {},
   "outputs": [],
   "source": [
    "\n",
    "def find_equilibrium(initial_distribution, num_iterations=10000):\n",
    "    player_dists = [initial_distribution]\n",
    "    win_percentage = []\n",
    "    for i in range(num_iterations):\n",
    "\n",
    "        if i < 100:\n",
    "            oppo_idx = 0\n",
    "        else:\n",
    "            oppo_delta = int(100 * np.exp(-(i - 100)/2000))\n",
    "            oppo_idx = i - oppo_delta\n",
    "        if i % 1000 == 0:\n",
    "            print(i, len(player_dists) - oppo_idx)\n",
    "\n",
    "        new_dist, win_pct = update_distribution(player_dists[-1], player_dists[oppo_idx], 100, castle_values, rng)\n",
    "        player_dists.append(new_dist)\n",
    "        win_percentage.append(win_pct)\n",
    "    return player_dists, win_percentage\n",
    "\n"
   ]
  },
  {
   "cell_type": "code",
   "execution_count": null,
   "id": "db884e14",
   "metadata": {},
   "outputs": [],
   "source": [
    "distribution = np.array([1.0] * 12)\n",
    "distribution = distribution / np.sum(distribution)\n",
    "new_dists, win_percentage = find_equilibrium(distribution, 50000)"
   ]
  },
  {
   "cell_type": "code",
   "execution_count": null,
   "id": "d288cfd1",
   "metadata": {},
   "outputs": [],
   "source": [
    "def plot_dists(dists, win_pct):\n",
    "    plt.figure()\n",
    "    for i, dist in enumerate(dists[::2000]):\n",
    "        plt.plot(dist, label=i)\n",
    "    plt.legend()\n",
    "\n",
    "    plt.figure()\n",
    "    plt.plot(win_pct)\n",
    "    plt.title('Win Fraction over Time')\n",
    "    plt.xlabel('Iteration')\n",
    "    plt.ylabel('Win Fraction')"
   ]
  },
  {
   "cell_type": "code",
   "execution_count": null,
   "id": "645ad8df",
   "metadata": {},
   "outputs": [],
   "source": [
    "plot_dists(new_dists, win_percentage)"
   ]
  },
  {
   "cell_type": "code",
   "execution_count": null,
   "id": "357f0394",
   "metadata": {},
   "outputs": [],
   "source": [
    "low_val_dist = np.array([0.01, 0.01, 1, 1, 1, 1, 1, 1, 1, 0.01, 0.01, 0.01])\n",
    "low_val_dist = low_val_dist / np.sum(low_val_dist)\n",
    "\n",
    "low_val_dists, low_val_win_percentage = find_equilibrium(low_val_dist)"
   ]
  },
  {
   "cell_type": "code",
   "execution_count": null,
   "id": "eef065fa",
   "metadata": {},
   "outputs": [],
   "source": [
    "plot_dists(low_val_dists, low_val_win_percentage)"
   ]
  },
  {
   "cell_type": "code",
   "execution_count": null,
   "id": "4574ee34",
   "metadata": {},
   "outputs": [],
   "source": [
    "weird_dist = np.array([1.0, 1.0, 0.25, 0.25,0.25, 0.25, 0.25, 0.25, 0.25, 1.0, 1.0, 1.0])\n",
    "weird_dist = weird_dist / np.sum(weird_dist)\n",
    "\n",
    "weird_dists, weird_win_percentage = find_equilibrium(weird_dist)"
   ]
  },
  {
   "cell_type": "code",
   "execution_count": null,
   "id": "67d06c53",
   "metadata": {},
   "outputs": [],
   "source": [
    "plot_dists(weird_dists, weird_win_percentage)"
   ]
  },
  {
   "cell_type": "code",
   "execution_count": null,
   "id": "71f3cb29",
   "metadata": {},
   "outputs": [],
   "source": [
    "p"
   ]
  },
  {
   "cell_type": "code",
   "execution_count": null,
   "id": "d4f51464",
   "metadata": {},
   "outputs": [],
   "source": [
    "adversarial_dist = new_dists[-2].copy()\n",
    "adversarial_dist[0:6] = 0.001\n",
    "adversarial_dist = adversarial_dist / np.sum(adversarial_dist)"
   ]
  },
  {
   "cell_type": "code",
   "execution_count": null,
   "id": "940244ac",
   "metadata": {},
   "outputs": [],
   "source": [
    "f_1 = draw_allocations(new_dists[-2], rng, 100)\n",
    "f_2 = draw_allocations(adversarial_dist, rng, 100)\n",
    "\n",
    "result = fight(f_1, f_2, castle_values)"
   ]
  },
  {
   "cell_type": "code",
   "execution_count": null,
   "id": "f054d82f",
   "metadata": {},
   "outputs": [],
   "source": [
    "new_adversarial, new_adversarial_pct = find_equilibrium(adversarial_dist)"
   ]
  },
  {
   "cell_type": "code",
   "execution_count": null,
   "id": "02f70b36",
   "metadata": {},
   "outputs": [],
   "source": [
    "plot_dists(new_adversarial, new_adversarial_pct)"
   ]
  },
  {
   "cell_type": "code",
   "execution_count": null,
   "id": "0f1094eb",
   "metadata": {},
   "outputs": [],
   "source": []
  }
 ],
 "metadata": {
  "kernelspec": {
   "display_name": "Python 3 (ipykernel)",
   "language": "python",
   "name": "python3"
  },
  "language_info": {
   "codemirror_mode": {
    "name": "ipython",
    "version": 3
   },
   "file_extension": ".py",
   "mimetype": "text/x-python",
   "name": "python",
   "nbconvert_exporter": "python",
   "pygments_lexer": "ipython3",
   "version": "3.10.6"
  }
 },
 "nbformat": 4,
 "nbformat_minor": 5
}
