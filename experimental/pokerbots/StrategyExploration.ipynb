{
 "cells": [
  {
   "cell_type": "code",
   "execution_count": null,
   "id": "afe54c72",
   "metadata": {},
   "outputs": [],
   "source": [
    "%matplotlib notebook\n",
    "import matplotlib.pyplot as plt\n",
    "import learning.min_regret_strategy_pb2\n",
    "import numpy as np"
   ]
  },
  {
   "cell_type": "code",
   "execution_count": null,
   "id": "8bc6f9f0",
   "metadata": {},
   "outputs": [],
   "source": [
    "strategy_file = '/tmp/pokerbot_checkpoint_7100000.pb'\n",
    "with open(strategy_file, 'rb') as file_in:\n",
    "    strategy = learning.min_regret_strategy_pb2.MinRegretStrategy()\n",
    "    strategy.ParseFromString(file_in.read())\n",
    "    "
   ]
  },
  {
   "cell_type": "code",
   "execution_count": null,
   "id": "30a69b8a",
   "metadata": {},
   "outputs": [],
   "source": [
    "def parse_infoset_id(id_num):\n",
    "    out = {}\n",
    "    action_int = (id_num >> 40)\n",
    "    out['actions'] = []\n",
    "    while action_int > 0:\n",
    "        action_idx = action_int & 0x0F\n",
    "        # we increment all indexes by one to be able to distiguish no action from the first action\n",
    "        # however, there is also a gap. The action list is:\n",
    "        # [Fold, Check, Call, Raise, RaisePot, AllIn], where Raise isn't an action that is considered\n",
    "        action_from_action_idx = ['NULL', 'Fold', 'Check', 'Call', 'Raise', 'RaisePot', 'AllIn']\n",
    "        out['actions'].append(action_from_action_idx[action_idx])\n",
    "        action_int = action_int >> 4\n",
    "    \n",
    "    out['betting_round'] = (id_num >> 32) & 0xFF\n",
    "    if out['betting_round'] == 0:\n",
    "        out['ranks'] = ((id_num >> 16) & 0xFFFF)\n",
    "        out['suits'] = (id_num & 0xFFFF)\n",
    "    else:\n",
    "        out['hand_strength_bin'] = ((id_num >> 8) & 0xFF)\n",
    "        out['negative_potential_bin'] = ((id_num >> 4) & 0x0F)\n",
    "        out['positive_potential_bin'] = (id_num & 0x0F)\n",
    "    return out"
   ]
  },
  {
   "cell_type": "code",
   "execution_count": null,
   "id": "2b0a9272",
   "metadata": {},
   "outputs": [],
   "source": [
    "len(strategy.infoset_counts)"
   ]
  },
  {
   "cell_type": "code",
   "execution_count": null,
   "id": "88395322",
   "metadata": {},
   "outputs": [],
   "source": [
    "strategy.infoset_counts[0]"
   ]
  },
  {
   "cell_type": "code",
   "execution_count": null,
   "id": "c3b6fc13",
   "metadata": {},
   "outputs": [],
   "source": [
    "iter_counts = sorted([x.iter_count for x in strategy.infoset_counts])\n",
    "frac = np.linspace(0, 1.0, len(iter_counts))"
   ]
  },
  {
   "cell_type": "code",
   "execution_count": null,
   "id": "5db990d6",
   "metadata": {},
   "outputs": [],
   "source": [
    "plt.figure()\n",
    "plt.plot(iter_counts, frac)\n",
    "plt.ylabel('Fraction of bins')\n",
    "plt.xlabel('Counts per bin')"
   ]
  },
  {
   "cell_type": "code",
   "execution_count": null,
   "id": "eb1d7377",
   "metadata": {},
   "outputs": [],
   "source": [
    "max_bin = max(strategy.infoset_counts, key=lambda x: x.iter_count)"
   ]
  },
  {
   "cell_type": "code",
   "execution_count": null,
   "id": "d5739a4f",
   "metadata": {},
   "outputs": [],
   "source": [
    "max_bin"
   ]
  },
  {
   "cell_type": "code",
   "execution_count": null,
   "id": "a4299522",
   "metadata": {},
   "outputs": [],
   "source": [
    "parse_infoset_id(max_bin.id_num)"
   ]
  },
  {
   "cell_type": "code",
   "execution_count": null,
   "id": "fca95589",
   "metadata": {},
   "outputs": [],
   "source": [
    "for infoset_counts in strategy.infoset_counts:\n",
    "    parsed_id = parse_infoset_id(infoset_counts.id_num)\n",
    "    if len(parsed_id['actions']) == 6:\n",
    "        print('found one with full actions!')\n",
    "        break"
   ]
  },
  {
   "cell_type": "code",
   "execution_count": null,
   "id": "a57bccba",
   "metadata": {},
   "outputs": [],
   "source": [
    "strategy.actions"
   ]
  },
  {
   "cell_type": "code",
   "execution_count": null,
   "id": "3888dee5",
   "metadata": {},
   "outputs": [],
   "source": [
    "infoset_counts"
   ]
  },
  {
   "cell_type": "code",
   "execution_count": null,
   "id": "5983770c",
   "metadata": {},
   "outputs": [],
   "source": [
    "parsed_id"
   ]
  },
  {
   "cell_type": "markdown",
   "id": "67905c1a",
   "metadata": {},
   "source": [
    "## "
   ]
  }
 ],
 "metadata": {
  "kernelspec": {
   "display_name": "Python 3 (ipykernel)",
   "language": "python",
   "name": "python3"
  },
  "language_info": {
   "codemirror_mode": {
    "name": "ipython",
    "version": 3
   },
   "file_extension": ".py",
   "mimetype": "text/x-python",
   "name": "python",
   "nbconvert_exporter": "python",
   "pygments_lexer": "ipython3",
   "version": "3.10.6"
  }
 },
 "nbformat": 4,
 "nbformat_minor": 5
}
