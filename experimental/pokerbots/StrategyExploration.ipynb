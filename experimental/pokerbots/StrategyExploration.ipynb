{
 "cells": [
  {
   "cell_type": "code",
   "execution_count": null,
   "id": "afe54c72",
   "metadata": {},
   "outputs": [],
   "source": [
    "%matplotlib notebook\n",
    "import matplotlib.pyplot as plt\n",
    "import learning.min_regret_strategy_pb2\n",
    "import experimental.pokerbots.bin_centers_pb2\n",
    "import numpy as np\n",
    "import experimental.pokerbots.pokerbot as pokerbot\n",
    "import experimental.pokerbots.pokerbots_scrape as pbs\n",
    "import experimental.pokerbots.hand_evaluator_python as hep\n",
    "import pandas as pd\n",
    "import os\n",
    "\n",
    "import importlib\n",
    "importlib.reload(pokerbot)\n",
    "importlib.reload(pbs)"
   ]
  },
  {
   "cell_type": "code",
   "execution_count": null,
   "id": "76eaac49",
   "metadata": {},
   "outputs": [],
   "source": [
    "CLUSTER_PATH = '/home/erick/code/robot/experimental/pokerbots/cluster_hands'\n",
    "# flop_data = pd.read_pickle(os.path.join(CLUSTER_PATH, 'flop_data.p'))\n",
    "turn_data = pd.read_pickle(os.path.join(CLUSTER_PATH, 'turn_data_1000.p'))\n",
    "river_data = pd.read_pickle(os.path.join(CLUSTER_PATH, 'river_data_1000.p'))"
   ]
  },
  {
   "cell_type": "code",
   "execution_count": null,
   "id": "af02efc0",
   "metadata": {},
   "outputs": [],
   "source": [
    "strategies = {}\n",
    "training_path = '/tmp/pokerbots_1000_bins_more_buckets/'\n",
    "for file in os.listdir(training_path):\n",
    "    idx = int(file[-12:-3])\n",
    "    if idx % 1000000 != 0:\n",
    "        continue\n",
    "    with open(os.path.join(training_path, file), 'rb') as file_in:\n",
    "        s = learning.min_regret_strategy_pb2.MinRegretStrategy()\n",
    "        s.ParseFromString(file_in.read())\n",
    "    \n",
    "    strategies[idx] = s"
   ]
  },
  {
   "cell_type": "code",
   "execution_count": null,
   "id": "8bc6f9f0",
   "metadata": {},
   "outputs": [],
   "source": [
    "strategy_file = '/tmp/pokerbots_1000_bins_more_buckets/pokerbot_checkpoint_111000000.pb'\n",
    "with open(strategy_file, 'rb') as file_in:\n",
    "    strategy = learning.min_regret_strategy_pb2.MinRegretStrategy()\n",
    "    strategy.ParseFromString(file_in.read())\n",
    "bin_centers_file = '/home/erick/code/robot/experimental/pokerbots/bin_centers_1000.pb'\n",
    "with open(bin_centers_file, 'rb') as file_in:\n",
    "    per_turn_bin_centers = experimental.pokerbots.bin_centers_pb2.PerTurnBinCenters()\n",
    "    per_turn_bin_centers.ParseFromString(file_in.read())"
   ]
  },
  {
   "cell_type": "code",
   "execution_count": null,
   "id": "2d0043b0",
   "metadata": {},
   "outputs": [],
   "source": []
  },
  {
   "cell_type": "code",
   "execution_count": null,
   "id": "22488485",
   "metadata": {},
   "outputs": [],
   "source": [
    "PAGE_LIMIT = 5\n",
    "session_value = pbs.load_session_value()\n",
    "rows = pbs.pull_rows(PAGE_LIMIT, session_value)"
   ]
  },
  {
   "cell_type": "code",
   "execution_count": null,
   "id": "6949c0cf",
   "metadata": {},
   "outputs": [],
   "source": [
    "latest_games = rows[rows['your_bot'] == rows.loc[0, 'your_bot']]"
   ]
  },
  {
   "cell_type": "code",
   "execution_count": null,
   "id": "a5bf54d9",
   "metadata": {},
   "outputs": [],
   "source": [
    "latest_games"
   ]
  },
  {
   "cell_type": "code",
   "execution_count": null,
   "id": "a1b18db1",
   "metadata": {},
   "outputs": [],
   "source": [
    "games = []\n",
    "for i, row in latest_games.iterrows():\n",
    "    games.append(pbs.get_game_log(row, session_value))"
   ]
  },
  {
   "cell_type": "code",
   "execution_count": null,
   "id": "0b57f1f0",
   "metadata": {},
   "outputs": [],
   "source": [
    "def filter_games(predicate, games):\n",
    "    filtered_games = []\n",
    "    for game in games:\n",
    "        filtered_games.append(game._replace(rounds = list(filter(predicate, game.rounds))))\n",
    "        \n",
    "    return filtered_games"
   ]
  },
  {
   "cell_type": "code",
   "execution_count": null,
   "id": "08ef9e6f",
   "metadata": {},
   "outputs": [],
   "source": [
    "large_hands = filter_games(lambda game : abs(game.A_delta) > 300, games)"
   ]
  },
  {
   "cell_type": "code",
   "execution_count": null,
   "id": "0f8b6014",
   "metadata": {},
   "outputs": [],
   "source": [
    "def print_game(game_round):\n",
    "    print(f'Round ({game_round.round_number}) Delta A({game_round.A_delta}) B({game_round.B_delta})')\n",
    "    print(f'A {game_round.A_hand} B {game_round.B_hand}')\n",
    "    for round_num, (board, actions) in enumerate(zip(game_round.board_states, game_round.round_actions)):\n",
    "        if board:\n",
    "            print('Board:', board)\n",
    "        for i, a in enumerate(actions):\n",
    "            player = a[0]\n",
    "            hand = game_round.A_hand if player == 'A' else game_round.B_hand\n",
    "            action_queue = actions[:i]\n",
    "            if round_num == 0:\n",
    "                action_queue = action_queue[2:]\n",
    "            \n",
    "            infoset_actions = []\n",
    "            for action in action_queue:\n",
    "                if action[1] == 'calls':\n",
    "                    infoset_actions.append('Call')\n",
    "                if action[1] == 'checks':\n",
    "                    infoset_actions.append('Check')\n",
    "                if action[1] in ['raises', 'bets']:\n",
    "                    infoset_actions.append('RaisePot' if action[2] < 100 else 'AllIn')                        \n",
    "                \n",
    "            betting_round = round_num\n",
    "            if round_num > 2 and round_num < len(game_round.board_states) - 1:\n",
    "                betting_round = 2\n",
    "            elif round_num > 2 and round_num == len(game_round.board_states) -1:\n",
    "                betting_round = 3\n",
    "            \n",
    "            infoset_id = pokerbot.compute_infoset_id(infoset_actions, betting_round, hand, board, per_turn_bin_centers)\n",
    "            print(a, infoset_actions, infoset_id[0], hex(infoset_id[0]))\n",
    "    "
   ]
  },
  {
   "cell_type": "code",
   "execution_count": null,
   "id": "15edeb3f",
   "metadata": {},
   "outputs": [],
   "source": [
    "def find_infoset(infoset_id, strategy=strategy):\n",
    "    return list(filter(lambda infoset: infoset.id_num == infoset_id, strategy.infoset_counts))[0]"
   ]
  },
  {
   "cell_type": "code",
   "execution_count": null,
   "id": "d4d68fd6",
   "metadata": {},
   "outputs": [],
   "source": [
    "game_idx = 0\n",
    "hand_idx = 0\n",
    "print('A:', large_hands[game_idx].a_bot, 'B:', large_hands[game_idx].b_bot)\n",
    "print(large_hands[game_idx].id)\n",
    "print_game(large_hands[game_idx].rounds[hand_idx])"
   ]
  },
  {
   "cell_type": "code",
   "execution_count": null,
   "id": "2b0a9272",
   "metadata": {},
   "outputs": [],
   "source": [
    "infoset_id = 0x524000000094\n",
    "infoset = find_infoset(infoset_id)\n",
    "print(infoset)\n",
    "norm_strategy = np.array(infoset.strategy_sum) / np.sum(infoset.strategy_sum)\n",
    "print(norm_strategy)"
   ]
  },
  {
   "cell_type": "code",
   "execution_count": null,
   "id": "98cda651",
   "metadata": {},
   "outputs": [],
   "source": [
    "bucket_hands = river_data.loc[river_data['cluster_idx'] == (infoset_id & 0xFFFF)]"
   ]
  },
  {
   "cell_type": "code",
   "execution_count": null,
   "id": "a64bc6c7",
   "metadata": {},
   "outputs": [],
   "source": [
    "bucket_hands.mean(numeric_only=True)"
   ]
  },
  {
   "cell_type": "code",
   "execution_count": null,
   "id": "981d0488",
   "metadata": {},
   "outputs": [],
   "source": [
    "result = hep.evaluate_strength_potential(''.join(['Jh', 'Jc']), ''.join(['Th', 'As', 'Js', 'Qh', 'Kh', '7c']), 2, timeout_s=1.0)"
   ]
  },
  {
   "cell_type": "code",
   "execution_count": null,
   "id": "8c68e837",
   "metadata": {},
   "outputs": [],
   "source": [
    "result"
   ]
  },
  {
   "cell_type": "code",
   "execution_count": null,
   "id": "4f624d85",
   "metadata": {},
   "outputs": [],
   "source": [
    "print(result.strength, result.negative_potential, result.positive_potential)"
   ]
  },
  {
   "cell_type": "code",
   "execution_count": null,
   "id": "46edf514",
   "metadata": {},
   "outputs": [],
   "source": [
    "plt.figure(figsize=(10, 4))\n",
    "plt.subplot(131)\n",
    "_ = plt.hist(bucket_hands['strength'],bins=40)\n",
    "plt.subplot(132)\n",
    "_ = plt.hist(bucket_hands['neg_pot'],bins=40)\n",
    "plt.subplot(133)\n",
    "_ = plt.hist(bucket_hands['pos_pot'],bins=40)\n",
    "plt.tight_layout()"
   ]
  },
  {
   "cell_type": "code",
   "execution_count": null,
   "id": "28a5e665",
   "metadata": {},
   "outputs": [],
   "source": [
    "def plot_infoset_history(infoset_id, strategies):\n",
    "    num_strategies = len(strategies)\n",
    "    data = np.zeros((num_strategies, 5))\n",
    "    idxs = []\n",
    "    for i, key in enumerate(sorted(strategies.keys())):\n",
    "        all_strategies = strategies[key]\n",
    "        infoset_counts = list(filter(lambda x : x.id_num == infoset_id, all_strategies.infoset_counts))\n",
    "        idxs.append(key)\n",
    "        if infoset_counts:\n",
    "            strategy = np.array(infoset_counts[0].strategy_sum)\n",
    "            strategy = strategy / np.sum(strategy)\n",
    "            data[i, :] = strategy\n",
    "        else:\n",
    "            data[i,:] = np.nan\n",
    "    plt.plot(idxs, data, label=['Fold', 'Check', 'Call', 'RaisePot', 'AllIn'])\n",
    "    plt.legend()\n",
    "    plt.title(f'Infoset Id: {hex(infoset_id)}')\n",
    "    plt.xlabel('Strategy')\n",
    "    plt.ylabel('Training Iteration')"
   ]
  },
  {
   "cell_type": "code",
   "execution_count": null,
   "id": "856648d1",
   "metadata": {},
   "outputs": [],
   "source": [
    "plt.figure()\n",
    "plot_infoset_history(infoset_id, strategies)"
   ]
  },
  {
   "cell_type": "code",
   "execution_count": null,
   "id": "0ec91b41",
   "metadata": {},
   "outputs": [],
   "source": [
    "strategies.keys()"
   ]
  },
  {
   "cell_type": "code",
   "execution_count": null,
   "id": "1aac938d",
   "metadata": {},
   "outputs": [],
   "source": [
    "def plot_counts(key):\n",
    "    counts = sorted([x.iter_count for x in strategies[key].infoset_counts])    \n",
    "    frac = np.linspace(0.0, 1.0, len(counts))\n",
    "    plt.plot(counts, frac, label=key)"
   ]
  },
  {
   "cell_type": "code",
   "execution_count": null,
   "id": "e518df7f",
   "metadata": {},
   "outputs": [],
   "source": [
    "plt.figure()\n",
    "plot_counts(89000000)\n",
    "plot_counts(110000000)\n",
    "plt.legend()\n",
    "plt.xlim(-1000, 100000)"
   ]
  },
  {
   "cell_type": "code",
   "execution_count": null,
   "id": "73c9d338",
   "metadata": {},
   "outputs": [],
   "source": []
  }
 ],
 "metadata": {
  "kernelspec": {
   "display_name": "Python 3 (ipykernel)",
   "language": "python",
   "name": "python3"
  },
  "language_info": {
   "codemirror_mode": {
    "name": "ipython",
    "version": 3
   },
   "file_extension": ".py",
   "mimetype": "text/x-python",
   "name": "python",
   "nbconvert_exporter": "python",
   "pygments_lexer": "ipython3",
   "version": "3.10.6"
  }
 },
 "nbformat": 4,
 "nbformat_minor": 5
}
