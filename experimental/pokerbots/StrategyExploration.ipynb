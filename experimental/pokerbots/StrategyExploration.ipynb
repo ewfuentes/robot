{
 "cells": [
  {
   "cell_type": "code",
   "execution_count": null,
   "id": "afe54c72",
   "metadata": {},
   "outputs": [],
   "source": [
    "%matplotlib notebook\n",
    "import matplotlib.pyplot as plt\n",
    "import learning.min_regret_strategy_pb2\n",
    "import experimental.pokerbots.bin_centers_pb2\n",
    "import numpy as np\n",
    "import experimental.pokerbots.pokerbot as pokerbot\n",
    "import experimental.pokerbots.pokerbots_scrape as pbs\n",
    "import experimental.pokerbots.hand_evaluator_python as hep\n",
    "import pandas as pd\n",
    "import os\n",
    "\n",
    "import importlib\n",
    "importlib.reload(pokerbot)"
   ]
  },
  {
   "cell_type": "code",
   "execution_count": null,
   "id": "76eaac49",
   "metadata": {},
   "outputs": [],
   "source": [
    "CLUSTER_PATH = '/home/erick/code/robot/experimental/pokerbots/cluster_hands'\n",
    "flop_data = pd.read_pickle(os.path.join(CLUSTER_PATH, 'flop_data.p'))\n",
    "turn_data = pd.read_pickle(os.path.join(CLUSTER_PATH, 'turn_data.p'))\n",
    "river_data = pd.read_pickle(os.path.join(CLUSTER_PATH, 'river_data.p'))"
   ]
  },
  {
   "cell_type": "code",
   "execution_count": null,
   "id": "8bc6f9f0",
   "metadata": {},
   "outputs": [],
   "source": [
    "strategy_file = '/home/erick/code/robot/experimental/pokerbots/pokerbot_checkpoint_031070000.pb'\n",
    "with open(strategy_file, 'rb') as file_in:\n",
    "    strategy = learning.min_regret_strategy_pb2.MinRegretStrategy()\n",
    "    strategy.ParseFromString(file_in.read())\n",
    "bin_centers_file = '/home/erick/code/robot/experimental/pokerbots/bin_centers.pb'\n",
    "with open(bin_centers_file, 'rb') as file_in:\n",
    "    per_turn_bin_centers = experimental.pokerbots.bin_centers_pb2.PerTurnBinCenters()\n",
    "    per_turn_bin_centers.ParseFromString(file_in.read())"
   ]
  },
  {
   "cell_type": "code",
   "execution_count": null,
   "id": "22488485",
   "metadata": {},
   "outputs": [],
   "source": [
    "PAGE_LIMIT = 1\n",
    "session_value = pbs.load_session_value()\n",
    "rows = pbs.pull_rows(PAGE_LIMIT, session_value)"
   ]
  },
  {
   "cell_type": "code",
   "execution_count": null,
   "id": "bb360c57",
   "metadata": {},
   "outputs": [],
   "source": [
    "game_log = pbs.get_game_log(rows.loc[2, 'game_log'], session_value)"
   ]
  },
  {
   "cell_type": "code",
   "execution_count": null,
   "id": "08ef9e6f",
   "metadata": {},
   "outputs": [],
   "source": [
    "large_hands = list(filter(lambda game : abs(game.A_delta) > 50, game_log))"
   ]
  },
  {
   "cell_type": "code",
   "execution_count": null,
   "id": "5931359c",
   "metadata": {},
   "outputs": [],
   "source": [
    "large_hands = sorted(large_hands, key = lambda x: x.A_delta)"
   ]
  },
  {
   "cell_type": "code",
   "execution_count": null,
   "id": "0f8b6014",
   "metadata": {},
   "outputs": [],
   "source": [
    "def print_game(game_round):\n",
    "    for board, actions in zip(game_round.board_states, game_round.round_actions):\n",
    "        if board:\n",
    "            print('Board:', board)\n",
    "        for a in actions:\n",
    "            print(a)\n",
    "    "
   ]
  },
  {
   "cell_type": "code",
   "execution_count": null,
   "id": "15edeb3f",
   "metadata": {},
   "outputs": [],
   "source": [
    "def find_infoset(infoset_id, strategy=strategy):\n",
    "    return list(filter(lambda infoset: infoset.id_num == infoset_id, strategy.infoset_counts))[0]"
   ]
  },
  {
   "cell_type": "code",
   "execution_count": null,
   "id": "d4d68fd6",
   "metadata": {},
   "outputs": [],
   "source": [
    "print_game(large_hands[0])"
   ]
  },
  {
   "cell_type": "code",
   "execution_count": null,
   "id": "2b0a9272",
   "metadata": {},
   "outputs": [],
   "source": [
    "actions = ['Check']\n",
    "betting_round = 3\n",
    "hand = ['Jd', 'Ts']\n",
    "board_cards = ['2d', 'Qs', 'Ad', '8h', '3h', '6c']\n",
    "ids = pokerbot.compute_infoset_id(actions, betting_round, hand, board_cards, per_turn_bin_centers)\n",
    "print(hex(ids[0]))\n",
    "infoset = find_infoset(ids[0])\n",
    "print(infoset)\n",
    "strategy = np.array(infoset.strategy_sum) / np.sum(infoset.strategy_sum)\n",
    "print(strategy)"
   ]
  },
  {
   "cell_type": "code",
   "execution_count": null,
   "id": "98cda651",
   "metadata": {},
   "outputs": [],
   "source": [
    "bucket_hands = river_data.loc[river_data['cluster_idx'] == (ids[0] & 0xFF)]"
   ]
  },
  {
   "cell_type": "code",
   "execution_count": null,
   "id": "a64bc6c7",
   "metadata": {},
   "outputs": [],
   "source": [
    "bucket_hands.mean(numeric_only=True)"
   ]
  },
  {
   "cell_type": "code",
   "execution_count": null,
   "id": "ae0c20f1",
   "metadata": {},
   "outputs": [],
   "source": [
    "bucket_hands"
   ]
  },
  {
   "cell_type": "code",
   "execution_count": null,
   "id": "981d0488",
   "metadata": {},
   "outputs": [],
   "source": [
    "result = hep.evaluate_strength_potential(''.join(hand), ''.join(board_cards), 2, atimeout_s=0.02)"
   ]
  },
  {
   "cell_type": "code",
   "execution_count": null,
   "id": "4f624d85",
   "metadata": {},
   "outputs": [],
   "source": [
    "print(result.strength, result.negative_potential, result.positive_potential)"
   ]
  },
  {
   "cell_type": "code",
   "execution_count": null,
   "id": "46edf514",
   "metadata": {},
   "outputs": [],
   "source": [
    "plt.figure(figsize=(12, 4))\n",
    "plt.subplot(131)\n",
    "_ = plt.hist(bucket_hands['strength'],bins=100)\n",
    "plt.subplot(132)\n",
    "_ = plt.hist(bucket_hands['neg_pot'],bins=100)\n",
    "plt.subplot(133)\n",
    "_ = plt.hist(bucket_hands['pos_pot'],bins=100)\n",
    "plt.tight_layout()"
   ]
  },
  {
   "cell_type": "code",
   "execution_count": null,
   "id": "28a5e665",
   "metadata": {},
   "outputs": [],
   "source": []
  }
 ],
 "metadata": {
  "kernelspec": {
   "display_name": "Python 3 (ipykernel)",
   "language": "python",
   "name": "python3"
  },
  "language_info": {
   "codemirror_mode": {
    "name": "ipython",
    "version": 3
   },
   "file_extension": ".py",
   "mimetype": "text/x-python",
   "name": "python",
   "nbconvert_exporter": "python",
   "pygments_lexer": "ipython3",
   "version": "3.10.6"
  }
 },
 "nbformat": 4,
 "nbformat_minor": 5
}
