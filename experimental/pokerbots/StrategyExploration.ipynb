{
 "cells": [
  {
   "cell_type": "code",
   "execution_count": null,
   "id": "afe54c72",
   "metadata": {},
   "outputs": [],
   "source": [
    "%matplotlib notebook\n",
    "import matplotlib.pyplot as plt\n",
    "import learning.min_regret_strategy_pb2\n",
    "import experimental.pokerbots.bin_centers_pb2\n",
    "import numpy as np\n",
    "import experimental.pokerbots.pokerbot as pokerbot\n",
    "\n",
    "import importlib\n",
    "importlib.reload(pokerbot)"
   ]
  },
  {
   "cell_type": "code",
   "execution_count": null,
   "id": "8bc6f9f0",
   "metadata": {},
   "outputs": [],
   "source": [
    "strategy_file = '/home/erick/code/robot/experimental/pokerbots/pokerbot_checkpoint_006500000.pb'\n",
    "with open(strategy_file, 'rb') as file_in:\n",
    "    strategy = learning.min_regret_strategy_pb2.MinRegretStrategy()\n",
    "    strategy.ParseFromString(file_in.read())\n",
    "bin_centers_file = '/home/erick/code/robot/experimental/pokerbots/bin_centers.pb'\n",
    "with open(bin_centers_file, 'rb') as file_in:\n",
    "    per_turn_bin_centers = experimental.pokerbots.bin_centers_pb2.PerTurnBinCenters()\n",
    "    per_turn_bin_centers.ParseFromString(file_in.read())"
   ]
  },
  {
   "cell_type": "code",
   "execution_count": null,
   "id": "2b0a9272",
   "metadata": {},
   "outputs": [],
   "source": [
    "actions = ['Call']\n",
    "betting_round = 0\n",
    "hand = ['Ah', 'Ad']\n",
    "board_cards = []\n",
    "ids = pokerbot.compute_infoset_id(actions, betting_round, hand, board_cards, per_turn_bin_centers)\n",
    "print(ids)"
   ]
  },
  {
   "cell_type": "code",
   "execution_count": null,
   "id": "24b48238",
   "metadata": {},
   "outputs": [],
   "source": [
    "round_zero_mask = 0xFFFFFFFF << 32"
   ]
  },
  {
   "cell_type": "code",
   "execution_count": null,
   "id": "88395322",
   "metadata": {},
   "outputs": [],
   "source": [
    "round_zero_groups = list(filter(lambda x: (x.id_num & round_zero_mask) == 0, strategy.infoset_counts))"
   ]
  },
  {
   "cell_type": "code",
   "execution_count": null,
   "id": "e406f7bb",
   "metadata": {},
   "outputs": [],
   "source": [
    "list(filter(lambda x: (x.id_num >> 32) == 4096, round_zero_groups))"
   ]
  },
  {
   "cell_type": "code",
   "execution_count": null,
   "id": "c3b6fc13",
   "metadata": {},
   "outputs": [],
   "source": [
    "iter_counts = sorted([x.iter_count for x in strategy.infoset_counts])\n",
    "frac = np.linspace(0, 1.0, len(iter_counts))"
   ]
  },
  {
   "cell_type": "code",
   "execution_count": null,
   "id": "5db990d6",
   "metadata": {},
   "outputs": [],
   "source": [
    "plt.figure()\n",
    "plt.plot(iter_counts, frac)\n",
    "plt.ylabel('Fraction of bins')\n",
    "plt.xlabel('Counts per bin')"
   ]
  },
  {
   "cell_type": "code",
   "execution_count": null,
   "id": "eb1d7377",
   "metadata": {},
   "outputs": [],
   "source": [
    "max_bin = max(strategy.infoset_counts, key=lambda x: x.iter_count)"
   ]
  },
  {
   "cell_type": "code",
   "execution_count": null,
   "id": "d5739a4f",
   "metadata": {},
   "outputs": [],
   "source": [
    "max_bin"
   ]
  },
  {
   "cell_type": "code",
   "execution_count": null,
   "id": "a4299522",
   "metadata": {},
   "outputs": [],
   "source": [
    "parse_infoset_id(max_bin.id_num)"
   ]
  },
  {
   "cell_type": "code",
   "execution_count": null,
   "id": "fca95589",
   "metadata": {},
   "outputs": [],
   "source": [
    "for infoset_counts in strategy.infoset_counts:\n",
    "    parsed_id = parse_infoset_id(infoset_counts.id_num)\n",
    "    if len(parsed_id['actions']) == 6:\n",
    "        print('found one with full actions!')\n",
    "        break"
   ]
  },
  {
   "cell_type": "code",
   "execution_count": null,
   "id": "a57bccba",
   "metadata": {},
   "outputs": [],
   "source": [
    "strategy.actions"
   ]
  },
  {
   "cell_type": "code",
   "execution_count": null,
   "id": "3888dee5",
   "metadata": {},
   "outputs": [],
   "source": [
    "infoset_counts"
   ]
  },
  {
   "cell_type": "code",
   "execution_count": null,
   "id": "5983770c",
   "metadata": {},
   "outputs": [],
   "source": [
    "parsed_id"
   ]
  },
  {
   "cell_type": "markdown",
   "id": "67905c1a",
   "metadata": {},
   "source": [
    "## "
   ]
  }
 ],
 "metadata": {
  "kernelspec": {
   "display_name": "Python 3 (ipykernel)",
   "language": "python",
   "name": "python3"
  },
  "language_info": {
   "codemirror_mode": {
    "name": "ipython",
    "version": 3
   },
   "file_extension": ".py",
   "mimetype": "text/x-python",
   "name": "python",
   "nbconvert_exporter": "python",
   "pygments_lexer": "ipython3",
   "version": "3.10.6"
  }
 },
 "nbformat": 4,
 "nbformat_minor": 5
}
