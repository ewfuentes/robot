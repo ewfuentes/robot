{
 "cells": [
  {
   "cell_type": "code",
   "execution_count": null,
   "id": "3c892992",
   "metadata": {},
   "outputs": [],
   "source": [
    "%matplotlib notebook\n",
    "import numpy as np\n",
    "import matplotlib.pyplot as plt\n",
    "import matplotlib as mpl\n",
    "import os\n",
    "import pandas as pd\n",
    "import sklearn.cluster\n",
    "import itertools\n",
    "from IPython.display import display\n",
    "from experimental.pokerbots import hand_evaluator_python as hep, bin_centers_pb2\n"
   ]
  },
  {
   "cell_type": "code",
   "execution_count": null,
   "id": "b63d8d24",
   "metadata": {},
   "outputs": [],
   "source": [
    "data_directory = os.path.expanduser('~/code/robot/experimental/pokerbots/cluster_hands')"
   ]
  },
  {
   "cell_type": "code",
   "execution_count": null,
   "id": "bddaa22e",
   "metadata": {},
   "outputs": [],
   "source": [
    "os.listdir(data_directory)"
   ]
  },
  {
   "cell_type": "code",
   "execution_count": null,
   "id": "f553841f",
   "metadata": {},
   "outputs": [],
   "source": [
    "hole_card_data = pd.read_csv(os.path.join(data_directory, 'hole_cards_output.csv'))"
   ]
  },
  {
   "cell_type": "code",
   "execution_count": null,
   "id": "70395d72",
   "metadata": {},
   "outputs": [],
   "source": [
    "def plot_cdf(data):\n",
    "    sorted_data = sorted(data)\n",
    "    frac = np.linspace(0, 1.0, len(sorted_data))\n",
    "    plt.plot(sorted_data, frac)"
   ]
  },
  {
   "cell_type": "code",
   "execution_count": null,
   "id": "4149fc99",
   "metadata": {},
   "outputs": [],
   "source": [
    "plt.figure(figsize=(15, 5))\n",
    "plt.subplot(131)\n",
    "plot_cdf(hole_card_data['strength'])\n",
    "plt.ylabel('Fraction')\n",
    "plt.title('Strength')\n",
    "plt.subplot(132)\n",
    "plot_cdf(hole_card_data['pos_pot'])\n",
    "plt.title('Positive Potential')\n",
    "plt.subplot(133)\n",
    "plot_cdf(hole_card_data['neg_pot'])\n",
    "plt.title('Negative Potential')\n",
    "plt.tight_layout()"
   ]
  },
  {
   "cell_type": "code",
   "execution_count": null,
   "id": "d1f9f32d",
   "metadata": {},
   "outputs": [],
   "source": [
    "k_means_fit = sklearn.cluster.KMeans(n_clusters=12, n_init=20)\n",
    "hole_card_data['cluster_idx'] = k_means_fit.fit_predict(hole_card_data[['strength', 'neg_pot', 'pos_pot']])"
   ]
  },
  {
   "cell_type": "code",
   "execution_count": null,
   "id": "ccbcf3f8",
   "metadata": {},
   "outputs": [],
   "source": [
    "ax = plt.figure().add_subplot(projection='3d')\n",
    "for (i, group) in hole_card_data.groupby('cluster_idx'):\n",
    "    ax.plot(group.neg_pot, group.pos_pot, group.strength, 'o', label=i)\n",
    "plt.legend()\n",
    "ax.set_xlabel('Negative Potential')\n",
    "ax.set_ylabel('Postive Potential')\n",
    "ax.set_zlabel('Strength')\n",
    "plt.tight_layout()"
   ]
  },
  {
   "cell_type": "code",
   "execution_count": null,
   "id": "620c4654",
   "metadata": {},
   "outputs": [],
   "source": [
    "cmap(hole_card_data['cluster_idx']).T.shape"
   ]
  },
  {
   "cell_type": "code",
   "execution_count": null,
   "id": "a2f3bfd5",
   "metadata": {},
   "outputs": [],
   "source": [
    "for (i, group) in hole_card_data.groupby('cluster_idx'):\n",
    "    print('Cluster:', i)\n",
    "    print(group.mean(numeric_only=True))\n",
    "    print(list(group['card1'] + group['card2']))"
   ]
  },
  {
   "cell_type": "code",
   "execution_count": null,
   "id": "f32d90fb",
   "metadata": {},
   "outputs": [],
   "source": [
    "flop_directory = os.path.join(data_directory, 'flop_cards')\n",
    "\n",
    "flop_cards = []\n",
    "for filename in os.listdir(flop_directory):\n",
    "    flop_cards.append(pd.read_csv(os.path.join(flop_directory, filename)))\n",
    "    flop_cards[-1]['card_1'] = filename[:2]\n",
    "    flop_cards[-1]['card_2'] = filename[2:4]\n",
    "flop_cards = pd.concat(flop_cards)"
   ]
  },
  {
   "cell_type": "code",
   "execution_count": null,
   "id": "40a74d12",
   "metadata": {},
   "outputs": [],
   "source": [
    "flop_k_means = sklearn.cluster.KMeans(n_clusters=100, n_init=10)\n",
    "flop_cards['cluster_idx'] = flop_k_means.fit_predict(flop_cards[['strength', 'neg_pot', 'pos_pot']])"
   ]
  },
  {
   "cell_type": "code",
   "execution_count": null,
   "id": "9410712e",
   "metadata": {},
   "outputs": [],
   "source": [
    "for (i, group) in flop_cards.groupby('cluster_idx'):\n",
    "    print('Cluster:', i, 'length:', len(group))\n",
    "    print(group.mean(numeric_only=True))\n",
    "    display(group.sample(20))"
   ]
  },
  {
   "cell_type": "code",
   "execution_count": null,
   "id": "bbc2121e",
   "metadata": {},
   "outputs": [],
   "source": [
    "flop_cards.to_pickle(os.path.join(flop_directory, 'flop_data.p'))"
   ]
  },
  {
   "cell_type": "code",
   "execution_count": null,
   "id": "3c22beea",
   "metadata": {},
   "outputs": [],
   "source": [
    "samples = []\n",
    "SAMPLES_PER_GROUP = 5000\n",
    "for (i, group) in flop_cards.groupby('cluster_idx'):\n",
    "    sample = group.sample(5000)\n",
    "    hands = list(sample['card_1'] + sample['card_2'] + sample['board1'] + sample['board2'] + sample['board3'])\n",
    "    samples.append(hands)\n",
    "samples = list(itertools.chain(*samples))\n"
   ]
  },
  {
   "cell_type": "code",
   "execution_count": null,
   "id": "2c5745bb",
   "metadata": {},
   "outputs": [],
   "source": [
    "deck = [''.join(x) for x in itertools.product('23456789TJQKA', 'shcd')]"
   ]
  },
  {
   "cell_type": "code",
   "execution_count": null,
   "id": "9da83e33",
   "metadata": {},
   "outputs": [],
   "source": [
    "to_evaluate = []\n",
    "for hand in samples:\n",
    "    for card in deck:\n",
    "        if card in hand:\n",
    "            continue\n",
    "        to_evaluate.append(hand + card)"
   ]
  },
  {
   "cell_type": "code",
   "execution_count": null,
   "id": "cbda622b",
   "metadata": {},
   "outputs": [],
   "source": [
    "turn_results = hep.evaluate_hands(to_evaluate, 5, 1000)"
   ]
  },
  {
   "cell_type": "code",
   "execution_count": null,
   "id": "f8ae54d4",
   "metadata": {},
   "outputs": [],
   "source": [
    "turn_data = []\n",
    "for hand, result in zip(to_evaluate, turn_results):\n",
    "    turn_data.append([hand[2*i:2*i+2] for i in range(len(hand) // 2)] + [result.strength, result.negative_potential, result.positive_potential])\n",
    "turn_data = pd.DataFrame(turn_data, columns=['card1', 'card2', 'board1', 'board2', 'board3', 'board4', 'strength', 'neg_pot', 'pos_pot'])"
   ]
  },
  {
   "cell_type": "code",
   "execution_count": null,
   "id": "abfd6fa8",
   "metadata": {},
   "outputs": [],
   "source": [
    "turn_data"
   ]
  },
  {
   "cell_type": "code",
   "execution_count": null,
   "id": "b9cbb28f",
   "metadata": {},
   "outputs": [],
   "source": [
    "turn_k_means = sklearn.cluster.KMeans(n_clusters=100, n_init=10)\n",
    "turn_data['cluster_idx'] = turn_k_means.fit_predict(turn_data[['strength', 'neg_pot', 'pos_pot']])"
   ]
  },
  {
   "cell_type": "code",
   "execution_count": null,
   "id": "47004805",
   "metadata": {},
   "outputs": [],
   "source": [
    "for (i, group) in turn_data.groupby('cluster_idx'):\n",
    "    print('Cluster:', i, 'length:', len(group))\n",
    "    print(group.mean(numeric_only=True))\n",
    "    display(group.sample(20))"
   ]
  },
  {
   "cell_type": "code",
   "execution_count": null,
   "id": "efb663cc",
   "metadata": {},
   "outputs": [],
   "source": [
    "turn_data.to_pickle(os.path.join(data_directory, 'turn_data.p'))"
   ]
  },
  {
   "cell_type": "code",
   "execution_count": null,
   "id": "02713919",
   "metadata": {},
   "outputs": [],
   "source": [
    "samples = []\n",
    "SAMPLES_PER_GROUP = 5000\n",
    "for (i, group) in turn_data.groupby('cluster_idx'):\n",
    "    sample = group.sample(5000)\n",
    "    hands = list(sample['card1'] + sample['card2'] + sample['board1'] + sample['board2'] + sample['board3'] + sample['board4'])\n",
    "    samples.append(hands)\n",
    "samples = list(itertools.chain(*samples))"
   ]
  },
  {
   "cell_type": "code",
   "execution_count": null,
   "id": "4ad3b3e4",
   "metadata": {},
   "outputs": [],
   "source": [
    "deck = [''.join(x) for x in itertools.product('23456789TJQKA', 'sc')]"
   ]
  },
  {
   "cell_type": "code",
   "execution_count": null,
   "id": "ac9cdb0c",
   "metadata": {},
   "outputs": [],
   "source": [
    "to_evaluate = []\n",
    "for hand in samples:\n",
    "    for card in deck:\n",
    "        if card in hand:\n",
    "            continue\n",
    "        to_evaluate.append(hand + card)"
   ]
  },
  {
   "cell_type": "code",
   "execution_count": null,
   "id": "923adf3a",
   "metadata": {},
   "outputs": [],
   "source": [
    "len(to_evaluate)"
   ]
  },
  {
   "cell_type": "code",
   "execution_count": null,
   "id": "6452d9ab",
   "metadata": {},
   "outputs": [],
   "source": [
    "river_results = hep.evaluate_hands(to_evaluate, 5, 1000)"
   ]
  },
  {
   "cell_type": "code",
   "execution_count": null,
   "id": "6d98d59c",
   "metadata": {},
   "outputs": [],
   "source": [
    "river_data = []\n",
    "for hand, result in zip(to_evaluate, river_results):\n",
    "    river_data.append([hand[2*i:2*i+2] for i in range(len(hand) // 2)] + [result.strength, result.negative_potential, result.positive_potential])\n",
    "river_data = pd.DataFrame(river_data, columns=['card1', 'card2', 'board1', 'board2', 'board3', 'board4', 'board5', 'strength', 'neg_pot', 'pos_pot'])"
   ]
  },
  {
   "cell_type": "code",
   "execution_count": null,
   "id": "edd308fa",
   "metadata": {},
   "outputs": [],
   "source": [
    "river_k_means = sklearn.cluster.KMeans(n_clusters=100, n_init=10)\n",
    "river_data['cluster_idx'] = river_k_means.fit_predict(river_data[['strength', 'neg_pot', 'pos_pot']])"
   ]
  },
  {
   "cell_type": "code",
   "execution_count": null,
   "id": "0351eafa",
   "metadata": {},
   "outputs": [],
   "source": [
    "for (i, group) in river_data.groupby('cluster_idx'):\n",
    "    print('Cluster:', i, 'length:', len(group))\n",
    "    print(group.mean(numeric_only=True))\n",
    "    display(group.sample(20))"
   ]
  },
  {
   "cell_type": "code",
   "execution_count": null,
   "id": "fbac63cd",
   "metadata": {},
   "outputs": [],
   "source": [
    "river_data.to_pickle(os.path.join(data_directory, 'river_data.p'))"
   ]
  },
  {
   "cell_type": "code",
   "execution_count": null,
   "id": "7de0db78",
   "metadata": {},
   "outputs": [],
   "source": []
  },
  {
   "cell_type": "code",
   "execution_count": null,
   "id": "1bf87e36",
   "metadata": {},
   "outputs": [],
   "source": [
    "for (name, df) in [['preflop', hole_card_data], ['flop', flop_cards],['turn', turn_data],['river',river_data]]:\n",
    "    buckets = df.groupby('cluster_idx').apply(lambda x: x.mean(numeric_only=True))\n",
    "    buckets.to_csv(os.path.join(data_directory, name + '_buckets.csv'))"
   ]
  },
  {
   "cell_type": "code",
   "execution_count": null,
   "id": "19456f4e",
   "metadata": {},
   "outputs": [],
   "source": [
    "file_names = ['preflop_buckets.csv', 'flop_buckets.csv', 'river_buckets.csv', 'turn_buckets.csv']\n",
    "dfs = {}\n",
    "for fname in file_names:\n",
    "    dfs[fname.split('_')[0]] = pd.read_csv(os.path.join(data_directory, fname))"
   ]
  },
  {
   "cell_type": "code",
   "execution_count": null,
   "id": "fcec6592",
   "metadata": {},
   "outputs": [],
   "source": [
    "bin_centers = bin_centers_pb2.PerTurnBinCenters()\n",
    "\n",
    "for i, row in dfs['preflop'].iterrows():\n",
    "    bin_center = bin_centers_pb2.BinCenter()\n",
    "    bin_center.strength = row.strength\n",
    "    bin_center.negative_potential = row.neg_pot\n",
    "    bin_center.positive_potential = row.pos_pot\n",
    "    bin_centers.preflop_centers.append(bin_center)\n",
    "\n",
    "for i, row in dfs['flop'].iterrows():\n",
    "    bin_center = bin_centers_pb2.BinCenter()\n",
    "    bin_center.strength = row.strength\n",
    "    bin_center.negative_potential = row.neg_pot\n",
    "    bin_center.positive_potential = row.pos_pot\n",
    "    bin_centers.flop_centers.append(bin_center)\n",
    "    \n",
    "for i, row in dfs['turn'].iterrows():\n",
    "    bin_center = bin_centers_pb2.BinCenter()\n",
    "    bin_center.strength = row.strength\n",
    "    bin_center.negative_potential = row.neg_pot\n",
    "    bin_center.positive_potential = row.pos_pot\n",
    "    bin_centers.turn_centers.append(bin_center)\n",
    "    \n",
    "for i, row in dfs['river'].iterrows():\n",
    "    bin_center = bin_centers_pb2.BinCenter()\n",
    "    bin_center.strength = row.strength\n",
    "    bin_center.negative_potential = row.neg_pot\n",
    "    bin_center.positive_potential = row.pos_pot\n",
    "    bin_centers.river_centers.append(bin_center)"
   ]
  },
  {
   "cell_type": "code",
   "execution_count": null,
   "id": "584c6dfd",
   "metadata": {},
   "outputs": [],
   "source": [
    "with open('/home/erick/code/robot/experimental/pokerbots/bin_centers.pb', 'wb') as file_out:\n",
    "    file_out.write(bin_centers.SerializeToString())"
   ]
  },
  {
   "cell_type": "code",
   "execution_count": null,
   "id": "ad9e3c61",
   "metadata": {},
   "outputs": [],
   "source": []
  }
 ],
 "metadata": {
  "kernelspec": {
   "display_name": "Python 3 (ipykernel)",
   "language": "python",
   "name": "python3"
  },
  "language_info": {
   "codemirror_mode": {
    "name": "ipython",
    "version": 3
   },
   "file_extension": ".py",
   "mimetype": "text/x-python",
   "name": "python",
   "nbconvert_exporter": "python",
   "pygments_lexer": "ipython3",
   "version": "3.10.6"
  }
 },
 "nbformat": 4,
 "nbformat_minor": 5
}
