{
 "cells": [
  {
   "cell_type": "code",
   "execution_count": null,
   "id": "0",
   "metadata": {},
   "outputs": [],
   "source": [
    "%matplotlib ipympl\n",
    "import os\n",
    "\n",
    "import common.torch as torch\n",
    "import requests\n",
    "import cv2\n",
    "import supervision as sv\n",
    "from supervision.draw.color import ColorPalette\n",
    "import numpy as np\n",
    "from PIL import Image\n",
    "\n",
    "import matplotlib.pyplot as plt\n",
    "\n",
    "import experimental.overhead_matching.grounding_sam as gs\n",
    "import importlib\n",
    "importlib.reload(gs)\n",
    "\n"
   ]
  },
  {
   "cell_type": "code",
   "execution_count": null,
   "id": "1",
   "metadata": {},
   "outputs": [],
   "source": [
    "model = gs.GroundingSam()\n",
    "\n",
    "image_url = \"https://s3.us-east-1.amazonaws.com/images.cocodataset.org/train2017/000000146439.jpg\"\n",
    "image = Image.open(requests.get(image_url, stream=True).raw)\n",
    "img = np.array(image.convert('RGB'))\n",
    "\n",
    "plt.figure()\n",
    "plt.imshow(img)\n",
    "\n",
    "# VERY important: text queries need to be lowercased + end with a dot\n",
    "queries = ['cat', 'keyboard', 'piano', 'speaker']\n",
    "\n",
    "results = model.detect_queries(image = img, queries = queries)\n"
   ]
  },
  {
   "cell_type": "code",
   "execution_count": null,
   "id": "2",
   "metadata": {},
   "outputs": [],
   "source": [
    "print(results['dino_results'])\n",
    "\n",
    "results['dino_results']['boxes'][0].tolist()\n"
   ]
  },
  {
   "cell_type": "code",
   "execution_count": null,
   "id": "3",
   "metadata": {},
   "outputs": [],
   "source": [
    "\n",
    "confidences = results['dino_results'][\"scores\"].tolist()\n",
    "class_names = results['dino_results'][\"labels\"]\n",
    "class_ids = np.array(list(range(len(class_names))))\n",
    "\n",
    "labels = [\n",
    "    f\"{class_name} {confidence:.2f}\"\n",
    "    for class_name, confidence\n",
    "    in zip(class_names, confidences)\n",
    "]\n",
    "\n",
    "\"\"\"\n",
    "Visualize image with supervision useful API\n",
    "\"\"\"\n",
    "# img = cv2.imread(img_path)\n",
    "detections = sv.Detections(\n",
    "    xyxy=results['dino_results']['boxes'],  # (n, 4)\n",
    "    mask=results['sam_results']['masks'].astype(bool),  # (n, h, w)\n",
    "    class_id=class_ids\n",
    ")\n",
    "\n",
    "print(detections)\n",
    "\n",
    "\"\"\"\n",
    "Note that if you want to use default color map,\n",
    "you can set color=ColorPalette.DEFAULT\n",
    "\"\"\"\n",
    "\n",
    "bgr_img = np.array(image.convert('RGB'))\n",
    "OUTPUT_DIR = '/tmp'\n",
    "box_annotator = sv.BoxAnnotator()\n",
    "annotated_frame = box_annotator.annotate(scene=bgr_img.copy(),\n",
    "                 detections=detections)\n",
    "\n",
    "plt.figure()\n",
    "plt.imshow(annotated_frame)\n",
    "\n",
    "label_annotator = sv.LabelAnnotator()\n",
    "annotated_frame = label_annotator.annotate(scene=bgr_img.copy(),\n",
    "                           detections=detections, labels=labels)\n",
    "# cv2.imwrite(os.path.join(OUTPUT_DIR,\n",
    "# \"groundingdino_annotated_image.jpg\"), annotated_frame)\n",
    "\n",
    "\n",
    "plt.figure()\n",
    "plt.imshow(annotated_frame)\n",
    "# cv2.imwrite(os.path.join(OUTPUT_DIR,\n",
    "# \"grounded_sam2_annotated_image_with_mask.jpg\"), annotated_frame)\n"
   ]
  },
  {
   "cell_type": "code",
   "execution_count": null,
   "id": "4",
   "metadata": {},
   "outputs": [],
   "source": [
    "plt.figure()\n",
    "for i in range(len(detections)):\n",
    "    d = detections[i]\n",
    "    plt.subplot(2, 2, i+1)\n",
    "    plt.imshow(d.mask.squeeze())\n",
    "    plt.colorbar()\n",
    "    print(d.xyxy)"
   ]
  },
  {
   "cell_type": "code",
   "execution_count": null,
   "id": "5",
   "metadata": {},
   "outputs": [],
   "source": [
    "d.mask[0].nonzero()"
   ]
  },
  {
   "cell_type": "code",
   "execution_count": null,
   "id": "6",
   "metadata": {},
   "outputs": [],
   "source": []
  }
 ],
 "metadata": {
  "kernelspec": {
   "display_name": "Python 3 (ipykernel)",
   "language": "python",
   "name": "python3"
  },
  "language_info": {
   "codemirror_mode": {
    "name": "ipython",
    "version": 3
   },
   "file_extension": ".py",
   "mimetype": "text/x-python",
   "name": "python",
   "nbconvert_exporter": "python",
   "pygments_lexer": "ipython3",
   "version": "3.10.15"
  }
 },
 "nbformat": 4,
 "nbformat_minor": 5
}
